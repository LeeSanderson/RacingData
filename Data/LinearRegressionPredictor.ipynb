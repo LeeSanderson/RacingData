{
 "cells": [
  {
   "cell_type": "code",
   "execution_count": 1,
   "metadata": {},
   "outputs": [],
   "source": [
    "# %pip install --quiet --upgrade pip \n",
    "# %pip install numpy --quiet\n",
    "# %pip install Pandas --quiet\n",
    "# %pip install sklearn --quiet\n",
    "# %pip install ipywidgets --quiet"
   ]
  },
  {
   "cell_type": "markdown",
   "metadata": {},
   "source": [
    "# Horse Racing Results Predictor using Linear regression #\n",
    "\n",
    "Predict `TodaysRaceCard.csv` using simple linear regression techniques by determining predicted **speed** of a horse in a given race based on its previous performance. \n",
    "\n",
    "Data used here is derived from the features extracted by the [Feature Analysis](https://github.com/LeeSanderson/RacingData/blob/main/Data/FeatureAnalysis.ipynb) notebook."
   ]
  },
  {
   "cell_type": "markdown",
   "metadata": {},
   "source": [
    "## Build the model ##"
   ]
  },
  {
   "cell_type": "code",
   "execution_count": 2,
   "metadata": {},
   "outputs": [
    {
     "name": "stderr",
     "output_type": "stream",
     "text": [
      "C:\\Users\\leeco\\AppData\\Local\\Temp\\ipykernel_37300\\3448839828.py:2: DeprecationWarning: \n",
      "Pyarrow will become a required dependency of pandas in the next major release of pandas (pandas 3.0),\n",
      "(to allow more performant data types, such as the Arrow string type, and better interoperability with other libraries)\n",
      "but was not found to be installed on your system.\n",
      "If this would cause problems for you,\n",
      "please provide us feedback at https://github.com/pandas-dev/pandas/issues/54466\n",
      "        \n",
      "  import pandas as pd\n"
     ]
    }
   ],
   "source": [
    "import numpy as np\n",
    "import pandas as pd\n",
    "import math\n",
    "from abc import ABC, abstractmethod\n",
    "from datetime import datetime, date"
   ]
  },
  {
   "cell_type": "code",
   "execution_count": 3,
   "metadata": {},
   "outputs": [
    {
     "data": {
      "text/plain": [
       "Index(['RaceId', 'CourseId', 'RaceType', 'Off', 'DecimalOdds',\n",
       "       'OfficialRating', 'RacingPostRating', 'TopSpeedRating',\n",
       "       'DistanceInMeters', 'Going', 'Surface', 'HorseId', 'HorseName',\n",
       "       'JockeyId', 'JockeyName', 'Age', 'HeadGear', 'RaceCardNumber',\n",
       "       'StallNumber', 'WeightInPounds', 'FinishingPosition',\n",
       "       'OverallBeatenDistance', 'RaceTimeInSeconds', 'Wins',\n",
       "       'Surface_AllWeather', 'Surface_Dirt', 'Surface_Turf', 'Going_Firm',\n",
       "       'Going_Good', 'Going_Good_To_Firm', 'Going_Good_To_Soft', 'Going_Heavy',\n",
       "       'Going_Soft', 'RaceType_Flat', 'RaceType_Hurdle', 'RaceType_Other',\n",
       "       'RaceType_SteepleChase', 'Speed', 'HorseCount', 'KnownHorseAndJockey',\n",
       "       'NumberOfPriorRaces', 'LastRaceGoing', 'LastRaceSurface',\n",
       "       'LastRaceDistanceInMeters', 'LastRaceWeightInPounds', 'LastRaceSpeed',\n",
       "       'DaysRested', 'LastRaceDecimalOdds', 'LastRaceOfficialRating',\n",
       "       'LastRaceRacingPostRating', 'LastRaceTopSpeedRating',\n",
       "       'LastRaceAvgRelFinishingPosition', 'LastRaceSurface_AllWeather',\n",
       "       'LastRaceSurface_Dirt', 'LastRaceSurface_Turf', 'LastRaceGoing_Good',\n",
       "       'LastRaceGoing_Good_To_Soft', 'LastRaceGoing_Soft',\n",
       "       'LastRaceGoing_Good_To_Firm', 'LastRaceGoing_Firm',\n",
       "       'LastRaceGoing_Heavy', 'LastRaceRaceType_Other',\n",
       "       'LastRaceRaceType_Hurdle', 'LastRaceRaceType_SteepleChase',\n",
       "       'LastRaceRaceType_Flat', 'JockeyNumberOfPriorRaces',\n",
       "       'DaysSinceJockeyLastRaced', 'JockeyWinPercentage',\n",
       "       'JockeyTop3Percentage', 'JockeyAvgRelFinishingPosition'],\n",
       "      dtype='object')"
      ]
     },
     "execution_count": 3,
     "metadata": {},
     "output_type": "execute_result"
    }
   ],
   "source": [
    "races = pd.read_csv(\"Race_Features.csv\")\n",
    "races['Off'] =  pd.to_datetime(races['Off'], format='%Y-%m-%d %H:%M:%S')\n",
    "races.columns"
   ]
  },
  {
   "cell_type": "code",
   "execution_count": 4,
   "metadata": {},
   "outputs": [],
   "source": [
    "pd.set_option('display.max_rows', 500)\n",
    "pd.set_option('display.max_columns', 500)\n",
    "\n",
    "race_info = ['RaceId', 'CourseId', 'Off', 'HorseId', 'HorseName', 'HorseCount', 'JockeyId', 'JockeyName', 'DecimalOdds', 'Wins', 'FinishingPosition']\n",
    "predictors = ([\n",
    "    'DistanceInMeters', \n",
    "    'WeightInPounds', \n",
    "    'Surface_AllWeather', 'Surface_Dirt', 'Surface_Turf', \n",
    "    'Going_Firm', 'Going_Good', 'Going_Good_To_Firm', 'Going_Good_To_Soft', 'Going_Heavy', 'Going_Soft', \n",
    "    'RaceType_Flat', 'RaceType_Hurdle', 'RaceType_Other', 'RaceType_SteepleChase', \n",
    "\n",
    "    'LastRaceDistanceInMeters', \n",
    "    'LastRaceWeightInPounds', \n",
    "    'LastRaceSpeed',\n",
    "    'DaysRested',\n",
    "    'LastRaceAvgRelFinishingPosition', \n",
    "    'LastRaceSurface_AllWeather', 'LastRaceSurface_Dirt', 'LastRaceSurface_Turf', \n",
    "    'LastRaceGoing_Good', 'LastRaceGoing_Good_To_Soft', 'LastRaceGoing_Soft', 'LastRaceGoing_Good_To_Firm', 'LastRaceGoing_Firm', 'LastRaceGoing_Heavy', \n",
    "    'LastRaceRaceType_Other', 'LastRaceRaceType_Hurdle', 'LastRaceRaceType_SteepleChase', 'LastRaceRaceType_Flat', \n",
    "    \n",
    "    'JockeyNumberOfPriorRaces',\n",
    "    'DaysSinceJockeyLastRaced',     \n",
    "    'JockeyWinPercentage',\n",
    "    'JockeyTop3Percentage',\n",
    "    'JockeyAvgRelFinishingPosition'\n",
    "    ])\n",
    "prediction = [\"Speed\"]\n",
    "\n",
    "train = races[race_info + predictors + prediction].dropna().copy()"
   ]
  },
  {
   "cell_type": "code",
   "execution_count": 5,
   "metadata": {},
   "outputs": [],
   "source": [
    "# Cap rested days\n",
    "train.loc[train[\"DaysRested\"] > 10, \"DaysRested\"] = 10\n",
    "train.loc[train[\"DaysSinceJockeyLastRaced\"] > 10, \"DaysSinceJockeyLastRaced\"] = 10\n",
    "\n",
    "# Cap prior races\n",
    "# train.loc[train[\"JockeyNumberOfPriorRaces\"] > 400] = 400 (negative effect)"
   ]
  },
  {
   "cell_type": "code",
   "execution_count": 9,
   "metadata": {},
   "outputs": [
    {
     "name": "stdout",
     "output_type": "stream",
     "text": [
      "Possible predictable races = 4833 out of 44561 (10.845806871479544%)\n"
     ]
    }
   ],
   "source": [
    "# Now that we've dropped any rows with na values, calculate which races in which we can predict the speed for all horses.\n",
    "train = train.drop(\"PredictableHorseCount\", axis=1, errors='ignore')\n",
    "groups = train.groupby(['RaceId'])['HorseId'].agg(['count']).rename(columns={'count': 'PredictableHorseCount'})\n",
    "train = pd.merge(train, groups, how='left', on=['RaceId'])\n",
    "\n",
    "# 50% of races have 11 horse, 25% have 8 or less, 14% have 6 or less, 9% have 5 or less. Fewer horses should be more predictable\n",
    "all_races_count = len(races[\"RaceId\"].unique())\n",
    "all_predictable = train[(train[\"HorseCount\"] == train[\"PredictableHorseCount\"]) & (train[\"HorseCount\"] <= 5)][\"RaceId\"].unique().tolist()\n",
    "all_predictable_count = len(all_predictable)\n",
    "print(f\"Possible predictable races = {all_predictable_count} out of {all_races_count} ({all_predictable_count * 100 / all_races_count}%)\")"
   ]
  },
  {
   "cell_type": "code",
   "execution_count": 10,
   "metadata": {},
   "outputs": [],
   "source": [
    "from sklearn.model_selection import train_test_split\n",
    "\n",
    "_, test_race_ids = train_test_split(all_predictable, test_size=0.2, random_state = 42)\n",
    "\n",
    "test = train[train[\"RaceId\"].isin(test_race_ids)]\n",
    "train = train[train[\"RaceId\"].isin(test_race_ids) == False]"
   ]
  },
  {
   "cell_type": "code",
   "execution_count": 11,
   "metadata": {},
   "outputs": [],
   "source": [
    "from sklearn.linear_model import Ridge\n",
    "from sklearn.preprocessing import StandardScaler\n",
    "from sklearn.preprocessing import PolynomialFeatures\n",
    "from sklearn.pipeline import make_pipeline\n",
    "\n",
    "# Create a pipeline that includes feature scaling and linear regression\n",
    "model = make_pipeline(StandardScaler(), PolynomialFeatures(degree=2, interaction_only=False), Ridge())"
   ]
  },
  {
   "cell_type": "code",
   "execution_count": 12,
   "metadata": {},
   "outputs": [],
   "source": [
    "inputs = train[predictors]\n",
    "targets = train[prediction[0]].values"
   ]
  },
  {
   "cell_type": "code",
   "execution_count": 13,
   "metadata": {},
   "outputs": [],
   "source": [
    "model.fit(inputs, targets)\n",
    "test_inputs = test[predictors]\n",
    "predictions = model.predict(test_inputs)"
   ]
  },
  {
   "cell_type": "code",
   "execution_count": 14,
   "metadata": {},
   "outputs": [],
   "source": [
    "test_with_predictions = test.copy()\n",
    "test_with_predictions[\"PredictedSpeed\"] = predictions"
   ]
  },
  {
   "cell_type": "code",
   "execution_count": 15,
   "metadata": {},
   "outputs": [],
   "source": [
    "test_with_predictions[\"PredictedRank\"] = test_with_predictions.groupby(\"RaceId\")[\"PredictedSpeed\"].rank(method=\"dense\", ascending=False)"
   ]
  },
  {
   "cell_type": "code",
   "execution_count": 16,
   "metadata": {},
   "outputs": [
    {
     "name": "stdout",
     "output_type": "stream",
     "text": [
      "Correct winners 310, Incorrect winners 658\n",
      "Win percentage 32.02479338842975\n",
      "Winnings 1041.588480963481, losses 658, diff  383.58848096348106\n"
     ]
    }
   ],
   "source": [
    "correct_winners = test_with_predictions[(test_with_predictions[\"FinishingPosition\"] == 1) & (test_with_predictions[\"PredictedRank\"] == 1)]\n",
    "\n",
    "correct_winners_count = len(correct_winners)\n",
    "incorrect_winners_count = len(test_with_predictions[(test_with_predictions[\"FinishingPosition\"] == 1) & (test_with_predictions[\"PredictedRank\"] != 1)])\n",
    "\n",
    "winnings = correct_winners[\"DecimalOdds\"].sum()\n",
    "win_percentage = 100.0 * correct_winners_count / (correct_winners_count + incorrect_winners_count)\n",
    "\n",
    "print(f\"Correct winners {correct_winners_count}, Incorrect winners {incorrect_winners_count}\")\n",
    "print(f\"Win percentage {win_percentage}\")\n",
    "print(f\"Winnings {winnings}, losses {incorrect_winners_count}, diff  {winnings - incorrect_winners_count}\")\n",
    "\n",
    "if win_percentage < 30:\n",
    "    raise ValueError(\"Prediction rate too low\")"
   ]
  },
  {
   "cell_type": "markdown",
   "metadata": {},
   "source": [
    "## Predictions ##"
   ]
  },
  {
   "cell_type": "code",
   "execution_count": 56,
   "metadata": {},
   "outputs": [
    {
     "data": {
      "text/plain": [
       "Index(['RaceId', 'RaceName', 'CourseId', 'CourseName', 'Off', 'RaceType',\n",
       "       'Class', 'Pattern', 'RatingBand', 'AgeBand', 'SexRestriction',\n",
       "       'Distance', 'DistanceInFurlongs', 'DistanceInMeters', 'DistanceInYards',\n",
       "       'Going', 'Surface', 'HorseId', 'HorseName', 'JockeyId', 'JockeyName',\n",
       "       'TrainerId', 'TrainerName', 'Age', 'HeadGear', 'RaceCardNumber',\n",
       "       'StallNumber', 'Weight', 'WeightInPounds', 'FractionalOdds',\n",
       "       'DecimalOdds', 'OfficialRating', 'RacingPostRating', 'TopSpeedRating'],\n",
       "      dtype='object')"
      ]
     },
     "execution_count": 56,
     "metadata": {},
     "output_type": "execute_result"
    }
   ],
   "source": [
    "todays_races = pd.read_csv(\"TodaysRaceCards.csv\")\n",
    "todays_races['Off'] =  pd.to_datetime(todays_races['Off'], format='%m/%d/%Y %H:%M:%S')\n",
    "todays_races.columns"
   ]
  },
  {
   "cell_type": "markdown",
   "metadata": {},
   "source": [
    "### Expand categorical variables"
   ]
  },
  {
   "cell_type": "code",
   "execution_count": 57,
   "metadata": {},
   "outputs": [
    {
     "data": {
      "text/plain": [
       "Surface_AllWeather  Surface_Dirt  Surface_Turf\n",
       "1.0                 0.0           0.0             128\n",
       "0.0                 0.0           1.0              46\n",
       "Name: count, dtype: int64"
      ]
     },
     "execution_count": 57,
     "metadata": {},
     "output_type": "execute_result"
    }
   ],
   "source": [
    "surface_categories = [\"Surface_AllWeather\", \"Surface_Dirt\", \"Surface_Turf\"]\n",
    "todays_races = todays_races.drop(surface_categories + [\"Surface_Unknown\"], axis=1, errors='ignore')\n",
    "todays_races[\"SurfaceTemp\"] = todays_races[\"Surface\"]\n",
    "todays_races = pd.get_dummies(todays_races, prefix=\"Surface\", columns=[\"SurfaceTemp\"], dtype=float)\n",
    "todays_races = todays_races.drop(\"Surface_Unknown\", axis=1, errors='ignore') # Drop unknown surface as only small number.\n",
    "for surface in surface_categories:\n",
    "    todays_races[surface] = todays_races.get(surface, 0.0)\n",
    "todays_races[surface_categories].value_counts()"
   ]
  },
  {
   "cell_type": "code",
   "execution_count": 58,
   "metadata": {},
   "outputs": [],
   "source": [
    "# Normalise going based on rules here: https://www.racingpost.com/guide-to-racing/what-is-the-going-ann7h6W6VB3b/\n",
    "# Values should be: Firm, Good_To_Firm, Good, Good_To_Soft, Soft, Heavy\n",
    "norm_map = ({\n",
    "    \"Good\": \"Good\", \n",
    "    \"Standard\": \"Good\",\n",
    "    \"Soft\": \"Soft\",\n",
    "    \"Good To Soft\": \"Good_To_Soft\",\n",
    "    \"Good To Firm\": \"Good_To_Firm\",\n",
    "    \"Heavy\": \"Heavy\",\n",
    "    \"Good To Yielding\": \"Good_To_Soft\",    \n",
    "    \"Yielding\": \"Good_To_Soft\",\n",
    "    \"Standard To Slow\": \"Good_To_Soft\",  \n",
    "    \"Very Soft\": \"Heavy\",\n",
    "    \"Fast\": \"Firm\",\n",
    "    \"Firm\": \"Firm\",\n",
    "    \"Soft To Heavy\": \"Heavy\",    \n",
    "    \"Yielding To Soft\": \"Soft\",\n",
    "    \"Slow\": \"Soft\",\n",
    "    \"Sloppy\": \"Heavy\",\n",
    "    \"Muddy\": \"Heavy\",\n",
    "    \"Frozen\": \"Heavy\"\n",
    "})\n",
    "\n",
    "todays_races[\"NormGoing\"] = todays_races[\"Going\"].map(norm_map)"
   ]
  },
  {
   "cell_type": "code",
   "execution_count": 59,
   "metadata": {},
   "outputs": [
    {
     "data": {
      "text/plain": [
       "Going_Good  Going_Good_To_Soft  Going_Soft  Going_Good_To_Firm  Going_Firm  Going_Heavy\n",
       "1.0         0.0                 0.0         0.0                 0.0         0.0            128\n",
       "0.0         0.0                 0.0         0.0                 0.0         1.0             46\n",
       "Name: count, dtype: int64"
      ]
     },
     "execution_count": 59,
     "metadata": {},
     "output_type": "execute_result"
    }
   ],
   "source": [
    "going_categories  = [\"Going_Good\", \"Going_Good_To_Soft\", \"Going_Soft\", \"Going_Good_To_Firm\", \"Going_Firm\", \"Going_Heavy\"]\n",
    "todays_races = todays_races.drop(going_categories, axis=1, errors='ignore')\n",
    "todays_races = pd.get_dummies(todays_races, prefix=\"Going\", columns=[\"NormGoing\"], dtype=float)\n",
    "for going in going_categories:\n",
    "    todays_races[going] = todays_races.get(going, 0.0)\n",
    "\n",
    "todays_races[going_categories].value_counts()"
   ]
  },
  {
   "cell_type": "code",
   "execution_count": 60,
   "metadata": {},
   "outputs": [
    {
     "data": {
      "text/plain": [
       "RaceType_Other  RaceType_Hurdle  RaceType_SteepleChase  RaceType_Flat\n",
       "1.0             0.0              0.0                    0.0              128\n",
       "0.0             1.0              0.0                    0.0               31\n",
       "                0.0              1.0                    0.0               15\n",
       "Name: count, dtype: int64"
      ]
     },
     "execution_count": 60,
     "metadata": {},
     "output_type": "execute_result"
    }
   ],
   "source": [
    "race_type_categories = [\"RaceType_Other\", \"RaceType_Hurdle\", \"RaceType_SteepleChase\", \"RaceType_Flat\"]\n",
    "todays_races = todays_races.drop(race_type_categories, axis=1, errors='ignore')\n",
    "todays_races[\"RaceTypeTemp\"] = todays_races[\"RaceType\"]\n",
    "todays_races = pd.get_dummies(todays_races, prefix=\"RaceType\", columns=[\"RaceTypeTemp\"], dtype=float)\n",
    "for race_type in race_type_categories:\n",
    "    todays_races[race_type] = todays_races.get(race_type, 0.0)\n",
    "\n",
    "todays_races[race_type_categories].value_counts()"
   ]
  },
  {
   "cell_type": "code",
   "execution_count": 61,
   "metadata": {},
   "outputs": [
    {
     "data": {
      "text/plain": [
       "Index(['RaceId', 'RaceName', 'CourseId', 'CourseName', 'Off', 'RaceType',\n",
       "       'Class', 'Pattern', 'RatingBand', 'AgeBand', 'SexRestriction',\n",
       "       'Distance', 'DistanceInFurlongs', 'DistanceInMeters', 'DistanceInYards',\n",
       "       'Going', 'Surface', 'HorseId', 'HorseName', 'JockeyId', 'JockeyName',\n",
       "       'TrainerId', 'TrainerName', 'Age', 'HeadGear', 'RaceCardNumber',\n",
       "       'StallNumber', 'Weight', 'WeightInPounds', 'FractionalOdds',\n",
       "       'DecimalOdds', 'OfficialRating', 'RacingPostRating', 'TopSpeedRating',\n",
       "       'Surface_AllWeather', 'Surface_Turf', 'Surface_Dirt', 'Going_Good',\n",
       "       'Going_Heavy', 'Going_Good_To_Soft', 'Going_Soft', 'Going_Good_To_Firm',\n",
       "       'Going_Firm', 'RaceType_Hurdle', 'RaceType_Other',\n",
       "       'RaceType_SteepleChase', 'RaceType_Flat'],\n",
       "      dtype='object')"
      ]
     },
     "execution_count": 61,
     "metadata": {},
     "output_type": "execute_result"
    }
   ],
   "source": [
    "todays_races.columns"
   ]
  },
  {
   "cell_type": "markdown",
   "metadata": {},
   "source": [
    "### Load horse stats"
   ]
  },
  {
   "cell_type": "code",
   "execution_count": 62,
   "metadata": {},
   "outputs": [
    {
     "data": {
      "text/plain": [
       "Index(['HorseId', 'LastOff', 'LastRaceDistanceInMeters',\n",
       "       'LastRaceWeightInPounds', 'LastRaceAvgRelFinishingPosition',\n",
       "       'LastRaceSurface_AllWeather', 'LastRaceSurface_Dirt',\n",
       "       'LastRaceSurface_Turf', 'LastRaceGoing_Firm', 'LastRaceGoing_Good',\n",
       "       'LastRaceGoing_Good_To_Firm', 'LastRaceGoing_Good_To_Soft',\n",
       "       'LastRaceGoing_Heavy', 'LastRaceGoing_Soft', 'LastRaceRaceType_Flat',\n",
       "       'LastRaceRaceType_Hurdle', 'LastRaceRaceType_Other',\n",
       "       'LastRaceRaceType_SteepleChase', 'LastRaceSpeed'],\n",
       "      dtype='object')"
      ]
     },
     "execution_count": 62,
     "metadata": {},
     "output_type": "execute_result"
    }
   ],
   "source": [
    "horse_stats = pd.read_csv(\"Horse_Stats.csv\")\n",
    "horse_stats['LastOff'] =  pd.to_datetime(horse_stats['LastOff'], format='%Y-%m-%d %H:%M:%S')\n",
    "horse_stats.columns"
   ]
  },
  {
   "cell_type": "code",
   "execution_count": 63,
   "metadata": {},
   "outputs": [],
   "source": [
    "todays_races = pd.merge(todays_races, horse_stats, how=\"left\", on=[\"HorseId\"])"
   ]
  },
  {
   "cell_type": "code",
   "execution_count": 64,
   "metadata": {},
   "outputs": [],
   "source": [
    "today = np.datetime64(datetime.today())\n",
    "one_day = np.timedelta64(1, 'D')\n",
    "todays_races[\"DaysRested\"] = np.ceil((today - todays_races[\"LastOff\"]) / one_day)\n",
    "todays_races.loc[todays_races[\"DaysRested\"] > 10, \"DaysRested\"] = 10\n",
    "todays_races = todays_races.drop(\"LastOff\", axis=1, errors='ignore')"
   ]
  },
  {
   "cell_type": "code",
   "execution_count": 65,
   "metadata": {},
   "outputs": [],
   "source": [
    "groups = todays_races.groupby(['RaceId'])['HorseId'].agg(['count']).rename(columns={'count': 'HorseCount'})\n",
    "todays_races = pd.merge(todays_races, groups, how='left', on=['RaceId'])"
   ]
  },
  {
   "cell_type": "markdown",
   "metadata": {},
   "source": [
    "### Load jockey stats"
   ]
  },
  {
   "cell_type": "code",
   "execution_count": 66,
   "metadata": {},
   "outputs": [
    {
     "data": {
      "text/plain": [
       "Index(['JockeyId', 'LastOff', 'JockeyNumberOfPriorRaces',\n",
       "       'JockeyWinPercentage', 'JockeyTop3Percentage',\n",
       "       'JockeyAvgRelFinishingPosition'],\n",
       "      dtype='object')"
      ]
     },
     "execution_count": 66,
     "metadata": {},
     "output_type": "execute_result"
    }
   ],
   "source": [
    "jockey_stats = pd.read_csv(\"Jockey_Stats.csv\")\n",
    "jockey_stats['LastOff'] =  pd.to_datetime(jockey_stats['LastOff'], format='%Y-%m-%d %H:%M:%S')\n",
    "jockey_stats.columns"
   ]
  },
  {
   "cell_type": "code",
   "execution_count": 67,
   "metadata": {},
   "outputs": [],
   "source": [
    "todays_races = pd.merge(todays_races, jockey_stats, how=\"left\", on=[\"JockeyId\"])"
   ]
  },
  {
   "cell_type": "code",
   "execution_count": 68,
   "metadata": {},
   "outputs": [],
   "source": [
    "todays_races[\"DaysSinceJockeyLastRaced\"] = np.ceil((today - todays_races[\"LastOff\"]) / one_day)\n",
    "todays_races.loc[todays_races[\"DaysSinceJockeyLastRaced\"] > 10, \"DaysSinceJockeyLastRaced\"] = 10\n",
    "todays_races = todays_races.drop(\"LastOff\", axis=1, errors='ignore')"
   ]
  },
  {
   "cell_type": "markdown",
   "metadata": {},
   "source": [
    "### Eliminate races that cannot be reliably predicted"
   ]
  },
  {
   "cell_type": "code",
   "execution_count": 69,
   "metadata": {},
   "outputs": [
    {
     "data": {
      "text/plain": [
       "Index(['RaceId', 'RaceName', 'CourseId', 'CourseName', 'Off', 'RaceType',\n",
       "       'Class', 'Pattern', 'RatingBand', 'AgeBand', 'SexRestriction',\n",
       "       'Distance', 'DistanceInFurlongs', 'DistanceInMeters', 'DistanceInYards',\n",
       "       'Going', 'Surface', 'HorseId', 'HorseName', 'JockeyId', 'JockeyName',\n",
       "       'TrainerId', 'TrainerName', 'Age', 'HeadGear', 'RaceCardNumber',\n",
       "       'StallNumber', 'Weight', 'WeightInPounds', 'FractionalOdds',\n",
       "       'DecimalOdds', 'OfficialRating', 'RacingPostRating', 'TopSpeedRating',\n",
       "       'Surface_AllWeather', 'Surface_Turf', 'Surface_Dirt', 'Going_Good',\n",
       "       'Going_Heavy', 'Going_Good_To_Soft', 'Going_Soft', 'Going_Good_To_Firm',\n",
       "       'Going_Firm', 'RaceType_Hurdle', 'RaceType_Other',\n",
       "       'RaceType_SteepleChase', 'RaceType_Flat', 'LastRaceDistanceInMeters',\n",
       "       'LastRaceWeightInPounds', 'LastRaceAvgRelFinishingPosition',\n",
       "       'LastRaceSurface_AllWeather', 'LastRaceSurface_Dirt',\n",
       "       'LastRaceSurface_Turf', 'LastRaceGoing_Firm', 'LastRaceGoing_Good',\n",
       "       'LastRaceGoing_Good_To_Firm', 'LastRaceGoing_Good_To_Soft',\n",
       "       'LastRaceGoing_Heavy', 'LastRaceGoing_Soft', 'LastRaceRaceType_Flat',\n",
       "       'LastRaceRaceType_Hurdle', 'LastRaceRaceType_Other',\n",
       "       'LastRaceRaceType_SteepleChase', 'LastRaceSpeed', 'DaysRested',\n",
       "       'HorseCount', 'JockeyNumberOfPriorRaces', 'JockeyWinPercentage',\n",
       "       'JockeyTop3Percentage', 'JockeyAvgRelFinishingPosition',\n",
       "       'DaysSinceJockeyLastRaced'],\n",
       "      dtype='object')"
      ]
     },
     "execution_count": 69,
     "metadata": {},
     "output_type": "execute_result"
    }
   ],
   "source": [
    "todays_races.columns"
   ]
  },
  {
   "cell_type": "code",
   "execution_count": 72,
   "metadata": {},
   "outputs": [
    {
     "data": {
      "text/plain": [
       "<Axes: >"
      ]
     },
     "execution_count": 72,
     "metadata": {},
     "output_type": "execute_result"
    },
    {
     "data": {
      "image/png": "[encoded data removed]",
      "text/plain": [
       "<Figure size 640x480 with 1 Axes>"
      ]
     },
     "metadata": {},
     "output_type": "display_data"
    }
   ],
   "source": [
    "race_info = ['RaceId', 'CourseId', 'CourseName', 'Off', 'HorseId', 'HorseName', 'HorseCount', 'JockeyId', 'JockeyName']\n",
    "\n",
    "races_to_predict = todays_races[race_info + predictors].dropna().copy()\n",
    "\n",
    "max_horses_in_race = races_to_predict[\"HorseCount\"].max()\n",
    "races_to_predict['HorseCount'].hist(bins=max_horses_in_race)"
   ]
  },
  {
   "cell_type": "code",
   "execution_count": 75,
   "metadata": {},
   "outputs": [
    {
     "data": {
      "text/plain": [
       "<Axes: >"
      ]
     },
     "execution_count": 75,
     "metadata": {},
     "output_type": "execute_result"
    },
    {
     "data": {
      "image/png": "[encoded data removed]",
      "text/plain": [
       "<Figure size 640x480 with 1 Axes>"
      ]
     },
     "metadata": {},
     "output_type": "display_data"
    }
   ],
   "source": [
    "if len(races_to_predict) > 0:\n",
    "    # Now that we've dropped any rows with na values, calculate which races in which we can predict the speed for all horses.\n",
    "    races_to_predict = races_to_predict.drop(\"PredictableHorseCount\", axis=1, errors='ignore')\n",
    "    groups = races_to_predict.groupby(['RaceId'])['HorseId'].agg(['count']).rename(columns={'count': 'PredictableHorseCount'})\n",
    "    races_to_predict = pd.merge(races_to_predict, groups, how='left', on=['RaceId'])\n",
    "    races_to_predict = races_to_predict[(races_to_predict[\"HorseCount\"] == races_to_predict[\"PredictableHorseCount\"]) & (races_to_predict[\"HorseCount\"] <= 10)]\n",
    "\n",
    "max_horses_in_race = races_to_predict[\"HorseCount\"].max()\n",
    "races_to_predict['HorseCount'].hist(bins=max_horses_in_race)"
   ]
  },
  {
   "cell_type": "code",
   "execution_count": 76,
   "metadata": {},
   "outputs": [],
   "source": [
    "test_inputs = races_to_predict[predictors]\n",
    "predictions = model.predict(test_inputs)\n",
    "races_to_predict[\"PredictedSpeed\"] = predictions"
   ]
  },
  {
   "cell_type": "code",
   "execution_count": 77,
   "metadata": {},
   "outputs": [],
   "source": [
    "races_to_predict[\"PredictedRank\"] = races_to_predict.groupby(\"RaceId\")[\"PredictedSpeed\"].rank(method=\"dense\", ascending=False)"
   ]
  },
  {
   "cell_type": "code",
   "execution_count": 78,
   "metadata": {},
   "outputs": [
    {
     "data": {
      "text/html": [
       "<div>\n",
       "<style scoped>\n",
       "    .dataframe tbody tr th:only-of-type {\n",
       "        vertical-align: middle;\n",
       "    }\n",
       "\n",
       "    .dataframe tbody tr th {\n",
       "        vertical-align: top;\n",
       "    }\n",
       "\n",
       "    .dataframe thead th {\n",
       "        text-align: right;\n",
       "    }\n",
       "</style>\n",
       "<table border=\"1\" class=\"dataframe\">\n",
       "  <thead>\n",
       "    <tr style=\"text-align: right;\">\n",
       "      <th></th>\n",
       "      <th>RaceId</th>\n",
       "      <th>CourseId</th>\n",
       "      <th>CourseName</th>\n",
       "      <th>Off</th>\n",
       "      <th>HorseId</th>\n",
       "      <th>HorseName</th>\n",
       "    </tr>\n",
       "  </thead>\n",
       "  <tbody>\n",
       "    <tr>\n",
       "      <th>36</th>\n",
       "      <td>859208</td>\n",
       "      <td>8</td>\n",
       "      <td>Carlisle</td>\n",
       "      <td>2024-02-19 14:00:00</td>\n",
       "      <td>4853584</td>\n",
       "      <td>Get A Superstar</td>\n",
       "    </tr>\n",
       "    <tr>\n",
       "      <th>46</th>\n",
       "      <td>859207</td>\n",
       "      <td>8</td>\n",
       "      <td>Carlisle</td>\n",
       "      <td>2024-02-19 14:30:00</td>\n",
       "      <td>4658876</td>\n",
       "      <td>Jagwar</td>\n",
       "    </tr>\n",
       "    <tr>\n",
       "      <th>50</th>\n",
       "      <td>859204</td>\n",
       "      <td>8</td>\n",
       "      <td>Carlisle</td>\n",
       "      <td>2024-02-19 15:00:00</td>\n",
       "      <td>2591996</td>\n",
       "      <td>Fiston De Becon</td>\n",
       "    </tr>\n",
       "    <tr>\n",
       "      <th>55</th>\n",
       "      <td>859206</td>\n",
       "      <td>8</td>\n",
       "      <td>Carlisle</td>\n",
       "      <td>2024-02-19 15:30:00</td>\n",
       "      <td>5202347</td>\n",
       "      <td>R S Ambush</td>\n",
       "    </tr>\n",
       "    <tr>\n",
       "      <th>67</th>\n",
       "      <td>859202</td>\n",
       "      <td>8</td>\n",
       "      <td>Carlisle</td>\n",
       "      <td>2024-02-19 16:00:00</td>\n",
       "      <td>3538526</td>\n",
       "      <td>East Street</td>\n",
       "    </tr>\n",
       "    <tr>\n",
       "      <th>73</th>\n",
       "      <td>859203</td>\n",
       "      <td>8</td>\n",
       "      <td>Carlisle</td>\n",
       "      <td>2024-02-19 16:35:00</td>\n",
       "      <td>4853677</td>\n",
       "      <td>Booster Bob</td>\n",
       "    </tr>\n",
       "    <tr>\n",
       "      <th>78</th>\n",
       "      <td>859205</td>\n",
       "      <td>8</td>\n",
       "      <td>Carlisle</td>\n",
       "      <td>2024-02-19 17:10:00</td>\n",
       "      <td>3254677</td>\n",
       "      <td>Kiss My Face</td>\n",
       "    </tr>\n",
       "    <tr>\n",
       "      <th>1</th>\n",
       "      <td>859363</td>\n",
       "      <td>393</td>\n",
       "      <td>Lingfield (AW)</td>\n",
       "      <td>2024-02-19 13:17:00</td>\n",
       "      <td>4826976</td>\n",
       "      <td>Hatadora</td>\n",
       "    </tr>\n",
       "    <tr>\n",
       "      <th>7</th>\n",
       "      <td>859358</td>\n",
       "      <td>393</td>\n",
       "      <td>Lingfield (AW)</td>\n",
       "      <td>2024-02-19 13:47:00</td>\n",
       "      <td>4346562</td>\n",
       "      <td>McLean House</td>\n",
       "    </tr>\n",
       "    <tr>\n",
       "      <th>17</th>\n",
       "      <td>859364</td>\n",
       "      <td>393</td>\n",
       "      <td>Lingfield (AW)</td>\n",
       "      <td>2024-02-19 14:47:00</td>\n",
       "      <td>5154274</td>\n",
       "      <td>Gogo Yubari</td>\n",
       "    </tr>\n",
       "    <tr>\n",
       "      <th>28</th>\n",
       "      <td>859362</td>\n",
       "      <td>393</td>\n",
       "      <td>Lingfield (AW)</td>\n",
       "      <td>2024-02-19 15:17:00</td>\n",
       "      <td>3207177</td>\n",
       "      <td>Sunset In Paris</td>\n",
       "    </tr>\n",
       "    <tr>\n",
       "      <th>30</th>\n",
       "      <td>861521</td>\n",
       "      <td>393</td>\n",
       "      <td>Lingfield (AW)</td>\n",
       "      <td>2024-02-19 15:47:00</td>\n",
       "      <td>4528451</td>\n",
       "      <td>Angel Of Antrim</td>\n",
       "    </tr>\n",
       "    <tr>\n",
       "      <th>83</th>\n",
       "      <td>859370</td>\n",
       "      <td>513</td>\n",
       "      <td>Wolverhampton (AW)</td>\n",
       "      <td>2024-02-19 17:00:00</td>\n",
       "      <td>4350771</td>\n",
       "      <td>Daley T</td>\n",
       "    </tr>\n",
       "    <tr>\n",
       "      <th>91</th>\n",
       "      <td>861522</td>\n",
       "      <td>513</td>\n",
       "      <td>Wolverhampton (AW)</td>\n",
       "      <td>2024-02-19 17:30:00</td>\n",
       "      <td>3791405</td>\n",
       "      <td>Coast</td>\n",
       "    </tr>\n",
       "    <tr>\n",
       "      <th>98</th>\n",
       "      <td>859371</td>\n",
       "      <td>513</td>\n",
       "      <td>Wolverhampton (AW)</td>\n",
       "      <td>2024-02-19 18:00:00</td>\n",
       "      <td>5212131</td>\n",
       "      <td>Tuneful</td>\n",
       "    </tr>\n",
       "    <tr>\n",
       "      <th>108</th>\n",
       "      <td>859365</td>\n",
       "      <td>513</td>\n",
       "      <td>Wolverhampton (AW)</td>\n",
       "      <td>2024-02-19 19:00:00</td>\n",
       "      <td>5042476</td>\n",
       "      <td>Rising Force</td>\n",
       "    </tr>\n",
       "    <tr>\n",
       "      <th>110</th>\n",
       "      <td>859369</td>\n",
       "      <td>513</td>\n",
       "      <td>Wolverhampton (AW)</td>\n",
       "      <td>2024-02-19 19:30:00</td>\n",
       "      <td>4467741</td>\n",
       "      <td>Malacanne</td>\n",
       "    </tr>\n",
       "    <tr>\n",
       "      <th>123</th>\n",
       "      <td>859368</td>\n",
       "      <td>513</td>\n",
       "      <td>Wolverhampton (AW)</td>\n",
       "      <td>2024-02-19 20:30:00</td>\n",
       "      <td>3241329</td>\n",
       "      <td>Lion Ring</td>\n",
       "    </tr>\n",
       "  </tbody>\n",
       "</table>\n",
       "</div>"
      ],
      "text/plain": [
       "     RaceId  CourseId          CourseName                 Off  HorseId  \\\n",
       "36   859208         8            Carlisle 2024-02-19 14:00:00  4853584   \n",
       "46   859207         8            Carlisle 2024-02-19 14:30:00  4658876   \n",
       "50   859204         8            Carlisle 2024-02-19 15:00:00  2591996   \n",
       "55   859206         8            Carlisle 2024-02-19 15:30:00  5202347   \n",
       "67   859202         8            Carlisle 2024-02-19 16:00:00  3538526   \n",
       "73   859203         8            Carlisle 2024-02-19 16:35:00  4853677   \n",
       "78   859205         8            Carlisle 2024-02-19 17:10:00  3254677   \n",
       "1    859363       393      Lingfield (AW) 2024-02-19 13:17:00  4826976   \n",
       "7    859358       393      Lingfield (AW) 2024-02-19 13:47:00  4346562   \n",
       "17   859364       393      Lingfield (AW) 2024-02-19 14:47:00  5154274   \n",
       "28   859362       393      Lingfield (AW) 2024-02-19 15:17:00  3207177   \n",
       "30   861521       393      Lingfield (AW) 2024-02-19 15:47:00  4528451   \n",
       "83   859370       513  Wolverhampton (AW) 2024-02-19 17:00:00  4350771   \n",
       "91   861522       513  Wolverhampton (AW) 2024-02-19 17:30:00  3791405   \n",
       "98   859371       513  Wolverhampton (AW) 2024-02-19 18:00:00  5212131   \n",
       "108  859365       513  Wolverhampton (AW) 2024-02-19 19:00:00  5042476   \n",
       "110  859369       513  Wolverhampton (AW) 2024-02-19 19:30:00  4467741   \n",
       "123  859368       513  Wolverhampton (AW) 2024-02-19 20:30:00  3241329   \n",
       "\n",
       "           HorseName  \n",
       "36   Get A Superstar  \n",
       "46            Jagwar  \n",
       "50   Fiston De Becon  \n",
       "55        R S Ambush  \n",
       "67       East Street  \n",
       "73       Booster Bob  \n",
       "78      Kiss My Face  \n",
       "1           Hatadora  \n",
       "7       McLean House  \n",
       "17       Gogo Yubari  \n",
       "28   Sunset In Paris  \n",
       "30   Angel Of Antrim  \n",
       "83           Daley T  \n",
       "91             Coast  \n",
       "98           Tuneful  \n",
       "108     Rising Force  \n",
       "110        Malacanne  \n",
       "123        Lion Ring  "
      ]
     },
     "execution_count": 78,
     "metadata": {},
     "output_type": "execute_result"
    }
   ],
   "source": [
    "todays_predictions = (races_to_predict[races_to_predict[\"PredictedRank\"] == 1]\n",
    "    .sort_values([\"CourseName\", \"Off\"])\n",
    "    [[\"RaceId\", \"CourseId\", \"CourseName\", \"Off\", \"HorseId\", \"HorseName\"]])\n",
    "\n",
    "todays_predictions.to_csv(\"TodaysPredictions.csv\", index=False)\n",
    "\n",
    "todays_predictions"
   ]
  },
  {
   "cell_type": "code",
   "execution_count": 79,
   "metadata": {},
   "outputs": [
    {
     "name": "stdout",
     "output_type": "stream",
     "text": [
      "Generated predictions for 18 races\n",
      "        CourseName                 Off       HorseName\n",
      "          Carlisle 2024-02-19 14:00:00 Get A Superstar\n",
      "          Carlisle 2024-02-19 14:30:00          Jagwar\n",
      "          Carlisle 2024-02-19 15:00:00 Fiston De Becon\n",
      "          Carlisle 2024-02-19 15:30:00      R S Ambush\n",
      "          Carlisle 2024-02-19 16:00:00     East Street\n",
      "          Carlisle 2024-02-19 16:35:00     Booster Bob\n",
      "          Carlisle 2024-02-19 17:10:00    Kiss My Face\n",
      "    Lingfield (AW) 2024-02-19 13:17:00        Hatadora\n",
      "    Lingfield (AW) 2024-02-19 13:47:00    McLean House\n",
      "    Lingfield (AW) 2024-02-19 14:47:00     Gogo Yubari\n",
      "    Lingfield (AW) 2024-02-19 15:17:00 Sunset In Paris\n",
      "    Lingfield (AW) 2024-02-19 15:47:00 Angel Of Antrim\n",
      "Wolverhampton (AW) 2024-02-19 17:00:00         Daley T\n",
      "Wolverhampton (AW) 2024-02-19 17:30:00           Coast\n",
      "Wolverhampton (AW) 2024-02-19 18:00:00         Tuneful\n",
      "Wolverhampton (AW) 2024-02-19 19:00:00    Rising Force\n",
      "Wolverhampton (AW) 2024-02-19 19:30:00       Malacanne\n",
      "Wolverhampton (AW) 2024-02-19 20:30:00       Lion Ring\n"
     ]
    }
   ],
   "source": [
    "print(f\"Generated predictions for {len(todays_predictions)} races\")\n",
    "print(todays_predictions[[\"CourseName\", \"Off\", \"HorseName\"]].to_string(index=False))"
   ]
  }
 ],
 "metadata": {
  "kernelspec": {
   "display_name": "Python 3",
   "language": "python",
   "name": "python3"
  },
  "language_info": {
   "codemirror_mode": {
    "name": "ipython",
    "version": 3
   },
   "file_extension": ".py",
   "mimetype": "text/x-python",
   "name": "python",
   "nbconvert_exporter": "python",
   "pygments_lexer": "ipython3",
   "version": "3.12.2"
  },
  "orig_nbformat": 4
 },
 "nbformat": 4,
 "nbformat_minor": 2
}
