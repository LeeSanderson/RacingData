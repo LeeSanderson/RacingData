{
 "cells": [
  {
   "cell_type": "code",
   "execution_count": 81,
   "metadata": {},
   "outputs": [
    {
     "name": "stdout",
     "output_type": "stream",
     "text": [
      "Note: you may need to restart the kernel to use updated packages.\n",
      "Note: you may need to restart the kernel to use updated packages.\n",
      "Note: you may need to restart the kernel to use updated packages.\n",
      "Note: you may need to restart the kernel to use updated packages.\n",
      "Note: you may need to restart the kernel to use updated packages.\n"
     ]
    }
   ],
   "source": [
    "%pip install --quiet --upgrade pip \n",
    "%pip install numpy --quiet\n",
    "%pip install Pandas --quiet\n",
    "%pip install sklearn --quiet\n",
    "%pip install ipywidgets --quiet"
   ]
  },
  {
   "cell_type": "markdown",
   "metadata": {},
   "source": [
    "# Horse Racing Results Predictor using Linear regression #\n",
    "\n",
    "Predict `TodaysRaceCard.csv` using simple linear regression techniques by determining predicted **speed** of a horse in a given race based on its previous performance. \n",
    "\n",
    "Data used here is derived from the features extracted by the [Feature Analysis](https://github.com/LeeSanderson/RacingData/blob/main/Data/FeatureAnalysis.ipynb) notebook."
   ]
  },
  {
   "cell_type": "markdown",
   "metadata": {},
   "source": [
    "## Build the model ##"
   ]
  },
  {
   "cell_type": "code",
   "execution_count": 82,
   "metadata": {},
   "outputs": [],
   "source": [
    "import numpy as np\n",
    "import pandas as pd\n",
    "import math\n",
    "from abc import ABC, abstractmethod\n",
    "from datetime import datetime, date"
   ]
  },
  {
   "cell_type": "code",
   "execution_count": 83,
   "metadata": {},
   "outputs": [
    {
     "data": {
      "text/plain": [
       "Index(['RaceId', 'CourseId', 'RaceType', 'Off', 'DecimalOdds',\n",
       "       'OfficialRating', 'RacingPostRating', 'TopSpeedRating',\n",
       "       'DistanceInMeters', 'Going', 'Surface', 'HorseId', 'HorseName',\n",
       "       'JockeyId', 'JockeyName', 'Age', 'HeadGear', 'RaceCardNumber',\n",
       "       'StallNumber', 'WeightInPounds', 'FinishingPosition',\n",
       "       'OverallBeatenDistance', 'RaceTimeInSeconds', 'Wins',\n",
       "       'Surface_AllWeather', 'Surface_Dirt', 'Surface_Turf', 'Going_Firm',\n",
       "       'Going_Good', 'Going_Good_To_Firm', 'Going_Good_To_Soft', 'Going_Heavy',\n",
       "       'Going_Soft', 'RaceType_Flat', 'RaceType_Hurdle', 'RaceType_Other',\n",
       "       'RaceType_SteepleChase', 'Speed', 'HorseCount', 'KnownHorseAndJockey',\n",
       "       'NumberOfPriorRaces', 'LastRaceGoing', 'LastRaceSurface',\n",
       "       'LastRaceDistanceInMeters', 'LastRaceWeightInPounds', 'LastRaceSpeed',\n",
       "       'DaysRested', 'LastRaceDecimalOdds', 'LastRaceOfficialRating',\n",
       "       'LastRaceRacingPostRating', 'LastRaceTopSpeedRating',\n",
       "       'LastRaceAvgRelFinishingPosition', 'LastRaceSurface_AllWeather',\n",
       "       'LastRaceSurface_Dirt', 'LastRaceSurface_Turf', 'LastRaceGoing_Good',\n",
       "       'LastRaceGoing_Good_To_Soft', 'LastRaceGoing_Soft',\n",
       "       'LastRaceGoing_Good_To_Firm', 'LastRaceGoing_Firm',\n",
       "       'LastRaceGoing_Heavy', 'LastRaceRaceType_Other',\n",
       "       'LastRaceRaceType_Hurdle', 'LastRaceRaceType_SteepleChase',\n",
       "       'LastRaceRaceType_Flat', 'JockeyNumberOfPriorRaces',\n",
       "       'DaysSinceJockeyLastRaced', 'JockeyWinPercentage',\n",
       "       'JockeyTop3Percentage', 'JockeyAvgRelFinishingPosition'],\n",
       "      dtype='object')"
      ]
     },
     "execution_count": 83,
     "metadata": {},
     "output_type": "execute_result"
    }
   ],
   "source": [
    "races = pd.read_csv(\"Race_Features.csv\")\n",
    "races['Off'] =  pd.to_datetime(races['Off'], format='%Y-%m-%d %H:%M:%S')\n",
    "races.columns"
   ]
  },
  {
   "cell_type": "code",
   "execution_count": 84,
   "metadata": {},
   "outputs": [],
   "source": [
    "pd.set_option('display.max_rows', 500)\n",
    "pd.set_option('display.max_columns', 500)\n",
    "\n",
    "race_info = ['RaceId', 'CourseId', 'Off', 'HorseId', 'HorseName', 'HorseCount', 'JockeyId', 'JockeyName', 'DecimalOdds', 'Wins', 'FinishingPosition']\n",
    "predictors = ([\n",
    "    'DistanceInMeters', \n",
    "    'WeightInPounds', \n",
    "    'Surface_AllWeather', 'Surface_Dirt', 'Surface_Turf', \n",
    "    'Going_Firm', 'Going_Good', 'Going_Good_To_Firm', 'Going_Good_To_Soft', 'Going_Heavy', 'Going_Soft', \n",
    "    'RaceType_Flat', 'RaceType_Hurdle', 'RaceType_Other', 'RaceType_SteepleChase', \n",
    "\n",
    "    'LastRaceDistanceInMeters', \n",
    "    'LastRaceWeightInPounds', \n",
    "    'LastRaceSpeed',\n",
    "    'DaysRested',\n",
    "    'LastRaceAvgRelFinishingPosition', \n",
    "    'LastRaceSurface_AllWeather', 'LastRaceSurface_Dirt', 'LastRaceSurface_Turf', \n",
    "    'LastRaceGoing_Good', 'LastRaceGoing_Good_To_Soft', 'LastRaceGoing_Soft', 'LastRaceGoing_Good_To_Firm', 'LastRaceGoing_Firm', 'LastRaceGoing_Heavy', \n",
    "    'LastRaceRaceType_Other', 'LastRaceRaceType_Hurdle', 'LastRaceRaceType_SteepleChase', 'LastRaceRaceType_Flat', \n",
    "    \n",
    "    'JockeyNumberOfPriorRaces',\n",
    "    'DaysSinceJockeyLastRaced',     \n",
    "    'JockeyWinPercentage',\n",
    "    'JockeyTop3Percentage',\n",
    "    'JockeyAvgRelFinishingPosition'\n",
    "    ])\n",
    "prediction = [\"Speed\"]\n",
    "\n",
    "train = races[race_info + predictors + prediction].dropna().copy()"
   ]
  },
  {
   "cell_type": "code",
   "execution_count": 85,
   "metadata": {},
   "outputs": [],
   "source": [
    "# Cap rested days\n",
    "train.loc[train[\"DaysRested\"] > 10, \"DaysRested\"] = 10\n",
    "train.loc[train[\"DaysSinceJockeyLastRaced\"] > 10, \"DaysSinceJockeyLastRaced\"] = 10\n",
    "\n",
    "# Cap prior races\n",
    "# train.loc[train[\"JockeyNumberOfPriorRaces\"] > 400] = 400 (negative effect)"
   ]
  },
  {
   "cell_type": "code",
   "execution_count": 86,
   "metadata": {},
   "outputs": [
    {
     "name": "stdout",
     "output_type": "stream",
     "text": [
      "Possible predictable races = 4033 out of 37890 (10.643969385062022%)\n"
     ]
    }
   ],
   "source": [
    "# Now that we've dropped any rows with na values, calculate which races in which we can predict the speed for all horses.\n",
    "train = train.drop(\"PredictableHorseCount\", axis=1, errors='ignore')\n",
    "groups = train.groupby(['RaceId']).apply(lambda g: pd.Series({'PredictableHorseCount': g['RaceId'].count()}, index=['PredictableHorseCount']))\n",
    "train = pd.merge(train, groups, how='left', on=['RaceId'])\n",
    "\n",
    "# 50% of races have 11 horse, 25% have 8 or less, 14% have 6 or less, 9% have 5 or less. Fewer horses should be more predictable\n",
    "all_races_count = len(races[\"RaceId\"].unique())\n",
    "all_predictable = train[(train[\"HorseCount\"] == train[\"PredictableHorseCount\"]) & (train[\"HorseCount\"] <= 5)][\"RaceId\"].unique().tolist()\n",
    "all_predictable_count = len(all_predictable)\n",
    "print(f\"Possible predictable races = {all_predictable_count} out of {all_races_count} ({all_predictable_count * 100 / all_races_count}%)\")"
   ]
  },
  {
   "cell_type": "code",
   "execution_count": 87,
   "metadata": {},
   "outputs": [],
   "source": [
    "from sklearn.model_selection import train_test_split\n",
    "\n",
    "_, test_race_ids = train_test_split(all_predictable, test_size=0.2, random_state = 42)\n",
    "\n",
    "test = train[train[\"RaceId\"].isin(test_race_ids)]\n",
    "train = train[train[\"RaceId\"].isin(test_race_ids) == False]"
   ]
  },
  {
   "cell_type": "code",
   "execution_count": 88,
   "metadata": {},
   "outputs": [],
   "source": [
    "from sklearn.linear_model import LinearRegression\n",
    "from sklearn.preprocessing import StandardScaler\n",
    "from sklearn.preprocessing import PolynomialFeatures\n",
    "from sklearn.pipeline import make_pipeline\n",
    "\n",
    "# Create a pipeline that includes feature scaling and linear regression\n",
    "model = make_pipeline(StandardScaler(), PolynomialFeatures(degree=2, interaction_only=False), LinearRegression())"
   ]
  },
  {
   "cell_type": "code",
   "execution_count": 89,
   "metadata": {},
   "outputs": [],
   "source": [
    "inputs = train[predictors]\n",
    "targets = train[prediction[0]].values"
   ]
  },
  {
   "cell_type": "code",
   "execution_count": 90,
   "metadata": {},
   "outputs": [],
   "source": [
    "model.fit(inputs, targets)\n",
    "test_inputs = test[predictors]\n",
    "predictions = model.predict(test_inputs)"
   ]
  },
  {
   "cell_type": "code",
   "execution_count": 91,
   "metadata": {},
   "outputs": [],
   "source": [
    "test_with_predictions = test.copy()\n",
    "test_with_predictions[\"PredictedSpeed\"] = predictions"
   ]
  },
  {
   "cell_type": "code",
   "execution_count": 92,
   "metadata": {},
   "outputs": [],
   "source": [
    "test_with_predictions[\"PredictedRank\"] = test_with_predictions.groupby(\"RaceId\")[\"PredictedSpeed\"].rank(method=\"dense\", ascending=False)"
   ]
  },
  {
   "cell_type": "code",
   "execution_count": 93,
   "metadata": {},
   "outputs": [
    {
     "name": "stdout",
     "output_type": "stream",
     "text": [
      "Correct winners 274, Incorrect winners 535\n",
      "Win percentage 51.21495327102804\n",
      "Winnings 903.8329503829503, losses 535, diff  368.83295038295034\n"
     ]
    }
   ],
   "source": [
    "correct_winners = test_with_predictions[(test_with_predictions[\"FinishingPosition\"] == 1) & (test_with_predictions[\"PredictedRank\"] == 1)]\n",
    "\n",
    "correct_winners_count = len(correct_winners)\n",
    "incorrect_winners_count = len(test_with_predictions[(test_with_predictions[\"FinishingPosition\"] == 1) & (test_with_predictions[\"PredictedRank\"] != 1)])\n",
    "\n",
    "winnings = correct_winners[\"DecimalOdds\"].sum()\n",
    "win_percentage = 100.0 * correct_winners_count / incorrect_winners_count\n",
    "\n",
    "print(f\"Correct winners {correct_winners_count}, Incorrect winners {incorrect_winners_count}\")\n",
    "print(f\"Win percentage {win_percentage}\")\n",
    "print(f\"Winnings {winnings}, losses {incorrect_winners_count}, diff  {winnings - incorrect_winners_count}\")\n",
    "\n",
    "if win_percentage < 40:\n",
    "    raise ValueError(\"Prediction rate too low\")"
   ]
  },
  {
   "cell_type": "code",
   "execution_count": 94,
   "metadata": {},
   "outputs": [],
   "source": [
    "# Base = 23.3630494927759\n",
    "# PolynomialFeatures(degree=2, interaction_only=True) = 25.01557632398754\n",
    "# With PolynomialFeatures(degree=2, interaction_only=False) = 25.13252260679763\n",
    "# With rest days capped =  25.210608424336975\n",
    "# with max 11 horses in race = 28.612597776862906 (£467)\n",
    "# with max 8 horses in race = 31.598513011152416 (£336)\n",
    "# with max 6 horses in race = 38.113207547169814 (£343)\n",
    "# with max 5 horses in race = 47.77777777777778 (£269)"
   ]
  },
  {
   "cell_type": "markdown",
   "metadata": {},
   "source": [
    "## Predictions ##"
   ]
  },
  {
   "cell_type": "code",
   "execution_count": 95,
   "metadata": {},
   "outputs": [
    {
     "data": {
      "text/plain": [
       "Index(['RaceId', 'RaceName', 'CourseId', 'CourseName', 'Off', 'RaceType',\n",
       "       'Class', 'Pattern', 'RatingBand', 'AgeBand', 'SexRestriction',\n",
       "       'Distance', 'DistanceInFurlongs', 'DistanceInMeters', 'DistanceInYards',\n",
       "       'Going', 'Surface', 'HorseId', 'HorseName', 'JockeyId', 'JockeyName',\n",
       "       'TrainerId', 'TrainerName', 'Age', 'HeadGear', 'RaceCardNumber',\n",
       "       'StallNumber', 'Weight', 'WeightInPounds', 'FractionalOdds',\n",
       "       'DecimalOdds', 'OfficialRating', 'RacingPostRating', 'TopSpeedRating'],\n",
       "      dtype='object')"
      ]
     },
     "execution_count": 95,
     "metadata": {},
     "output_type": "execute_result"
    }
   ],
   "source": [
    "todays_races = pd.read_csv(\"TodaysRaceCards.csv\")\n",
    "todays_races['Off'] =  pd.to_datetime(todays_races['Off'], format='%m/%d/%Y %H:%M:%S')\n",
    "todays_races.columns"
   ]
  },
  {
   "cell_type": "markdown",
   "metadata": {},
   "source": [
    "### Expand categorical variables"
   ]
  },
  {
   "cell_type": "code",
   "execution_count": 96,
   "metadata": {},
   "outputs": [
    {
     "data": {
      "text/plain": [
       "Surface_AllWeather  Surface_Dirt  Surface_Turf\n",
       "0.0                 0.0           1.0             310\n",
       "1.0                 0.0           0.0              84\n",
       "dtype: int64"
      ]
     },
     "execution_count": 96,
     "metadata": {},
     "output_type": "execute_result"
    }
   ],
   "source": [
    "surface_categories = [\"Surface_AllWeather\", \"Surface_Dirt\", \"Surface_Turf\"]\n",
    "todays_races = todays_races.drop(surface_categories + [\"Surface_Unknown\"], axis=1, errors='ignore')\n",
    "todays_races[\"SurfaceTemp\"] = todays_races[\"Surface\"]\n",
    "todays_races = pd.get_dummies(todays_races, prefix=\"Surface\", columns=[\"SurfaceTemp\"], dtype=float)\n",
    "todays_races = todays_races.drop(\"Surface_Unknown\", axis=1, errors='ignore') # Drop unknown surface as only small number.\n",
    "for surface in surface_categories:\n",
    "    todays_races[surface] = todays_races.get(surface, 0.0)\n",
    "todays_races[surface_categories].value_counts()"
   ]
  },
  {
   "cell_type": "code",
   "execution_count": 97,
   "metadata": {},
   "outputs": [],
   "source": [
    "# Normalise going based on rules here: https://www.racingpost.com/guide-to-racing/what-is-the-going-ann7h6W6VB3b/\n",
    "# Values should be: Firm, Good_To_Firm, Good, Good_To_Soft, Soft, Heavy\n",
    "norm_map = ({\n",
    "    \"Good\": \"Good\", \n",
    "    \"Standard\": \"Good\",\n",
    "    \"Soft\": \"Soft\",\n",
    "    \"Good To Soft\": \"Good_To_Soft\",\n",
    "    \"Good To Firm\": \"Good_To_Firm\",\n",
    "    \"Heavy\": \"Heavy\",\n",
    "    \"Good To Yielding\": \"Good_To_Soft\",    \n",
    "    \"Yielding\": \"Good_To_Soft\",\n",
    "    \"Standard To Slow\": \"Good_To_Soft\",  \n",
    "    \"Very Soft\": \"Heavy\",\n",
    "    \"Fast\": \"Firm\",\n",
    "    \"Firm\": \"Firm\",\n",
    "    \"Soft To Heavy\": \"Heavy\",    \n",
    "    \"Yielding To Soft\": \"Soft\",\n",
    "    \"Slow\": \"Soft\",\n",
    "    \"Sloppy\": \"Heavy\",\n",
    "    \"Muddy\": \"Heavy\",\n",
    "    \"Frozen\": \"Heavy\"\n",
    "})\n",
    "\n",
    "todays_races[\"NormGoing\"] = todays_races[\"Going\"].map(norm_map)"
   ]
  },
  {
   "cell_type": "code",
   "execution_count": 98,
   "metadata": {},
   "outputs": [
    {
     "data": {
      "text/plain": [
       "Going_Good  Going_Good_To_Soft  Going_Soft  Going_Good_To_Firm  Going_Firm  Going_Heavy\n",
       "0.0         1.0                 0.0         0.0                 0.0         0.0            223\n",
       "1.0         0.0                 0.0         0.0                 0.0         0.0             84\n",
       "0.0         0.0                 0.0         1.0                 0.0         0.0             78\n",
       "                                            0.0                 0.0         1.0              9\n",
       "dtype: int64"
      ]
     },
     "execution_count": 98,
     "metadata": {},
     "output_type": "execute_result"
    }
   ],
   "source": [
    "going_categories  = [\"Going_Good\", \"Going_Good_To_Soft\", \"Going_Soft\", \"Going_Good_To_Firm\", \"Going_Firm\", \"Going_Heavy\"]\n",
    "todays_races = todays_races.drop(going_categories, axis=1, errors='ignore')\n",
    "todays_races = pd.get_dummies(todays_races, prefix=\"Going\", columns=[\"NormGoing\"], dtype=float)\n",
    "for going in going_categories:\n",
    "    todays_races[going] = todays_races.get(going, 0.0)\n",
    "\n",
    "todays_races[going_categories].value_counts()"
   ]
  },
  {
   "cell_type": "code",
   "execution_count": 99,
   "metadata": {},
   "outputs": [
    {
     "data": {
      "text/plain": [
       "RaceType_Other  RaceType_Hurdle  RaceType_SteepleChase  RaceType_Flat\n",
       "1.0             0.0              0.0                    0.0              328\n",
       "0.0             1.0              0.0                    0.0               41\n",
       "                0.0              1.0                    0.0               25\n",
       "dtype: int64"
      ]
     },
     "execution_count": 99,
     "metadata": {},
     "output_type": "execute_result"
    }
   ],
   "source": [
    "race_type_categories = [\"RaceType_Other\", \"RaceType_Hurdle\", \"RaceType_SteepleChase\", \"RaceType_Flat\"]\n",
    "todays_races = todays_races.drop(race_type_categories, axis=1, errors='ignore')\n",
    "todays_races[\"RaceTypeTemp\"] = todays_races[\"RaceType\"]\n",
    "todays_races = pd.get_dummies(todays_races, prefix=\"RaceType\", columns=[\"RaceTypeTemp\"], dtype=float)\n",
    "for race_type in race_type_categories:\n",
    "    todays_races[race_type] = todays_races.get(race_type, 0.0)\n",
    "\n",
    "todays_races[race_type_categories].value_counts()"
   ]
  },
  {
   "cell_type": "markdown",
   "metadata": {},
   "source": [
    "### Load horse stats"
   ]
  },
  {
   "cell_type": "code",
   "execution_count": 100,
   "metadata": {},
   "outputs": [
    {
     "data": {
      "text/plain": [
       "Index(['HorseId', 'LastOff', 'LastRaceDistanceInMeters',\n",
       "       'LastRaceWeightInPounds', 'LastRaceAvgRelFinishingPosition',\n",
       "       'LastRaceSurface_AllWeather', 'LastRaceSurface_Dirt',\n",
       "       'LastRaceSurface_Turf', 'LastRaceGoing_Firm', 'LastRaceGoing_Good',\n",
       "       'LastRaceGoing_Good_To_Firm', 'LastRaceGoing_Good_To_Soft',\n",
       "       'LastRaceGoing_Heavy', 'LastRaceGoing_Soft', 'LastRaceRaceType_Flat',\n",
       "       'LastRaceRaceType_Hurdle', 'LastRaceRaceType_Other',\n",
       "       'LastRaceRaceType_SteepleChase', 'LastRaceSpeed'],\n",
       "      dtype='object')"
      ]
     },
     "execution_count": 100,
     "metadata": {},
     "output_type": "execute_result"
    }
   ],
   "source": [
    "horse_stats = pd.read_csv(\"Horse_Stats.csv\")\n",
    "horse_stats['LastOff'] =  pd.to_datetime(horse_stats['LastOff'], format='%Y-%m-%d %H:%M:%S')\n",
    "horse_stats.columns"
   ]
  },
  {
   "cell_type": "code",
   "execution_count": 101,
   "metadata": {},
   "outputs": [],
   "source": [
    "todays_races = pd.merge(todays_races, horse_stats, how=\"left\", on=[\"HorseId\"])"
   ]
  },
  {
   "cell_type": "code",
   "execution_count": 102,
   "metadata": {},
   "outputs": [],
   "source": [
    "today = np.datetime64(datetime.today())\n",
    "one_day = np.timedelta64(1, 'D')\n",
    "todays_races[\"DaysRested\"] = np.ceil((today - todays_races[\"LastOff\"]) / one_day)\n",
    "todays_races.loc[todays_races[\"DaysRested\"] > 10, \"DaysRested\"] = 10\n",
    "todays_races = todays_races.drop(\"LastOff\", axis=1, errors='ignore')"
   ]
  },
  {
   "cell_type": "code",
   "execution_count": 103,
   "metadata": {},
   "outputs": [],
   "source": [
    "groups = todays_races.groupby(['RaceId']).apply(lambda g: pd.Series({'HorseCount': g['RaceId'].count()}, index=['HorseCount']))\n",
    "todays_races = pd.merge(todays_races, groups, how='left', on=['RaceId'])"
   ]
  },
  {
   "cell_type": "markdown",
   "metadata": {},
   "source": [
    "### Load jockey stats"
   ]
  },
  {
   "cell_type": "code",
   "execution_count": 104,
   "metadata": {},
   "outputs": [
    {
     "data": {
      "text/plain": [
       "Index(['JockeyId', 'LastOff', 'JockeyNumberOfPriorRaces',\n",
       "       'JockeyWinPercentage', 'JockeyTop3Percentage',\n",
       "       'JockeyAvgRelFinishingPosition'],\n",
       "      dtype='object')"
      ]
     },
     "execution_count": 104,
     "metadata": {},
     "output_type": "execute_result"
    }
   ],
   "source": [
    "jockey_stats = pd.read_csv(\"Jockey_Stats.csv\")\n",
    "jockey_stats['LastOff'] =  pd.to_datetime(jockey_stats['LastOff'], format='%Y-%m-%d %H:%M:%S')\n",
    "jockey_stats.columns"
   ]
  },
  {
   "cell_type": "code",
   "execution_count": 105,
   "metadata": {},
   "outputs": [],
   "source": [
    "todays_races = pd.merge(todays_races, jockey_stats, how=\"left\", on=[\"JockeyId\"])"
   ]
  },
  {
   "cell_type": "code",
   "execution_count": 106,
   "metadata": {},
   "outputs": [],
   "source": [
    "todays_races[\"DaysSinceJockeyLastRaced\"] = np.ceil((today - todays_races[\"LastOff\"]) / one_day)\n",
    "todays_races.loc[todays_races[\"DaysSinceJockeyLastRaced\"] > 10, \"DaysSinceJockeyLastRaced\"] = 10\n",
    "todays_races = todays_races.drop(\"LastOff\", axis=1, errors='ignore')"
   ]
  },
  {
   "cell_type": "markdown",
   "metadata": {},
   "source": [
    "### Eliminate races that cannot be reliably predicted"
   ]
  },
  {
   "cell_type": "code",
   "execution_count": 117,
   "metadata": {},
   "outputs": [
    {
     "data": {
      "text/plain": [
       "array([[<AxesSubplot:title={'center':'HorseCount'}>]], dtype=object)"
      ]
     },
     "execution_count": 117,
     "metadata": {},
     "output_type": "execute_result"
    },
    {
     "data": {
      "image/png": "[encoded data removed]",
      "text/plain": [
       "<Figure size 432x288 with 1 Axes>"
      ]
     },
     "metadata": {
      "needs_background": "light"
     },
     "output_type": "display_data"
    }
   ],
   "source": [
    "race_info = ['RaceId', 'CourseId', 'CourseName', 'Off', 'HorseId', 'HorseName', 'HorseCount', 'JockeyId', 'JockeyName']\n",
    "\n",
    "races_to_predict = todays_races[race_info + predictors].dropna().copy()\n",
    "\n",
    "max_horses_in_race = races_to_predict[\"HorseCount\"].max()\n",
    "races_to_predict.groupby(\"RaceId\").apply(lambda g: pd.Series({'HorseCount': g['RaceId'].count()}, index=['HorseCount'])).hist(bins=max_horses_in_race)"
   ]
  },
  {
   "cell_type": "code",
   "execution_count": 118,
   "metadata": {},
   "outputs": [
    {
     "data": {
      "text/plain": [
       "array([[<AxesSubplot:title={'center':'HorseCount'}>]], dtype=object)"
      ]
     },
     "execution_count": 118,
     "metadata": {},
     "output_type": "execute_result"
    },
    {
     "data": {
      "image/png": "[encoded data removed]",
      "text/plain": [
       "<Figure size 432x288 with 1 Axes>"
      ]
     },
     "metadata": {
      "needs_background": "light"
     },
     "output_type": "display_data"
    }
   ],
   "source": [
    "if len(races_to_predict) > 0:\n",
    "    # Now that we've dropped any rows with na values, calculate which races in which we can predict the speed for all horses.\n",
    "    races_to_predict = races_to_predict.drop(\"PredictableHorseCount\", axis=1, errors='ignore')\n",
    "    groups = races_to_predict.groupby(['RaceId']).apply(lambda g: pd.Series({'PredictableHorseCount': g['RaceId'].count()}, index=['PredictableHorseCount']))\n",
    "    races_to_predict = pd.merge(races_to_predict, groups, how='left', on=['RaceId'])\n",
    "    races_to_predict = races_to_predict[(races_to_predict[\"HorseCount\"] == races_to_predict[\"PredictableHorseCount\"]) & (races_to_predict[\"HorseCount\"] <= 10)]\n",
    "\n",
    "max_horses_in_race = races_to_predict[\"HorseCount\"].max()\n",
    "races_to_predict.groupby(\"RaceId\").apply(lambda g: pd.Series({'HorseCount': g['RaceId'].count()}, index=['HorseCount'])).hist(bins=max_horses_in_race)"
   ]
  },
  {
   "cell_type": "code",
   "execution_count": 119,
   "metadata": {},
   "outputs": [],
   "source": [
    "test_inputs = races_to_predict[predictors]\n",
    "predictions = model.predict(test_inputs)\n",
    "races_to_predict[\"PredictedSpeed\"] = predictions"
   ]
  },
  {
   "cell_type": "code",
   "execution_count": 120,
   "metadata": {},
   "outputs": [],
   "source": [
    "races_to_predict[\"PredictedRank\"] = races_to_predict.groupby(\"RaceId\")[\"PredictedSpeed\"].rank(method=\"dense\", ascending=False)"
   ]
  },
  {
   "cell_type": "code",
   "execution_count": 121,
   "metadata": {},
   "outputs": [
    {
     "data": {
      "text/html": [
       "<div>\n",
       "<style scoped>\n",
       "    .dataframe tbody tr th:only-of-type {\n",
       "        vertical-align: middle;\n",
       "    }\n",
       "\n",
       "    .dataframe tbody tr th {\n",
       "        vertical-align: top;\n",
       "    }\n",
       "\n",
       "    .dataframe thead th {\n",
       "        text-align: right;\n",
       "    }\n",
       "</style>\n",
       "<table border=\"1\" class=\"dataframe\">\n",
       "  <thead>\n",
       "    <tr style=\"text-align: right;\">\n",
       "      <th></th>\n",
       "      <th>RaceId</th>\n",
       "      <th>CourseId</th>\n",
       "      <th>CourseName</th>\n",
       "      <th>Off</th>\n",
       "      <th>HorseId</th>\n",
       "      <th>HorseName</th>\n",
       "    </tr>\n",
       "  </thead>\n",
       "  <tbody>\n",
       "    <tr>\n",
       "      <th>357</th>\n",
       "      <td>850062</td>\n",
       "      <td>205</td>\n",
       "      <td>Auteuil</td>\n",
       "      <td>2023-09-19 15:40:00</td>\n",
       "      <td>4100998</td>\n",
       "      <td>My Reprieve</td>\n",
       "    </tr>\n",
       "    <tr>\n",
       "      <th>179</th>\n",
       "      <td>849986</td>\n",
       "      <td>190</td>\n",
       "      <td>Listowel</td>\n",
       "      <td>2023-09-19 16:25:00</td>\n",
       "      <td>5147962</td>\n",
       "      <td>Tamrat</td>\n",
       "    </tr>\n",
       "    <tr>\n",
       "      <th>202</th>\n",
       "      <td>849988</td>\n",
       "      <td>190</td>\n",
       "      <td>Listowel</td>\n",
       "      <td>2023-09-19 17:35:00</td>\n",
       "      <td>5113876</td>\n",
       "      <td>Night Glow</td>\n",
       "    </tr>\n",
       "    <tr>\n",
       "      <th>272</th>\n",
       "      <td>847954</td>\n",
       "      <td>1353</td>\n",
       "      <td>Newcastle (AW)</td>\n",
       "      <td>2023-09-19 16:50:00</td>\n",
       "      <td>2863059</td>\n",
       "      <td>Ebony Maw</td>\n",
       "    </tr>\n",
       "    <tr>\n",
       "      <th>293</th>\n",
       "      <td>847955</td>\n",
       "      <td>1353</td>\n",
       "      <td>Newcastle (AW)</td>\n",
       "      <td>2023-09-19 18:00:00</td>\n",
       "      <td>2517233</td>\n",
       "      <td>Bawaader</td>\n",
       "    </tr>\n",
       "    <tr>\n",
       "      <th>40</th>\n",
       "      <td>847734</td>\n",
       "      <td>47</td>\n",
       "      <td>Redcar</td>\n",
       "      <td>2023-09-19 15:35:00</td>\n",
       "      <td>4992625</td>\n",
       "      <td>Stressfree</td>\n",
       "    </tr>\n",
       "    <tr>\n",
       "      <th>70</th>\n",
       "      <td>847739</td>\n",
       "      <td>47</td>\n",
       "      <td>Redcar</td>\n",
       "      <td>2023-09-19 17:20:00</td>\n",
       "      <td>2653210</td>\n",
       "      <td>Assembled</td>\n",
       "    </tr>\n",
       "    <tr>\n",
       "      <th>108</th>\n",
       "      <td>847889</td>\n",
       "      <td>84</td>\n",
       "      <td>Uttoxeter</td>\n",
       "      <td>2023-09-19 15:10:00</td>\n",
       "      <td>905150</td>\n",
       "      <td>Lough Salt</td>\n",
       "    </tr>\n",
       "    <tr>\n",
       "      <th>116</th>\n",
       "      <td>847885</td>\n",
       "      <td>84</td>\n",
       "      <td>Uttoxeter</td>\n",
       "      <td>2023-09-19 15:45:00</td>\n",
       "      <td>3023386</td>\n",
       "      <td>Do No Wrong</td>\n",
       "    </tr>\n",
       "    <tr>\n",
       "      <th>117</th>\n",
       "      <td>847888</td>\n",
       "      <td>84</td>\n",
       "      <td>Uttoxeter</td>\n",
       "      <td>2023-09-19 16:20:00</td>\n",
       "      <td>4305431</td>\n",
       "      <td>Ip Up</td>\n",
       "    </tr>\n",
       "    <tr>\n",
       "      <th>130</th>\n",
       "      <td>847886</td>\n",
       "      <td>84</td>\n",
       "      <td>Uttoxeter</td>\n",
       "      <td>2023-09-19 16:55:00</td>\n",
       "      <td>1898610</td>\n",
       "      <td>Howling Milan</td>\n",
       "    </tr>\n",
       "    <tr>\n",
       "      <th>207</th>\n",
       "      <td>847745</td>\n",
       "      <td>104</td>\n",
       "      <td>Yarmouth</td>\n",
       "      <td>2023-09-19 14:15:00</td>\n",
       "      <td>4827036</td>\n",
       "      <td>Zariela</td>\n",
       "    </tr>\n",
       "    <tr>\n",
       "      <th>233</th>\n",
       "      <td>847741</td>\n",
       "      <td>104</td>\n",
       "      <td>Yarmouth</td>\n",
       "      <td>2023-09-19 16:35:00</td>\n",
       "      <td>4415412</td>\n",
       "      <td>Musical Tribute</td>\n",
       "    </tr>\n",
       "    <tr>\n",
       "      <th>265</th>\n",
       "      <td>847746</td>\n",
       "      <td>104</td>\n",
       "      <td>Yarmouth</td>\n",
       "      <td>2023-09-19 18:15:00</td>\n",
       "      <td>3098927</td>\n",
       "      <td>Bernard Spierpoint</td>\n",
       "    </tr>\n",
       "  </tbody>\n",
       "</table>\n",
       "</div>"
      ],
      "text/plain": [
       "     RaceId  CourseId      CourseName                 Off  HorseId  \\\n",
       "357  850062       205         Auteuil 2023-09-19 15:40:00  4100998   \n",
       "179  849986       190        Listowel 2023-09-19 16:25:00  5147962   \n",
       "202  849988       190        Listowel 2023-09-19 17:35:00  5113876   \n",
       "272  847954      1353  Newcastle (AW) 2023-09-19 16:50:00  2863059   \n",
       "293  847955      1353  Newcastle (AW) 2023-09-19 18:00:00  2517233   \n",
       "40   847734        47          Redcar 2023-09-19 15:35:00  4992625   \n",
       "70   847739        47          Redcar 2023-09-19 17:20:00  2653210   \n",
       "108  847889        84       Uttoxeter 2023-09-19 15:10:00   905150   \n",
       "116  847885        84       Uttoxeter 2023-09-19 15:45:00  3023386   \n",
       "117  847888        84       Uttoxeter 2023-09-19 16:20:00  4305431   \n",
       "130  847886        84       Uttoxeter 2023-09-19 16:55:00  1898610   \n",
       "207  847745       104        Yarmouth 2023-09-19 14:15:00  4827036   \n",
       "233  847741       104        Yarmouth 2023-09-19 16:35:00  4415412   \n",
       "265  847746       104        Yarmouth 2023-09-19 18:15:00  3098927   \n",
       "\n",
       "              HorseName  \n",
       "357         My Reprieve  \n",
       "179              Tamrat  \n",
       "202          Night Glow  \n",
       "272           Ebony Maw  \n",
       "293            Bawaader  \n",
       "40           Stressfree  \n",
       "70            Assembled  \n",
       "108          Lough Salt  \n",
       "116         Do No Wrong  \n",
       "117               Ip Up  \n",
       "130       Howling Milan  \n",
       "207             Zariela  \n",
       "233     Musical Tribute  \n",
       "265  Bernard Spierpoint  "
      ]
     },
     "execution_count": 121,
     "metadata": {},
     "output_type": "execute_result"
    }
   ],
   "source": [
    "todays_predictions = (races_to_predict[races_to_predict[\"PredictedRank\"] == 1]\n",
    "    .sort_values([\"CourseName\", \"Off\"])\n",
    "    [[\"RaceId\", \"CourseId\", \"CourseName\", \"Off\", \"HorseId\", \"HorseName\"]])\n",
    "\n",
    "todays_predictions.to_csv(\"TodaysPredictions.csv\", index=False)\n",
    "\n",
    "todays_predictions"
   ]
  }
 ],
 "metadata": {
  "kernelspec": {
   "display_name": "Python 3",
   "language": "python",
   "name": "python3"
  },
  "language_info": {
   "codemirror_mode": {
    "name": "ipython",
    "version": 3
   },
   "file_extension": ".py",
   "mimetype": "text/x-python",
   "name": "python",
   "nbconvert_exporter": "python",
   "pygments_lexer": "ipython3",
   "version": "3.9.13"
  },
  "orig_nbformat": 4
 },
 "nbformat": 4,
 "nbformat_minor": 2
}
