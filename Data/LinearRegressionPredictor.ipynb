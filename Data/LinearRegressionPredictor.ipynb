{
 "cells": [
  {
   "cell_type": "code",
   "execution_count": 1,
   "metadata": {},
   "outputs": [],
   "source": [
    "# %pip install --quiet --upgrade pip \n",
    "# %pip install numpy --quiet\n",
    "# %pip install Pandas --quiet\n",
    "# %pip install sklearn --quiet\n",
    "# %pip install ipywidgets --quiet"
   ]
  },
  {
   "cell_type": "markdown",
   "metadata": {},
   "source": [
    "# Horse Racing Results Predictor using Linear regression #\n",
    "\n",
    "Predict `TodaysRaceCard.csv` using simple linear regression techniques by determining predicted **speed** of a horse in a given race based on its previous performance. \n",
    "\n",
    "Data used here is derived from the features extracted by the [Feature Analysis](https://github.com/LeeSanderson/RacingData/blob/main/Data/FeatureAnalysis.ipynb) notebook."
   ]
  },
  {
   "cell_type": "markdown",
   "metadata": {},
   "source": [
    "## Build the model ##"
   ]
  },
  {
   "cell_type": "code",
   "execution_count": 2,
   "metadata": {},
   "outputs": [],
   "source": [
    "import numpy as np\n",
    "import pandas as pd\n",
    "import math\n",
    "from abc import ABC, abstractmethod\n",
    "from datetime import datetime, date"
   ]
  },
  {
   "cell_type": "code",
   "execution_count": 3,
   "metadata": {},
   "outputs": [
    {
     "data": {
      "text/plain": [
       "Index(['RaceId', 'CourseId', 'RaceType', 'Off', 'DecimalOdds',\n",
       "       'OfficialRating', 'RacingPostRating', 'TopSpeedRating',\n",
       "       'DistanceInMeters', 'Going', 'Surface', 'HorseId', 'HorseName',\n",
       "       'JockeyId', 'JockeyName', 'Age', 'HeadGear', 'RaceCardNumber',\n",
       "       'StallNumber', 'WeightInPounds', 'FinishingPosition',\n",
       "       'OverallBeatenDistance', 'RaceTimeInSeconds', 'Wins',\n",
       "       'Surface_AllWeather', 'Surface_Dirt', 'Surface_Turf', 'Going_Firm',\n",
       "       'Going_Good', 'Going_Good_To_Firm', 'Going_Good_To_Soft', 'Going_Heavy',\n",
       "       'Going_Soft', 'RaceType_Flat', 'RaceType_Hurdle', 'RaceType_Other',\n",
       "       'RaceType_SteepleChase', 'Speed', 'HorseCount', 'KnownHorseAndJockey',\n",
       "       'NumberOfPriorRaces', 'LastRaceGoing', 'LastRaceSurface',\n",
       "       'LastRaceDistanceInMeters', 'LastRaceWeightInPounds', 'LastRaceSpeed',\n",
       "       'DaysRested', 'LastRaceDecimalOdds', 'LastRaceOfficialRating',\n",
       "       'LastRaceRacingPostRating', 'LastRaceTopSpeedRating',\n",
       "       'LastRaceAvgRelFinishingPosition', 'LastRaceSurface_AllWeather',\n",
       "       'LastRaceSurface_Dirt', 'LastRaceSurface_Turf', 'LastRaceGoing_Good',\n",
       "       'LastRaceGoing_Good_To_Soft', 'LastRaceGoing_Soft',\n",
       "       'LastRaceGoing_Good_To_Firm', 'LastRaceGoing_Firm',\n",
       "       'LastRaceGoing_Heavy', 'LastRaceRaceType_Other',\n",
       "       'LastRaceRaceType_Hurdle', 'LastRaceRaceType_SteepleChase',\n",
       "       'LastRaceRaceType_Flat', 'JockeyNumberOfPriorRaces',\n",
       "       'DaysSinceJockeyLastRaced', 'JockeyWinPercentage',\n",
       "       'JockeyTop3Percentage', 'JockeyAvgRelFinishingPosition'],\n",
       "      dtype='object')"
      ]
     },
     "execution_count": 3,
     "metadata": {},
     "output_type": "execute_result"
    }
   ],
   "source": [
    "races = pd.read_csv(\"Race_Features.csv\")\n",
    "races['Off'] =  pd.to_datetime(races['Off'], format='%Y-%m-%d %H:%M:%S')\n",
    "races.columns"
   ]
  },
  {
   "cell_type": "code",
   "execution_count": 4,
   "metadata": {},
   "outputs": [],
   "source": [
    "pd.set_option('display.max_rows', 500)\n",
    "pd.set_option('display.max_columns', 500)\n",
    "\n",
    "race_info = ['RaceId', 'CourseId', 'Off', 'HorseId', 'HorseName', 'HorseCount', 'JockeyId', 'JockeyName', 'DecimalOdds', 'Wins', 'FinishingPosition']\n",
    "predictors = ([\n",
    "    'DistanceInMeters', \n",
    "    'WeightInPounds', \n",
    "    'Surface_AllWeather', 'Surface_Dirt', 'Surface_Turf', \n",
    "    'Going_Firm', 'Going_Good', 'Going_Good_To_Firm', 'Going_Good_To_Soft', 'Going_Heavy', 'Going_Soft', \n",
    "    'RaceType_Flat', 'RaceType_Hurdle', 'RaceType_Other', 'RaceType_SteepleChase', \n",
    "\n",
    "    'LastRaceDistanceInMeters', \n",
    "    'LastRaceWeightInPounds', \n",
    "    'LastRaceSpeed',\n",
    "    'DaysRested',\n",
    "    'LastRaceAvgRelFinishingPosition', \n",
    "    'LastRaceSurface_AllWeather', 'LastRaceSurface_Dirt', 'LastRaceSurface_Turf', \n",
    "    'LastRaceGoing_Good', 'LastRaceGoing_Good_To_Soft', 'LastRaceGoing_Soft', 'LastRaceGoing_Good_To_Firm', 'LastRaceGoing_Firm', 'LastRaceGoing_Heavy', \n",
    "    'LastRaceRaceType_Other', 'LastRaceRaceType_Hurdle', 'LastRaceRaceType_SteepleChase', 'LastRaceRaceType_Flat', \n",
    "    \n",
    "    'JockeyNumberOfPriorRaces',\n",
    "    'DaysSinceJockeyLastRaced',     \n",
    "    'JockeyWinPercentage',\n",
    "    'JockeyTop3Percentage',\n",
    "    'JockeyAvgRelFinishingPosition'\n",
    "    ])\n",
    "prediction = [\"Speed\"]\n",
    "\n",
    "train = races[race_info + predictors + prediction].dropna().copy()"
   ]
  },
  {
   "cell_type": "code",
   "execution_count": 5,
   "metadata": {},
   "outputs": [],
   "source": [
    "# Cap rested days\n",
    "train.loc[train[\"DaysRested\"] > 10, \"DaysRested\"] = 10\n",
    "train.loc[train[\"DaysSinceJockeyLastRaced\"] > 10, \"DaysSinceJockeyLastRaced\"] = 10\n",
    "\n",
    "# Cap prior races\n",
    "# train.loc[train[\"JockeyNumberOfPriorRaces\"] > 400] = 400 (negative effect)"
   ]
  },
  {
   "cell_type": "code",
   "execution_count": 6,
   "metadata": {},
   "outputs": [
    {
     "name": "stdout",
     "output_type": "stream",
     "text": [
      "Possible predictable races = 4039 out of 37987 (10.632584831652935%)\n"
     ]
    }
   ],
   "source": [
    "# Now that we've dropped any rows with na values, calculate which races in which we can predict the speed for all horses.\n",
    "train = train.drop(\"PredictableHorseCount\", axis=1, errors='ignore')\n",
    "groups = train.groupby(['RaceId']).apply(lambda g: pd.Series({'PredictableHorseCount': g['RaceId'].count()}, index=['PredictableHorseCount']))\n",
    "train = pd.merge(train, groups, how='left', on=['RaceId'])\n",
    "\n",
    "# 50% of races have 11 horse, 25% have 8 or less, 14% have 6 or less, 9% have 5 or less. Fewer horses should be more predictable\n",
    "all_races_count = len(races[\"RaceId\"].unique())\n",
    "all_predictable = train[(train[\"HorseCount\"] == train[\"PredictableHorseCount\"]) & (train[\"HorseCount\"] <= 5)][\"RaceId\"].unique().tolist()\n",
    "all_predictable_count = len(all_predictable)\n",
    "print(f\"Possible predictable races = {all_predictable_count} out of {all_races_count} ({all_predictable_count * 100 / all_races_count}%)\")"
   ]
  },
  {
   "cell_type": "code",
   "execution_count": 7,
   "metadata": {},
   "outputs": [],
   "source": [
    "from sklearn.model_selection import train_test_split\n",
    "\n",
    "_, test_race_ids = train_test_split(all_predictable, test_size=0.2, random_state = 42)\n",
    "\n",
    "test = train[train[\"RaceId\"].isin(test_race_ids)]\n",
    "train = train[train[\"RaceId\"].isin(test_race_ids) == False]"
   ]
  },
  {
   "cell_type": "code",
   "execution_count": 8,
   "metadata": {},
   "outputs": [],
   "source": [
    "from sklearn.linear_model import Ridge\n",
    "from sklearn.preprocessing import StandardScaler\n",
    "from sklearn.preprocessing import PolynomialFeatures\n",
    "from sklearn.pipeline import make_pipeline\n",
    "\n",
    "# Create a pipeline that includes feature scaling and linear regression\n",
    "model = make_pipeline(StandardScaler(), PolynomialFeatures(degree=2, interaction_only=False), Ridge())"
   ]
  },
  {
   "cell_type": "code",
   "execution_count": 9,
   "metadata": {},
   "outputs": [],
   "source": [
    "inputs = train[predictors]\n",
    "targets = train[prediction[0]].values"
   ]
  },
  {
   "cell_type": "code",
   "execution_count": 10,
   "metadata": {},
   "outputs": [],
   "source": [
    "model.fit(inputs, targets)\n",
    "test_inputs = test[predictors]\n",
    "predictions = model.predict(test_inputs)"
   ]
  },
  {
   "cell_type": "code",
   "execution_count": 11,
   "metadata": {},
   "outputs": [],
   "source": [
    "test_with_predictions = test.copy()\n",
    "test_with_predictions[\"PredictedSpeed\"] = predictions"
   ]
  },
  {
   "cell_type": "code",
   "execution_count": 12,
   "metadata": {},
   "outputs": [],
   "source": [
    "test_with_predictions[\"PredictedRank\"] = test_with_predictions.groupby(\"RaceId\")[\"PredictedSpeed\"].rank(method=\"dense\", ascending=False)"
   ]
  },
  {
   "cell_type": "code",
   "execution_count": 14,
   "metadata": {},
   "outputs": [
    {
     "name": "stdout",
     "output_type": "stream",
     "text": [
      "Correct winners 273, Incorrect winners 537\n",
      "Win percentage 33.7037037037037\n",
      "Winnings 928.4868093018093, losses 537, diff  391.48680930180933\n"
     ]
    }
   ],
   "source": [
    "correct_winners = test_with_predictions[(test_with_predictions[\"FinishingPosition\"] == 1) & (test_with_predictions[\"PredictedRank\"] == 1)]\n",
    "\n",
    "correct_winners_count = len(correct_winners)\n",
    "incorrect_winners_count = len(test_with_predictions[(test_with_predictions[\"FinishingPosition\"] == 1) & (test_with_predictions[\"PredictedRank\"] != 1)])\n",
    "\n",
    "winnings = correct_winners[\"DecimalOdds\"].sum()\n",
    "win_percentage = 100.0 * correct_winners_count / (correct_winners_count + incorrect_winners_count)\n",
    "\n",
    "print(f\"Correct winners {correct_winners_count}, Incorrect winners {incorrect_winners_count}\")\n",
    "print(f\"Win percentage {win_percentage}\")\n",
    "print(f\"Winnings {winnings}, losses {incorrect_winners_count}, diff  {winnings - incorrect_winners_count}\")\n",
    "\n",
    "if win_percentage < 30:\n",
    "    raise ValueError(\"Prediction rate too low\")"
   ]
  },
  {
   "cell_type": "markdown",
   "metadata": {},
   "source": [
    "## Predictions ##"
   ]
  },
  {
   "cell_type": "code",
   "execution_count": null,
   "metadata": {},
   "outputs": [
    {
     "data": {
      "text/plain": [
       "Index(['RaceId', 'RaceName', 'CourseId', 'CourseName', 'Off', 'RaceType',\n",
       "       'Class', 'Pattern', 'RatingBand', 'AgeBand', 'SexRestriction',\n",
       "       'Distance', 'DistanceInFurlongs', 'DistanceInMeters', 'DistanceInYards',\n",
       "       'Going', 'Surface', 'HorseId', 'HorseName', 'JockeyId', 'JockeyName',\n",
       "       'TrainerId', 'TrainerName', 'Age', 'HeadGear', 'RaceCardNumber',\n",
       "       'StallNumber', 'Weight', 'WeightInPounds', 'FractionalOdds',\n",
       "       'DecimalOdds', 'OfficialRating', 'RacingPostRating', 'TopSpeedRating'],\n",
       "      dtype='object')"
      ]
     },
     "execution_count": 46,
     "metadata": {},
     "output_type": "execute_result"
    }
   ],
   "source": [
    "todays_races = pd.read_csv(\"TodaysRaceCards.csv\")\n",
    "todays_races['Off'] =  pd.to_datetime(todays_races['Off'], format='%m/%d/%Y %H:%M:%S')\n",
    "todays_races.columns"
   ]
  },
  {
   "cell_type": "markdown",
   "metadata": {},
   "source": [
    "### Expand categorical variables"
   ]
  },
  {
   "cell_type": "code",
   "execution_count": null,
   "metadata": {},
   "outputs": [
    {
     "data": {
      "text/plain": [
       "Surface_AllWeather  Surface_Dirt  Surface_Turf\n",
       "0.0                 0.0           1.0             439\n",
       "dtype: int64"
      ]
     },
     "execution_count": 47,
     "metadata": {},
     "output_type": "execute_result"
    }
   ],
   "source": [
    "surface_categories = [\"Surface_AllWeather\", \"Surface_Dirt\", \"Surface_Turf\"]\n",
    "todays_races = todays_races.drop(surface_categories + [\"Surface_Unknown\"], axis=1, errors='ignore')\n",
    "todays_races[\"SurfaceTemp\"] = todays_races[\"Surface\"]\n",
    "todays_races = pd.get_dummies(todays_races, prefix=\"Surface\", columns=[\"SurfaceTemp\"], dtype=float)\n",
    "todays_races = todays_races.drop(\"Surface_Unknown\", axis=1, errors='ignore') # Drop unknown surface as only small number.\n",
    "for surface in surface_categories:\n",
    "    todays_races[surface] = todays_races.get(surface, 0.0)\n",
    "todays_races[surface_categories].value_counts()"
   ]
  },
  {
   "cell_type": "code",
   "execution_count": null,
   "metadata": {},
   "outputs": [],
   "source": [
    "# Normalise going based on rules here: https://www.racingpost.com/guide-to-racing/what-is-the-going-ann7h6W6VB3b/\n",
    "# Values should be: Firm, Good_To_Firm, Good, Good_To_Soft, Soft, Heavy\n",
    "norm_map = ({\n",
    "    \"Good\": \"Good\", \n",
    "    \"Standard\": \"Good\",\n",
    "    \"Soft\": \"Soft\",\n",
    "    \"Good To Soft\": \"Good_To_Soft\",\n",
    "    \"Good To Firm\": \"Good_To_Firm\",\n",
    "    \"Heavy\": \"Heavy\",\n",
    "    \"Good To Yielding\": \"Good_To_Soft\",    \n",
    "    \"Yielding\": \"Good_To_Soft\",\n",
    "    \"Standard To Slow\": \"Good_To_Soft\",  \n",
    "    \"Very Soft\": \"Heavy\",\n",
    "    \"Fast\": \"Firm\",\n",
    "    \"Firm\": \"Firm\",\n",
    "    \"Soft To Heavy\": \"Heavy\",    \n",
    "    \"Yielding To Soft\": \"Soft\",\n",
    "    \"Slow\": \"Soft\",\n",
    "    \"Sloppy\": \"Heavy\",\n",
    "    \"Muddy\": \"Heavy\",\n",
    "    \"Frozen\": \"Heavy\"\n",
    "})\n",
    "\n",
    "todays_races[\"NormGoing\"] = todays_races[\"Going\"].map(norm_map)"
   ]
  },
  {
   "cell_type": "code",
   "execution_count": null,
   "metadata": {},
   "outputs": [
    {
     "data": {
      "text/plain": [
       "Going_Good  Going_Good_To_Soft  Going_Soft  Going_Good_To_Firm  Going_Firm  Going_Heavy\n",
       "1.0         0.0                 0.0         0.0                 0.0         0.0            214\n",
       "0.0         1.0                 0.0         0.0                 0.0         0.0            149\n",
       "            0.0                 1.0         0.0                 0.0         0.0             76\n",
       "dtype: int64"
      ]
     },
     "execution_count": 49,
     "metadata": {},
     "output_type": "execute_result"
    }
   ],
   "source": [
    "going_categories  = [\"Going_Good\", \"Going_Good_To_Soft\", \"Going_Soft\", \"Going_Good_To_Firm\", \"Going_Firm\", \"Going_Heavy\"]\n",
    "todays_races = todays_races.drop(going_categories, axis=1, errors='ignore')\n",
    "todays_races = pd.get_dummies(todays_races, prefix=\"Going\", columns=[\"NormGoing\"], dtype=float)\n",
    "for going in going_categories:\n",
    "    todays_races[going] = todays_races.get(going, 0.0)\n",
    "\n",
    "todays_races[going_categories].value_counts()"
   ]
  },
  {
   "cell_type": "code",
   "execution_count": null,
   "metadata": {},
   "outputs": [
    {
     "data": {
      "text/plain": [
       "RaceType_Other  RaceType_Hurdle  RaceType_SteepleChase  RaceType_Flat\n",
       "1.0             0.0              0.0                    0.0              309\n",
       "0.0             1.0              0.0                    0.0               78\n",
       "                0.0              1.0                    0.0               47\n",
       "                                 0.0                    1.0                5\n",
       "dtype: int64"
      ]
     },
     "execution_count": 50,
     "metadata": {},
     "output_type": "execute_result"
    }
   ],
   "source": [
    "race_type_categories = [\"RaceType_Other\", \"RaceType_Hurdle\", \"RaceType_SteepleChase\", \"RaceType_Flat\"]\n",
    "todays_races = todays_races.drop(race_type_categories, axis=1, errors='ignore')\n",
    "todays_races[\"RaceTypeTemp\"] = todays_races[\"RaceType\"]\n",
    "todays_races = pd.get_dummies(todays_races, prefix=\"RaceType\", columns=[\"RaceTypeTemp\"], dtype=float)\n",
    "for race_type in race_type_categories:\n",
    "    todays_races[race_type] = todays_races.get(race_type, 0.0)\n",
    "\n",
    "todays_races[race_type_categories].value_counts()"
   ]
  },
  {
   "cell_type": "markdown",
   "metadata": {},
   "source": [
    "### Load horse stats"
   ]
  },
  {
   "cell_type": "code",
   "execution_count": null,
   "metadata": {},
   "outputs": [
    {
     "data": {
      "text/plain": [
       "Index(['HorseId', 'LastOff', 'LastRaceDistanceInMeters',\n",
       "       'LastRaceWeightInPounds', 'LastRaceAvgRelFinishingPosition',\n",
       "       'LastRaceSurface_AllWeather', 'LastRaceSurface_Dirt',\n",
       "       'LastRaceSurface_Turf', 'LastRaceGoing_Firm', 'LastRaceGoing_Good',\n",
       "       'LastRaceGoing_Good_To_Firm', 'LastRaceGoing_Good_To_Soft',\n",
       "       'LastRaceGoing_Heavy', 'LastRaceGoing_Soft', 'LastRaceRaceType_Flat',\n",
       "       'LastRaceRaceType_Hurdle', 'LastRaceRaceType_Other',\n",
       "       'LastRaceRaceType_SteepleChase', 'LastRaceSpeed'],\n",
       "      dtype='object')"
      ]
     },
     "execution_count": 51,
     "metadata": {},
     "output_type": "execute_result"
    }
   ],
   "source": [
    "horse_stats = pd.read_csv(\"Horse_Stats.csv\")\n",
    "horse_stats['LastOff'] =  pd.to_datetime(horse_stats['LastOff'], format='%Y-%m-%d %H:%M:%S')\n",
    "horse_stats.columns"
   ]
  },
  {
   "cell_type": "code",
   "execution_count": null,
   "metadata": {},
   "outputs": [],
   "source": [
    "todays_races = pd.merge(todays_races, horse_stats, how=\"left\", on=[\"HorseId\"])"
   ]
  },
  {
   "cell_type": "code",
   "execution_count": null,
   "metadata": {},
   "outputs": [],
   "source": [
    "today = np.datetime64(datetime.today())\n",
    "one_day = np.timedelta64(1, 'D')\n",
    "todays_races[\"DaysRested\"] = np.ceil((today - todays_races[\"LastOff\"]) / one_day)\n",
    "todays_races.loc[todays_races[\"DaysRested\"] > 10, \"DaysRested\"] = 10\n",
    "todays_races = todays_races.drop(\"LastOff\", axis=1, errors='ignore')"
   ]
  },
  {
   "cell_type": "code",
   "execution_count": null,
   "metadata": {},
   "outputs": [],
   "source": [
    "groups = todays_races.groupby(['RaceId']).apply(lambda g: pd.Series({'HorseCount': g['RaceId'].count()}, index=['HorseCount']))\n",
    "todays_races = pd.merge(todays_races, groups, how='left', on=['RaceId'])"
   ]
  },
  {
   "cell_type": "markdown",
   "metadata": {},
   "source": [
    "### Load jockey stats"
   ]
  },
  {
   "cell_type": "code",
   "execution_count": null,
   "metadata": {},
   "outputs": [
    {
     "data": {
      "text/plain": [
       "Index(['JockeyId', 'LastOff', 'JockeyNumberOfPriorRaces',\n",
       "       'JockeyWinPercentage', 'JockeyTop3Percentage',\n",
       "       'JockeyAvgRelFinishingPosition'],\n",
       "      dtype='object')"
      ]
     },
     "execution_count": 55,
     "metadata": {},
     "output_type": "execute_result"
    }
   ],
   "source": [
    "jockey_stats = pd.read_csv(\"Jockey_Stats.csv\")\n",
    "jockey_stats['LastOff'] =  pd.to_datetime(jockey_stats['LastOff'], format='%Y-%m-%d %H:%M:%S')\n",
    "jockey_stats.columns"
   ]
  },
  {
   "cell_type": "code",
   "execution_count": null,
   "metadata": {},
   "outputs": [],
   "source": [
    "todays_races = pd.merge(todays_races, jockey_stats, how=\"left\", on=[\"JockeyId\"])"
   ]
  },
  {
   "cell_type": "code",
   "execution_count": null,
   "metadata": {},
   "outputs": [],
   "source": [
    "todays_races[\"DaysSinceJockeyLastRaced\"] = np.ceil((today - todays_races[\"LastOff\"]) / one_day)\n",
    "todays_races.loc[todays_races[\"DaysSinceJockeyLastRaced\"] > 10, \"DaysSinceJockeyLastRaced\"] = 10\n",
    "todays_races = todays_races.drop(\"LastOff\", axis=1, errors='ignore')"
   ]
  },
  {
   "cell_type": "markdown",
   "metadata": {},
   "source": [
    "### Eliminate races that cannot be reliably predicted"
   ]
  },
  {
   "cell_type": "code",
   "execution_count": null,
   "metadata": {},
   "outputs": [
    {
     "data": {
      "text/plain": [
       "array([[<AxesSubplot:title={'center':'HorseCount'}>]], dtype=object)"
      ]
     },
     "execution_count": 58,
     "metadata": {},
     "output_type": "execute_result"
    },
    {
     "data": {
      "image/png": "[encoded data removed]",
      "text/plain": [
       "<Figure size 432x288 with 1 Axes>"
      ]
     },
     "metadata": {
      "needs_background": "light"
     },
     "output_type": "display_data"
    }
   ],
   "source": [
    "race_info = ['RaceId', 'CourseId', 'CourseName', 'Off', 'HorseId', 'HorseName', 'HorseCount', 'JockeyId', 'JockeyName']\n",
    "\n",
    "races_to_predict = todays_races[race_info + predictors].dropna().copy()\n",
    "\n",
    "max_horses_in_race = races_to_predict[\"HorseCount\"].max()\n",
    "races_to_predict.groupby(\"RaceId\").apply(lambda g: pd.Series({'HorseCount': g['RaceId'].count()}, index=['HorseCount'])).hist(bins=max_horses_in_race)"
   ]
  },
  {
   "cell_type": "code",
   "execution_count": null,
   "metadata": {},
   "outputs": [
    {
     "data": {
      "text/plain": [
       "array([[<AxesSubplot:title={'center':'HorseCount'}>]], dtype=object)"
      ]
     },
     "execution_count": 59,
     "metadata": {},
     "output_type": "execute_result"
    },
    {
     "data": {
      "image/png": "[encoded data removed]",
      "text/plain": [
       "<Figure size 432x288 with 1 Axes>"
      ]
     },
     "metadata": {
      "needs_background": "light"
     },
     "output_type": "display_data"
    }
   ],
   "source": [
    "if len(races_to_predict) > 0:\n",
    "    # Now that we've dropped any rows with na values, calculate which races in which we can predict the speed for all horses.\n",
    "    races_to_predict = races_to_predict.drop(\"PredictableHorseCount\", axis=1, errors='ignore')\n",
    "    groups = races_to_predict.groupby(['RaceId']).apply(lambda g: pd.Series({'PredictableHorseCount': g['RaceId'].count()}, index=['PredictableHorseCount']))\n",
    "    races_to_predict = pd.merge(races_to_predict, groups, how='left', on=['RaceId'])\n",
    "    races_to_predict = races_to_predict[(races_to_predict[\"HorseCount\"] == races_to_predict[\"PredictableHorseCount\"]) & (races_to_predict[\"HorseCount\"] <= 10)]\n",
    "\n",
    "max_horses_in_race = races_to_predict[\"HorseCount\"].max()\n",
    "races_to_predict.groupby(\"RaceId\").apply(lambda g: pd.Series({'HorseCount': g['RaceId'].count()}, index=['HorseCount'])).hist(bins=max_horses_in_race)"
   ]
  },
  {
   "cell_type": "code",
   "execution_count": null,
   "metadata": {},
   "outputs": [],
   "source": [
    "test_inputs = races_to_predict[predictors]\n",
    "predictions = model.predict(test_inputs)\n",
    "races_to_predict[\"PredictedSpeed\"] = predictions"
   ]
  },
  {
   "cell_type": "code",
   "execution_count": null,
   "metadata": {},
   "outputs": [],
   "source": [
    "races_to_predict[\"PredictedRank\"] = races_to_predict.groupby(\"RaceId\")[\"PredictedSpeed\"].rank(method=\"dense\", ascending=False)"
   ]
  },
  {
   "cell_type": "code",
   "execution_count": null,
   "metadata": {},
   "outputs": [
    {
     "data": {
      "text/html": [
       "<div>\n",
       "<style scoped>\n",
       "    .dataframe tbody tr th:only-of-type {\n",
       "        vertical-align: middle;\n",
       "    }\n",
       "\n",
       "    .dataframe tbody tr th {\n",
       "        vertical-align: top;\n",
       "    }\n",
       "\n",
       "    .dataframe thead th {\n",
       "        text-align: right;\n",
       "    }\n",
       "</style>\n",
       "<table border=\"1\" class=\"dataframe\">\n",
       "  <thead>\n",
       "    <tr style=\"text-align: right;\">\n",
       "      <th></th>\n",
       "      <th>RaceId</th>\n",
       "      <th>CourseId</th>\n",
       "      <th>CourseName</th>\n",
       "      <th>Off</th>\n",
       "      <th>HorseId</th>\n",
       "      <th>HorseName</th>\n",
       "    </tr>\n",
       "  </thead>\n",
       "  <tbody>\n",
       "    <tr>\n",
       "      <th>6</th>\n",
       "      <td>847768</td>\n",
       "      <td>6</td>\n",
       "      <td>Beverley</td>\n",
       "      <td>2023-09-20 13:50:00</td>\n",
       "      <td>5045863</td>\n",
       "      <td>Pete The Brief</td>\n",
       "    </tr>\n",
       "    <tr>\n",
       "      <th>36</th>\n",
       "      <td>847762</td>\n",
       "      <td>6</td>\n",
       "      <td>Beverley</td>\n",
       "      <td>2023-09-20 16:00:00</td>\n",
       "      <td>3526627</td>\n",
       "      <td>Mattice</td>\n",
       "    </tr>\n",
       "    <tr>\n",
       "      <th>48</th>\n",
       "      <td>847764</td>\n",
       "      <td>6</td>\n",
       "      <td>Beverley</td>\n",
       "      <td>2023-09-20 17:10:00</td>\n",
       "      <td>2801626</td>\n",
       "      <td>Dandy's Angel</td>\n",
       "    </tr>\n",
       "    <tr>\n",
       "      <th>60</th>\n",
       "      <td>850101</td>\n",
       "      <td>6</td>\n",
       "      <td>Beverley</td>\n",
       "      <td>2023-09-20 17:45:00</td>\n",
       "      <td>3781879</td>\n",
       "      <td>Brunello Breeze</td>\n",
       "    </tr>\n",
       "    <tr>\n",
       "      <th>301</th>\n",
       "      <td>850103</td>\n",
       "      <td>396</td>\n",
       "      <td>Happy Valley</td>\n",
       "      <td>2023-09-20 12:15:00</td>\n",
       "      <td>3855484</td>\n",
       "      <td>Classic Archi</td>\n",
       "    </tr>\n",
       "    <tr>\n",
       "      <th>319</th>\n",
       "      <td>850105</td>\n",
       "      <td>396</td>\n",
       "      <td>Happy Valley</td>\n",
       "      <td>2023-09-20 13:15:00</td>\n",
       "      <td>4804239</td>\n",
       "      <td>June Planet</td>\n",
       "    </tr>\n",
       "    <tr>\n",
       "      <th>351</th>\n",
       "      <td>850108</td>\n",
       "      <td>396</td>\n",
       "      <td>Happy Valley</td>\n",
       "      <td>2023-09-20 14:45:00</td>\n",
       "      <td>3729007</td>\n",
       "      <td>Up And Up</td>\n",
       "    </tr>\n",
       "    <tr>\n",
       "      <th>256</th>\n",
       "      <td>847895</td>\n",
       "      <td>27</td>\n",
       "      <td>Kelso</td>\n",
       "      <td>2023-09-20 15:30:00</td>\n",
       "      <td>3966616</td>\n",
       "      <td>Our Marty</td>\n",
       "    </tr>\n",
       "    <tr>\n",
       "      <th>266</th>\n",
       "      <td>847892</td>\n",
       "      <td>27</td>\n",
       "      <td>Kelso</td>\n",
       "      <td>2023-09-20 16:05:00</td>\n",
       "      <td>2855872</td>\n",
       "      <td>Fusain</td>\n",
       "    </tr>\n",
       "    <tr>\n",
       "      <th>276</th>\n",
       "      <td>850102</td>\n",
       "      <td>27</td>\n",
       "      <td>Kelso</td>\n",
       "      <td>2023-09-20 17:15:00</td>\n",
       "      <td>2654538</td>\n",
       "      <td>Darkest Day</td>\n",
       "    </tr>\n",
       "    <tr>\n",
       "      <th>284</th>\n",
       "      <td>847891</td>\n",
       "      <td>27</td>\n",
       "      <td>Kelso</td>\n",
       "      <td>2023-09-20 17:50:00</td>\n",
       "      <td>1785138</td>\n",
       "      <td>Sebastopol</td>\n",
       "    </tr>\n",
       "    <tr>\n",
       "      <th>295</th>\n",
       "      <td>847893</td>\n",
       "      <td>27</td>\n",
       "      <td>Kelso</td>\n",
       "      <td>2023-09-20 18:25:00</td>\n",
       "      <td>3921705</td>\n",
       "      <td>Lights Are Green</td>\n",
       "    </tr>\n",
       "    <tr>\n",
       "      <th>194</th>\n",
       "      <td>849990</td>\n",
       "      <td>190</td>\n",
       "      <td>Listowel</td>\n",
       "      <td>2023-09-20 14:45:00</td>\n",
       "      <td>3234543</td>\n",
       "      <td>Bialystok</td>\n",
       "    </tr>\n",
       "    <tr>\n",
       "      <th>215</th>\n",
       "      <td>849992</td>\n",
       "      <td>190</td>\n",
       "      <td>Listowel</td>\n",
       "      <td>2023-09-20 15:50:00</td>\n",
       "      <td>4001857</td>\n",
       "      <td>Heia</td>\n",
       "    </tr>\n",
       "    <tr>\n",
       "      <th>61</th>\n",
       "      <td>847775</td>\n",
       "      <td>54</td>\n",
       "      <td>Sandown</td>\n",
       "      <td>2023-09-20 13:55:00</td>\n",
       "      <td>4326483</td>\n",
       "      <td>Exquisitely</td>\n",
       "    </tr>\n",
       "    <tr>\n",
       "      <th>89</th>\n",
       "      <td>847771</td>\n",
       "      <td>54</td>\n",
       "      <td>Sandown</td>\n",
       "      <td>2023-09-20 16:15:00</td>\n",
       "      <td>4618303</td>\n",
       "      <td>Eastern Charm</td>\n",
       "    </tr>\n",
       "    <tr>\n",
       "      <th>101</th>\n",
       "      <td>847770</td>\n",
       "      <td>54</td>\n",
       "      <td>Sandown</td>\n",
       "      <td>2023-09-20 16:50:00</td>\n",
       "      <td>4599600</td>\n",
       "      <td>Outgun</td>\n",
       "    </tr>\n",
       "    <tr>\n",
       "      <th>117</th>\n",
       "      <td>847754</td>\n",
       "      <td>104</td>\n",
       "      <td>Yarmouth</td>\n",
       "      <td>2023-09-20 14:05:00</td>\n",
       "      <td>4763551</td>\n",
       "      <td>Zina Colada</td>\n",
       "    </tr>\n",
       "    <tr>\n",
       "      <th>154</th>\n",
       "      <td>847750</td>\n",
       "      <td>104</td>\n",
       "      <td>Yarmouth</td>\n",
       "      <td>2023-09-20 16:20:00</td>\n",
       "      <td>4570896</td>\n",
       "      <td>Sceptic</td>\n",
       "    </tr>\n",
       "    <tr>\n",
       "      <th>163</th>\n",
       "      <td>847751</td>\n",
       "      <td>104</td>\n",
       "      <td>Yarmouth</td>\n",
       "      <td>2023-09-20 16:55:00</td>\n",
       "      <td>4628831</td>\n",
       "      <td>Shazam</td>\n",
       "    </tr>\n",
       "  </tbody>\n",
       "</table>\n",
       "</div>"
      ],
      "text/plain": [
       "     RaceId  CourseId    CourseName                 Off  HorseId  \\\n",
       "6    847768         6      Beverley 2023-09-20 13:50:00  5045863   \n",
       "36   847762         6      Beverley 2023-09-20 16:00:00  3526627   \n",
       "48   847764         6      Beverley 2023-09-20 17:10:00  2801626   \n",
       "60   850101         6      Beverley 2023-09-20 17:45:00  3781879   \n",
       "301  850103       396  Happy Valley 2023-09-20 12:15:00  3855484   \n",
       "319  850105       396  Happy Valley 2023-09-20 13:15:00  4804239   \n",
       "351  850108       396  Happy Valley 2023-09-20 14:45:00  3729007   \n",
       "256  847895        27         Kelso 2023-09-20 15:30:00  3966616   \n",
       "266  847892        27         Kelso 2023-09-20 16:05:00  2855872   \n",
       "276  850102        27         Kelso 2023-09-20 17:15:00  2654538   \n",
       "284  847891        27         Kelso 2023-09-20 17:50:00  1785138   \n",
       "295  847893        27         Kelso 2023-09-20 18:25:00  3921705   \n",
       "194  849990       190      Listowel 2023-09-20 14:45:00  3234543   \n",
       "215  849992       190      Listowel 2023-09-20 15:50:00  4001857   \n",
       "61   847775        54       Sandown 2023-09-20 13:55:00  4326483   \n",
       "89   847771        54       Sandown 2023-09-20 16:15:00  4618303   \n",
       "101  847770        54       Sandown 2023-09-20 16:50:00  4599600   \n",
       "117  847754       104      Yarmouth 2023-09-20 14:05:00  4763551   \n",
       "154  847750       104      Yarmouth 2023-09-20 16:20:00  4570896   \n",
       "163  847751       104      Yarmouth 2023-09-20 16:55:00  4628831   \n",
       "\n",
       "            HorseName  \n",
       "6      Pete The Brief  \n",
       "36            Mattice  \n",
       "48      Dandy's Angel  \n",
       "60    Brunello Breeze  \n",
       "301     Classic Archi  \n",
       "319       June Planet  \n",
       "351         Up And Up  \n",
       "256         Our Marty  \n",
       "266            Fusain  \n",
       "276       Darkest Day  \n",
       "284        Sebastopol  \n",
       "295  Lights Are Green  \n",
       "194         Bialystok  \n",
       "215              Heia  \n",
       "61        Exquisitely  \n",
       "89      Eastern Charm  \n",
       "101            Outgun  \n",
       "117       Zina Colada  \n",
       "154           Sceptic  \n",
       "163            Shazam  "
      ]
     },
     "execution_count": 62,
     "metadata": {},
     "output_type": "execute_result"
    }
   ],
   "source": [
    "todays_predictions = (races_to_predict[races_to_predict[\"PredictedRank\"] == 1]\n",
    "    .sort_values([\"CourseName\", \"Off\"])\n",
    "    [[\"RaceId\", \"CourseId\", \"CourseName\", \"Off\", \"HorseId\", \"HorseName\"]])\n",
    "\n",
    "todays_predictions.to_csv(\"TodaysPredictions.csv\", index=False)\n",
    "\n",
    "todays_predictions"
   ]
  },
  {
   "cell_type": "code",
   "execution_count": null,
   "metadata": {},
   "outputs": [
    {
     "name": "stdout",
     "output_type": "stream",
     "text": [
      "Generated predictions for 20 races\n",
      "  CourseName                 Off        HorseName\n",
      "    Beverley 2023-09-20 13:50:00   Pete The Brief\n",
      "    Beverley 2023-09-20 16:00:00          Mattice\n",
      "    Beverley 2023-09-20 17:10:00    Dandy's Angel\n",
      "    Beverley 2023-09-20 17:45:00  Brunello Breeze\n",
      "Happy Valley 2023-09-20 12:15:00    Classic Archi\n",
      "Happy Valley 2023-09-20 13:15:00      June Planet\n",
      "Happy Valley 2023-09-20 14:45:00        Up And Up\n",
      "       Kelso 2023-09-20 15:30:00        Our Marty\n",
      "       Kelso 2023-09-20 16:05:00           Fusain\n",
      "       Kelso 2023-09-20 17:15:00      Darkest Day\n",
      "       Kelso 2023-09-20 17:50:00       Sebastopol\n",
      "       Kelso 2023-09-20 18:25:00 Lights Are Green\n",
      "    Listowel 2023-09-20 14:45:00        Bialystok\n",
      "    Listowel 2023-09-20 15:50:00             Heia\n",
      "     Sandown 2023-09-20 13:55:00      Exquisitely\n",
      "     Sandown 2023-09-20 16:15:00    Eastern Charm\n",
      "     Sandown 2023-09-20 16:50:00           Outgun\n",
      "    Yarmouth 2023-09-20 14:05:00      Zina Colada\n",
      "    Yarmouth 2023-09-20 16:20:00          Sceptic\n",
      "    Yarmouth 2023-09-20 16:55:00           Shazam\n"
     ]
    }
   ],
   "source": [
    "print(f\"Generated predictions for {len(todays_predictions)} races\")\n",
    "print(todays_predictions[[\"CourseName\", \"Off\", \"HorseName\"]].to_string(index=False))"
   ]
  }
 ],
 "metadata": {
  "kernelspec": {
   "display_name": "Python 3",
   "language": "python",
   "name": "python3"
  },
  "language_info": {
   "codemirror_mode": {
    "name": "ipython",
    "version": 3
   },
   "file_extension": ".py",
   "mimetype": "text/x-python",
   "name": "python",
   "nbconvert_exporter": "python",
   "pygments_lexer": "ipython3",
   "version": "3.9.13"
  },
  "orig_nbformat": 4
 },
 "nbformat": 4,
 "nbformat_minor": 2
}
