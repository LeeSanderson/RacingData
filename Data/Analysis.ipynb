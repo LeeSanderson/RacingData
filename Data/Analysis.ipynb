{
 "cells": [
  {
   "cell_type": "code",
   "execution_count": null,
   "metadata": {},
   "outputs": [],
   "source": [
    "%pip install numpy\n",
    "%pip install Pandas"
   ]
  },
  {
   "cell_type": "code",
   "execution_count": 2,
   "metadata": {},
   "outputs": [],
   "source": [
    "import numpy as np\n",
    "import pandas as pd"
   ]
  },
  {
   "cell_type": "code",
   "execution_count": 3,
   "metadata": {},
   "outputs": [],
   "source": [
    "import glob\n",
    "from datetime import timedelta\n",
    "results_files = glob.glob('Results_*.csv')\n",
    "results_files\n",
    "\n",
    "history = pd.concat([pd.read_csv(f) for f in results_files])\n",
    "history = history[history['ResultStatus'] == 'CompletedRace']\n",
    "history['Off'] =  pd.to_datetime(history['Off'], format='%m/%d/%Y %H:%M:%S')\n",
    "history_start = history['Off'].min().date()\n",
    "history_end = history['Off'].max().date() - timedelta(days=1)\n",
    "predict_window_size = 90"
   ]
  },
  {
   "cell_type": "code",
   "execution_count": 8,
   "metadata": {},
   "outputs": [],
   "source": [
    "from typing import Callable\n",
    "\n",
    "def predict_races_using_history(prediction_func : Callable[[pd.DataFrame, pd.DataFrame], pd.DataFrame]) -> pd.DataFrame:\n",
    "    window_start = history_start\n",
    "    loop_end = history_end - timedelta(days=predict_window_size)   \n",
    "    while window_start < loop_end:\n",
    "        window_end = window_start + timedelta(days=predict_window_size)\n",
    "        window = history[(history['Off'].dt.date >= window_start) & (history['Off'].dt.date < window_end)]\n",
    "        prediction_start = window_end + timedelta(days=1)\n",
    "        prediction_end = prediction_start + timedelta(days=1)\n",
    "        to_predict = history[(history['Off'].dt.date >= prediction_start) & (history['Off'].dt.date < prediction_end)]\n",
    "\n",
    "        print(f'Predicting {to_predict[\"RaceId\"].nunique()} races in date range {prediction_start} to {prediction_end}')\n",
    "        print(f'using {window[\"RaceId\"].nunique()} races in date range {window_start} to {window_end}')\n",
    "        window_start = window_start + timedelta(days=1)\n",
    "    pass"
   ]
  },
  {
   "cell_type": "code",
   "execution_count": 9,
   "metadata": {},
   "outputs": [
    {
     "name": "stdout",
     "output_type": "stream",
     "text": [
      "Predicting 52 races in date range 2022-06-06 to 2022-06-07\n",
      "using 4795 races in date range 2022-03-07 to 2022-06-05\n",
      "Predicting 30 races in date range 2022-06-07 to 2022-06-08\n",
      "using 4828 races in date range 2022-03-08 to 2022-06-06\n",
      "Predicting 58 races in date range 2022-06-08 to 2022-06-09\n",
      "using 4843 races in date range 2022-03-09 to 2022-06-07\n",
      "Predicting 51 races in date range 2022-06-09 to 2022-06-10\n",
      "using 4829 races in date range 2022-03-10 to 2022-06-08\n",
      "Predicting 60 races in date range 2022-06-10 to 2022-06-11\n",
      "using 4843 races in date range 2022-03-11 to 2022-06-09\n",
      "Predicting 90 races in date range 2022-06-11 to 2022-06-12\n",
      "using 4856 races in date range 2022-03-12 to 2022-06-10\n",
      "Predicting 57 races in date range 2022-06-12 to 2022-06-13\n",
      "using 4810 races in date range 2022-03-13 to 2022-06-11\n",
      "Predicting 38 races in date range 2022-06-13 to 2022-06-14\n",
      "using 4861 races in date range 2022-03-14 to 2022-06-12\n",
      "Predicting 42 races in date range 2022-06-14 to 2022-06-15\n",
      "using 4882 races in date range 2022-03-15 to 2022-06-13\n",
      "Predicting 42 races in date range 2022-06-15 to 2022-06-16\n",
      "using 4893 races in date range 2022-03-16 to 2022-06-14\n",
      "Predicting 51 races in date range 2022-06-16 to 2022-06-17\n",
      "using 4884 races in date range 2022-03-17 to 2022-06-15\n",
      "Predicting 55 races in date range 2022-06-17 to 2022-06-18\n",
      "using 4891 races in date range 2022-03-18 to 2022-06-16\n",
      "Predicting 68 races in date range 2022-06-18 to 2022-06-19\n",
      "using 4906 races in date range 2022-03-19 to 2022-06-17\n",
      "Predicting 48 races in date range 2022-06-19 to 2022-06-20\n",
      "using 4886 races in date range 2022-03-20 to 2022-06-18\n",
      "Predicting 40 races in date range 2022-06-20 to 2022-06-21\n",
      "using 4910 races in date range 2022-03-21 to 2022-06-19\n",
      "Predicting 43 races in date range 2022-06-21 to 2022-06-22\n",
      "using 4936 races in date range 2022-03-22 to 2022-06-20\n",
      "Predicting 61 races in date range 2022-06-22 to 2022-06-23\n",
      "using 4941 races in date range 2022-03-23 to 2022-06-21\n",
      "Predicting 42 races in date range 2022-06-23 to 2022-06-24\n",
      "using 4947 races in date range 2022-03-24 to 2022-06-22\n",
      "Predicting 63 races in date range 2022-06-24 to 2022-06-25\n",
      "using 4973 races in date range 2022-03-25 to 2022-06-23\n",
      "Predicting 79 races in date range 2022-06-25 to 2022-06-26\n",
      "using 4978 races in date range 2022-03-26 to 2022-06-24\n",
      "Predicting 37 races in date range 2022-06-26 to 2022-06-27\n",
      "using 4975 races in date range 2022-03-27 to 2022-06-25\n",
      "Predicting 32 races in date range 2022-06-27 to 2022-06-28\n",
      "using 4995 races in date range 2022-03-28 to 2022-06-26\n",
      "Predicting 50 races in date range 2022-06-28 to 2022-06-29\n",
      "using 5004 races in date range 2022-03-29 to 2022-06-27\n",
      "Predicting 45 races in date range 2022-06-29 to 2022-06-30\n",
      "using 5001 races in date range 2022-03-30 to 2022-06-28\n",
      "Predicting 60 races in date range 2022-06-30 to 2022-07-01\n",
      "using 5017 races in date range 2022-03-31 to 2022-06-29\n",
      "Predicting 61 races in date range 2022-07-01 to 2022-07-02\n",
      "using 5009 races in date range 2022-04-01 to 2022-06-30\n",
      "Predicting 81 races in date range 2022-07-02 to 2022-07-03\n",
      "using 5018 races in date range 2022-04-02 to 2022-07-01\n",
      "Predicting 44 races in date range 2022-07-03 to 2022-07-04\n",
      "using 4996 races in date range 2022-04-03 to 2022-07-02\n",
      "Predicting 32 races in date range 2022-07-04 to 2022-07-05\n",
      "using 5028 races in date range 2022-04-04 to 2022-07-03\n",
      "Predicting 38 races in date range 2022-07-05 to 2022-07-06\n",
      "using 5040 races in date range 2022-04-05 to 2022-07-04\n",
      "Predicting 52 races in date range 2022-07-06 to 2022-07-07\n",
      "using 5043 races in date range 2022-04-06 to 2022-07-05\n",
      "Predicting 57 races in date range 2022-07-07 to 2022-07-08\n",
      "using 5020 races in date range 2022-04-07 to 2022-07-06\n",
      "Predicting 50 races in date range 2022-07-08 to 2022-07-09\n",
      "using 5019 races in date range 2022-04-08 to 2022-07-07\n"
     ]
    }
   ],
   "source": [
    "predict_races_using_history(lambda x, y:  x)"
   ]
  },
  {
   "cell_type": "code",
   "execution_count": null,
   "metadata": {},
   "outputs": [],
   "source": [
    "#history = pd.concat([pd.read_csv('Results_202203.csv'), pd.read_csv('Results_202204.csv'), pd.read_csv('Results_202205.csv')])\n",
    "#history = pd.concat([pd.read_csv('Results_202202.csv'), pd.read_csv('Results_202203.csv'), pd.read_csv('Results_202204.csv'), pd.read_csv('Results_202205.csv')])\n",
    "#history = pd.concat([pd.read_csv('Results_202201.csv'), pd.read_csv('Results_202202.csv'), pd.read_csv('Results_202203.csv'), pd.read_csv('Results_202204.csv'), pd.read_csv('Results_202205.csv')])\n",
    "history = pd.concat([pd.read_csv('Results_202112.csv'), pd.read_csv('Results_202201.csv'), pd.read_csv('Results_202202.csv'), pd.read_csv('Results_202203.csv'), pd.read_csv('Results_202204.csv'), pd.read_csv('Results_202205.csv')])\n",
    "\n",
    "history = history[history['ResultStatus'] == 'CompletedRace']\n",
    "results = pd.read_csv('ResultsToPredict.csv')\n",
    "results = results[results['ResultStatus'] == 'CompletedRace']\n",
    "results.columns"
   ]
  },
  {
   "cell_type": "code",
   "execution_count": null,
   "metadata": {},
   "outputs": [
    {
     "data": {
      "text/plain": [
       "(419, 65, 15.513126491646778)"
      ]
     },
     "execution_count": 180,
     "metadata": {},
     "output_type": "execute_result"
    }
   ],
   "source": [
    "# Ensure that the majority of horses in the results to be predicted have ran races in the last 3 months of historic results\n",
    "historic_racers = history.groupby(['HorseId']).size().reset_index(name='HistoryCount')\n",
    "results_with_historic_race_counts = pd.merge(results, historic_racers, on='HorseId', how='left').fillna({'HistoryCount': 0})\n",
    "results_with_historic_race_counts[['RaceId', 'HorseId', 'HistoryCount', 'FinishingPosition']].head(10)\n",
    "\n",
    "winners_than_never_previously_raced = len(results_with_historic_race_counts[(results_with_historic_race_counts['HistoryCount'] == 0) & (results_with_historic_race_counts['FinishingPosition'] == 1)])\n",
    "number_of_races = results_with_historic_race_counts['RaceId'].nunique()\n",
    "percentage_of_winners_that_never_raced = (winners_than_never_previously_raced / number_of_races) * 100.0\n",
    "(number_of_races, winners_than_never_previously_raced, percentage_of_winners_that_never_raced)\n",
    "\n",
    "# 3 months = (number_of_races = 419, winners_than_never_previously_raced = 72, percentageOfWinnersThatNeverRaced = 17.18%)\n",
    "# 4 months = (number_of_races = 419, winners_than_never_previously_raced = 68, percentageOfWinnersThatNeverRaced = 16.23%)\n",
    "# 6 months = (number_of_races = 419, winners_than_never_previously_raced = 65, percentageOfWinnersThatNeverRaced = 15.51%)\n",
    "# TODO: Add a check to ensure that the percentage of winners that never raced is less than 10%\n",
    "# TODO: Increase history data so that the percentage of winners that never raced is less than 5%"
   ]
  },
  {
   "cell_type": "code",
   "execution_count": null,
   "metadata": {},
   "outputs": [
    {
     "data": {
      "text/plain": [
       "(419, 155, 259, 259, 5)"
      ]
     },
     "execution_count": 181,
     "metadata": {},
     "output_type": "execute_result"
    }
   ],
   "source": [
    "# Calculate number of races where all runners have previously raced\n",
    "def calculate_race_aggregates(x):\n",
    "    d = {}\n",
    "    d['HorseCount'] = x['HorseId'].count()\n",
    "    d['PreviouslyRanHouseCount'] = x[x['HistoryCount'] > 0]['HorseId'].count()\n",
    "    return pd.Series(d, index=['HorseCount', 'PreviouslyRanHouseCount'])\n",
    "\n",
    "races_with_run_counts = results_with_historic_race_counts.groupby('RaceId').apply(calculate_race_aggregates)\n",
    "races = len(races_with_run_counts)\n",
    "races_where_all_horses_previously_ran = len(races_with_run_counts[races_with_run_counts['HorseCount'] == races_with_run_counts['PreviouslyRanHouseCount']])\n",
    "races_where_80_percent_of_horses_previously_ran = len(races_with_run_counts[races_with_run_counts['PreviouslyRanHouseCount'] > races_with_run_counts['HorseCount'] * 0.8])\n",
    "races_where_50_percent_of_horses_previously_ran = len(races_with_run_counts[races_with_run_counts['PreviouslyRanHouseCount'] > races_with_run_counts['HorseCount'] * 0.5])\n",
    "races_where_no_horses_previously_ran = len(races_with_run_counts[races_with_run_counts['PreviouslyRanHouseCount'] == 0])\n",
    "\n",
    "(races, races_where_all_horses_previously_ran, races_where_80_percent_of_horses_previously_ran, races_where_80_percent_of_horses_previously_ran, races_where_no_horses_previously_ran)\n",
    "#(419, 127, 234, 234, 6)\n",
    "# TODO: Ignore races where predictor accuracy is low (based on logic below)"
   ]
  },
  {
   "cell_type": "code",
   "execution_count": null,
   "metadata": {},
   "outputs": [],
   "source": [
    "def calculate_distance_type(row):\n",
    "    if row['DistanceInMeters'] < 1300:\n",
    "        return 'VeryShort'\n",
    "    elif row['DistanceInMeters'] < 1700:\n",
    "        return 'Short'\n",
    "    elif row['DistanceInMeters'] < 3000:\n",
    "        return 'Medium'\n",
    "    elif row['DistanceInMeters'] < 4000:        \n",
    "        return 'Long'\n",
    "    else:\n",
    "        return 'VeryLong'\n",
    "\n",
    "history['DistanceType'] = history.apply(calculate_distance_type, axis=1)\n",
    "results['DistanceType'] = results.apply(calculate_distance_type, axis=1)"
   ]
  },
  {
   "cell_type": "code",
   "execution_count": null,
   "metadata": {},
   "outputs": [],
   "source": [
    "def calculate_average_speed_over_previous_races(x):\n",
    "    d = {}\n",
    "    d['RacesRan'] = x['HorseId'].count()\n",
    "    d['TotalDistanceInMeters'] = x['DistanceInMeters'].sum()\n",
    "    d['TotalTimeInSeconds'] = x['RaceTimeInSeconds'].sum()\n",
    "    d['AverageSpeed'] = d['TotalDistanceInMeters'] / d['TotalTimeInSeconds']\n",
    "    return pd.Series(d, index=['RacesRan', 'TotalDistanceInMeters', 'TotalTimeInSeconds', 'AverageSpeed'])\n",
    "\n",
    "average_speeds = history.groupby(['HorseId', 'HorseName', 'RaceType', 'DistanceType', 'Going']).apply(calculate_average_speed_over_previous_races)"
   ]
  },
  {
   "cell_type": "code",
   "execution_count": null,
   "metadata": {},
   "outputs": [],
   "source": [
    "average_speeds.sort_values('RacesRan')\n",
    "results_with_speeds = pd.merge(results, average_speeds, how='left', on=['HorseId', 'RaceType', 'DistanceType', 'Going'])\n",
    "results_with_speeds['AverageSpeed'] = results_with_speeds['AverageSpeed'].fillna(0)"
   ]
  },
  {
   "cell_type": "code",
   "execution_count": null,
   "metadata": {},
   "outputs": [
    {
     "data": {
      "text/plain": [
       "(419, 10, 26, 26, 340, 79)"
      ]
     },
     "execution_count": 185,
     "metadata": {},
     "output_type": "execute_result"
    }
   ],
   "source": [
    "def calculate_speed_race_aggregates(x):\n",
    "    d = {}\n",
    "    d['HorseCount'] = x['HorseId'].count()\n",
    "    d['PreviouslyRanOnSimilarCourseCount'] = x[x['AverageSpeed'] > 0]['HorseId'].count()\n",
    "    return pd.Series(d, index=['HorseCount', 'PreviouslyRanOnSimilarCourseCount'])\n",
    "\n",
    "races_with_speed_counts = results_with_speeds.groupby('RaceId').apply(calculate_speed_race_aggregates)\n",
    "\n",
    "races = len(races_with_speed_counts)\n",
    "races_where_all_horses_previously_ran = len(races_with_speed_counts[races_with_speed_counts['HorseCount'] == races_with_speed_counts['PreviouslyRanOnSimilarCourseCount']])\n",
    "races_where_80_percent_of_horses_previously_ran = len(races_with_speed_counts[races_with_speed_counts['PreviouslyRanOnSimilarCourseCount'] > races_with_speed_counts['HorseCount'] * 0.8])\n",
    "races_where_50_percent_of_horses_previously_ran = len(races_with_speed_counts[races_with_speed_counts['PreviouslyRanOnSimilarCourseCount'] > races_with_speed_counts['HorseCount'] * 0.5])\n",
    "races_where_at_least_one_horses_previously_ran = len(races_with_speed_counts[races_with_speed_counts['PreviouslyRanOnSimilarCourseCount'] > 0])\n",
    "races_where_no_horses_previously_ran = len(races_with_speed_counts[races_with_speed_counts['PreviouslyRanOnSimilarCourseCount'] == 0])\n",
    "\n",
    "(races, races_where_all_horses_previously_ran, races_where_80_percent_of_horses_previously_ran, races_where_80_percent_of_horses_previously_ran,\n",
    " races_where_at_least_one_horses_previously_ran, races_where_no_horses_previously_ran)\n",
    "# 3 months = (419, 7, 21, 21, 334, 85)\n",
    "# 4 months = (419, 8, 22, 22, 337, 82)\n",
    "# 5 months = (419, 10, 26, 26, 340, 79)\n",
    "# 6 months = (419, 10, 26, 26, 340, 79)\n",
    "# TODO: Ignore races where no horses have previously run on a similar track"
   ]
  },
  {
   "cell_type": "code",
   "execution_count": null,
   "metadata": {},
   "outputs": [
    {
     "data": {
      "text/plain": [
       "(168,\n",
       " 64,\n",
       " 38.095238095238095,\n",
       " 168,\n",
       " 412.4861111111111,\n",
       " 104,\n",
       " 308.4861111111111,\n",
       " 1.8362268518518516)"
      ]
     },
     "execution_count": 186,
     "metadata": {},
     "output_type": "execute_result"
    }
   ],
   "source": [
    "# Predict outcomes of races where at least one horse has run on a previously similar track\n",
    "pd.options.display.max_rows = 500\n",
    "selected_races = races_with_speed_counts[races_with_speed_counts['PreviouslyRanOnSimilarCourseCount'] > 0].reset_index()\n",
    "race_list = selected_races['RaceId'].tolist()\n",
    "races_to_predict = results_with_speeds[results_with_speeds['RaceId'].isin(race_list) & results_with_speeds['AverageSpeed'] > 0]\n",
    "\n",
    "predictions = races_to_predict.sort_values(['RaceId', 'AverageSpeed'], ascending=False).groupby(['RaceId']).cumcount() + 1\n",
    "races_to_predict = races_to_predict.assign(PredictedPosition=predictions)\n",
    "correct_predictions = races_to_predict[(races_to_predict['FinishingPosition'] == 1) & (races_to_predict['PredictedPosition'] == 1)]\n",
    "\n",
    "# correct_predictions[['RaceId', 'CourseId', 'HorseId', 'FinishingPosition', 'AverageSpeed', 'PredictedPosition', 'DecimalOdds', 'FractionalOdds']].head(500)\n",
    "predictable_races = len(races_to_predict[races_to_predict['FinishingPosition'] == 1])\n",
    "correctly_predicted = len(correct_predictions)\n",
    "incorrectly_predicted = predictable_races - correctly_predicted\n",
    "percentage_predicted_correctly = correctly_predicted / predictable_races * 100\n",
    "\n",
    "# Calculate winnings and losses based on a £1 bet on each race\n",
    "stake_per_race = 1\n",
    "stake = predictable_races * stake_per_race\n",
    "losses = incorrectly_predicted * stake_per_race\n",
    "winnings = correct_predictions['DecimalOdds'].sum() * stake_per_race\n",
    "profit_loss = winnings - losses\n",
    "percentage_gains = profit_loss / stake \n",
    "\n",
    "(predictable_races, correctly_predicted, percentage_predicted_correctly, stake, winnings, losses, profit_loss, percentage_gains)\n",
    "\n",
    "# 3 months = (161, 61, 37.8%, 161, 391.58, 100, 291.58, 1.81)\n",
    "# 4 months = (164, 62, 37.8%, 164, 399.79, 102, 297.79, 1.82)\n",
    "# 5 months = (168, 64, 38.0%, 168, 412.48, 104, 308.48, 1.83)\n",
    "# 6 months = (168, 64, 38.0%, 168, 412.48, 104, 308.48, 1.83) -- SAME AS 5 MONTHS"
   ]
  }
 ],
 "metadata": {
  "interpreter": {
   "hash": "8e284ee3255a07ad8bf76694974743c4c81cb57e7c969474d752d949b11d721e"
  },
  "kernelspec": {
   "display_name": "Python 3.9.13 64-bit",
   "language": "python",
   "name": "python3"
  },
  "language_info": {
   "codemirror_mode": {
    "name": "ipython",
    "version": 3
   },
   "file_extension": ".py",
   "mimetype": "text/x-python",
   "name": "python",
   "nbconvert_exporter": "python",
   "pygments_lexer": "ipython3",
   "version": "3.9.13"
  },
  "orig_nbformat": 4
 },
 "nbformat": 4,
 "nbformat_minor": 2
}
