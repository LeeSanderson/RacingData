{
 "cells": [
  {
   "cell_type": "code",
   "execution_count": null,
   "metadata": {},
   "outputs": [],
   "source": [
    "%pip install numpy\n",
    "%pip install Pandas"
   ]
  },
  {
   "cell_type": "code",
   "execution_count": 3,
   "metadata": {},
   "outputs": [],
   "source": [
    "import numpy as np\n",
    "import pandas as pd"
   ]
  },
  {
   "cell_type": "code",
   "execution_count": 25,
   "metadata": {},
   "outputs": [],
   "source": [
    "import glob\n",
    "from datetime import timedelta\n",
    "results_files = glob.glob('Results_*.csv')\n",
    "results_files\n",
    "\n",
    "history = pd.concat([pd.read_csv(f) for f in results_files])\n",
    "history = history[history['ResultStatus'] == 'CompletedRace']\n",
    "history['Off'] =  pd.to_datetime(history['Off'], format='%m/%d/%Y %H:%M:%S')\n",
    "window_start = history['Off'].min().date()\n",
    "window_end = history['Off'].max().date() - timedelta(days=1)\n",
    "window_size = 90"
   ]
  },
  {
   "cell_type": "code",
   "execution_count": 27,
   "metadata": {},
   "outputs": [
    {
     "data": {
      "text/plain": [
       "datetime.date(2022, 7, 7)"
      ]
     },
     "execution_count": 27,
     "metadata": {},
     "output_type": "execute_result"
    }
   ],
   "source": []
  },
  {
   "cell_type": "code",
   "execution_count": null,
   "metadata": {},
   "outputs": [],
   "source": [
    "#history = pd.concat([pd.read_csv('Results_202203.csv'), pd.read_csv('Results_202204.csv'), pd.read_csv('Results_202205.csv')])\n",
    "#history = pd.concat([pd.read_csv('Results_202202.csv'), pd.read_csv('Results_202203.csv'), pd.read_csv('Results_202204.csv'), pd.read_csv('Results_202205.csv')])\n",
    "#history = pd.concat([pd.read_csv('Results_202201.csv'), pd.read_csv('Results_202202.csv'), pd.read_csv('Results_202203.csv'), pd.read_csv('Results_202204.csv'), pd.read_csv('Results_202205.csv')])\n",
    "history = pd.concat([pd.read_csv('Results_202112.csv'), pd.read_csv('Results_202201.csv'), pd.read_csv('Results_202202.csv'), pd.read_csv('Results_202203.csv'), pd.read_csv('Results_202204.csv'), pd.read_csv('Results_202205.csv')])\n",
    "\n",
    "history = history[history['ResultStatus'] == 'CompletedRace']\n",
    "results = pd.read_csv('ResultsToPredict.csv')\n",
    "results = results[results['ResultStatus'] == 'CompletedRace']\n",
    "results.columns"
   ]
  },
  {
   "cell_type": "code",
   "execution_count": null,
   "metadata": {},
   "outputs": [
    {
     "data": {
      "text/plain": [
       "(419, 65, 15.513126491646778)"
      ]
     },
     "execution_count": 180,
     "metadata": {},
     "output_type": "execute_result"
    }
   ],
   "source": [
    "# Ensure that the majority of horses in the results to be predicted have ran races in the last 3 months of historic results\n",
    "historic_racers = history.groupby(['HorseId']).size().reset_index(name='HistoryCount')\n",
    "results_with_historic_race_counts = pd.merge(results, historic_racers, on='HorseId', how='left').fillna({'HistoryCount': 0})\n",
    "results_with_historic_race_counts[['RaceId', 'HorseId', 'HistoryCount', 'FinishingPosition']].head(10)\n",
    "\n",
    "winners_than_never_previously_raced = len(results_with_historic_race_counts[(results_with_historic_race_counts['HistoryCount'] == 0) & (results_with_historic_race_counts['FinishingPosition'] == 1)])\n",
    "number_of_races = results_with_historic_race_counts['RaceId'].nunique()\n",
    "percentage_of_winners_that_never_raced = (winners_than_never_previously_raced / number_of_races) * 100.0\n",
    "(number_of_races, winners_than_never_previously_raced, percentage_of_winners_that_never_raced)\n",
    "\n",
    "# 3 months = (number_of_races = 419, winners_than_never_previously_raced = 72, percentageOfWinnersThatNeverRaced = 17.18%)\n",
    "# 4 months = (number_of_races = 419, winners_than_never_previously_raced = 68, percentageOfWinnersThatNeverRaced = 16.23%)\n",
    "# 6 months = (number_of_races = 419, winners_than_never_previously_raced = 65, percentageOfWinnersThatNeverRaced = 15.51%)\n",
    "# TODO: Add a check to ensure that the percentage of winners that never raced is less than 10%\n",
    "# TODO: Increase history data so that the percentage of winners that never raced is less than 5%"
   ]
  },
  {
   "cell_type": "code",
   "execution_count": null,
   "metadata": {},
   "outputs": [
    {
     "data": {
      "text/plain": [
       "(419, 155, 259, 259, 5)"
      ]
     },
     "execution_count": 181,
     "metadata": {},
     "output_type": "execute_result"
    }
   ],
   "source": [
    "# Calculate number of races where all runners have previously raced\n",
    "def calculate_race_aggregates(x):\n",
    "    d = {}\n",
    "    d['HorseCount'] = x['HorseId'].count()\n",
    "    d['PreviouslyRanHouseCount'] = x[x['HistoryCount'] > 0]['HorseId'].count()\n",
    "    return pd.Series(d, index=['HorseCount', 'PreviouslyRanHouseCount'])\n",
    "\n",
    "races_with_run_counts = results_with_historic_race_counts.groupby('RaceId').apply(calculate_race_aggregates)\n",
    "races = len(races_with_run_counts)\n",
    "races_where_all_horses_previously_ran = len(races_with_run_counts[races_with_run_counts['HorseCount'] == races_with_run_counts['PreviouslyRanHouseCount']])\n",
    "races_where_80_percent_of_horses_previously_ran = len(races_with_run_counts[races_with_run_counts['PreviouslyRanHouseCount'] > races_with_run_counts['HorseCount'] * 0.8])\n",
    "races_where_50_percent_of_horses_previously_ran = len(races_with_run_counts[races_with_run_counts['PreviouslyRanHouseCount'] > races_with_run_counts['HorseCount'] * 0.5])\n",
    "races_where_no_horses_previously_ran = len(races_with_run_counts[races_with_run_counts['PreviouslyRanHouseCount'] == 0])\n",
    "\n",
    "(races, races_where_all_horses_previously_ran, races_where_80_percent_of_horses_previously_ran, races_where_80_percent_of_horses_previously_ran, races_where_no_horses_previously_ran)\n",
    "#(419, 127, 234, 234, 6)\n",
    "# TODO: Ignore races where predictor accuracy is low (based on logic below)"
   ]
  },
  {
   "cell_type": "code",
   "execution_count": null,
   "metadata": {},
   "outputs": [],
   "source": [
    "def calculate_distance_type(row):\n",
    "    if row['DistanceInMeters'] < 1300:\n",
    "        return 'VeryShort'\n",
    "    elif row['DistanceInMeters'] < 1700:\n",
    "        return 'Short'\n",
    "    elif row['DistanceInMeters'] < 3000:\n",
    "        return 'Medium'\n",
    "    elif row['DistanceInMeters'] < 4000:        \n",
    "        return 'Long'\n",
    "    else:\n",
    "        return 'VeryLong'\n",
    "\n",
    "history['DistanceType'] = history.apply(calculate_distance_type, axis=1)\n",
    "results['DistanceType'] = results.apply(calculate_distance_type, axis=1)"
   ]
  },
  {
   "cell_type": "code",
   "execution_count": null,
   "metadata": {},
   "outputs": [],
   "source": [
    "def calculate_average_speed_over_previous_races(x):\n",
    "    d = {}\n",
    "    d['RacesRan'] = x['HorseId'].count()\n",
    "    d['TotalDistanceInMeters'] = x['DistanceInMeters'].sum()\n",
    "    d['TotalTimeInSeconds'] = x['RaceTimeInSeconds'].sum()\n",
    "    d['AverageSpeed'] = d['TotalDistanceInMeters'] / d['TotalTimeInSeconds']\n",
    "    return pd.Series(d, index=['RacesRan', 'TotalDistanceInMeters', 'TotalTimeInSeconds', 'AverageSpeed'])\n",
    "\n",
    "average_speeds = history.groupby(['HorseId', 'HorseName', 'RaceType', 'DistanceType', 'Going']).apply(calculate_average_speed_over_previous_races)"
   ]
  },
  {
   "cell_type": "code",
   "execution_count": null,
   "metadata": {},
   "outputs": [],
   "source": [
    "average_speeds.sort_values('RacesRan')\n",
    "results_with_speeds = pd.merge(results, average_speeds, how='left', on=['HorseId', 'RaceType', 'DistanceType', 'Going'])\n",
    "results_with_speeds['AverageSpeed'] = results_with_speeds['AverageSpeed'].fillna(0)"
   ]
  },
  {
   "cell_type": "code",
   "execution_count": null,
   "metadata": {},
   "outputs": [
    {
     "data": {
      "text/plain": [
       "(419, 10, 26, 26, 340, 79)"
      ]
     },
     "execution_count": 185,
     "metadata": {},
     "output_type": "execute_result"
    }
   ],
   "source": [
    "def calculate_speed_race_aggregates(x):\n",
    "    d = {}\n",
    "    d['HorseCount'] = x['HorseId'].count()\n",
    "    d['PreviouslyRanOnSimilarCourseCount'] = x[x['AverageSpeed'] > 0]['HorseId'].count()\n",
    "    return pd.Series(d, index=['HorseCount', 'PreviouslyRanOnSimilarCourseCount'])\n",
    "\n",
    "races_with_speed_counts = results_with_speeds.groupby('RaceId').apply(calculate_speed_race_aggregates)\n",
    "\n",
    "races = len(races_with_speed_counts)\n",
    "races_where_all_horses_previously_ran = len(races_with_speed_counts[races_with_speed_counts['HorseCount'] == races_with_speed_counts['PreviouslyRanOnSimilarCourseCount']])\n",
    "races_where_80_percent_of_horses_previously_ran = len(races_with_speed_counts[races_with_speed_counts['PreviouslyRanOnSimilarCourseCount'] > races_with_speed_counts['HorseCount'] * 0.8])\n",
    "races_where_50_percent_of_horses_previously_ran = len(races_with_speed_counts[races_with_speed_counts['PreviouslyRanOnSimilarCourseCount'] > races_with_speed_counts['HorseCount'] * 0.5])\n",
    "races_where_at_least_one_horses_previously_ran = len(races_with_speed_counts[races_with_speed_counts['PreviouslyRanOnSimilarCourseCount'] > 0])\n",
    "races_where_no_horses_previously_ran = len(races_with_speed_counts[races_with_speed_counts['PreviouslyRanOnSimilarCourseCount'] == 0])\n",
    "\n",
    "(races, races_where_all_horses_previously_ran, races_where_80_percent_of_horses_previously_ran, races_where_80_percent_of_horses_previously_ran,\n",
    " races_where_at_least_one_horses_previously_ran, races_where_no_horses_previously_ran)\n",
    "# 3 months = (419, 7, 21, 21, 334, 85)\n",
    "# 4 months = (419, 8, 22, 22, 337, 82)\n",
    "# 5 months = (419, 10, 26, 26, 340, 79)\n",
    "# 6 months = (419, 10, 26, 26, 340, 79)\n",
    "# TODO: Ignore races where no horses have previously run on a similar track"
   ]
  },
  {
   "cell_type": "code",
   "execution_count": null,
   "metadata": {},
   "outputs": [
    {
     "data": {
      "text/plain": [
       "(168,\n",
       " 64,\n",
       " 38.095238095238095,\n",
       " 168,\n",
       " 412.4861111111111,\n",
       " 104,\n",
       " 308.4861111111111,\n",
       " 1.8362268518518516)"
      ]
     },
     "execution_count": 186,
     "metadata": {},
     "output_type": "execute_result"
    }
   ],
   "source": [
    "# Predict outcomes of races where at least one horse has run on a previously similar track\n",
    "pd.options.display.max_rows = 500\n",
    "selected_races = races_with_speed_counts[races_with_speed_counts['PreviouslyRanOnSimilarCourseCount'] > 0].reset_index()\n",
    "race_list = selected_races['RaceId'].tolist()\n",
    "races_to_predict = results_with_speeds[results_with_speeds['RaceId'].isin(race_list) & results_with_speeds['AverageSpeed'] > 0]\n",
    "\n",
    "predictions = races_to_predict.sort_values(['RaceId', 'AverageSpeed'], ascending=False).groupby(['RaceId']).cumcount() + 1\n",
    "races_to_predict = races_to_predict.assign(PredictedPosition=predictions)\n",
    "correct_predictions = races_to_predict[(races_to_predict['FinishingPosition'] == 1) & (races_to_predict['PredictedPosition'] == 1)]\n",
    "\n",
    "# correct_predictions[['RaceId', 'CourseId', 'HorseId', 'FinishingPosition', 'AverageSpeed', 'PredictedPosition', 'DecimalOdds', 'FractionalOdds']].head(500)\n",
    "predictable_races = len(races_to_predict[races_to_predict['FinishingPosition'] == 1])\n",
    "correctly_predicted = len(correct_predictions)\n",
    "incorrectly_predicted = predictable_races - correctly_predicted\n",
    "percentage_predicted_correctly = correctly_predicted / predictable_races * 100\n",
    "\n",
    "# Calculate winnings and losses based on a £1 bet on each race\n",
    "stake_per_race = 1\n",
    "stake = predictable_races * stake_per_race\n",
    "losses = incorrectly_predicted * stake_per_race\n",
    "winnings = correct_predictions['DecimalOdds'].sum() * stake_per_race\n",
    "profit_loss = winnings - losses\n",
    "percentage_gains = profit_loss / stake \n",
    "\n",
    "(predictable_races, correctly_predicted, percentage_predicted_correctly, stake, winnings, losses, profit_loss, percentage_gains)\n",
    "\n",
    "# 3 months = (161, 61, 37.8%, 161, 391.58, 100, 291.58, 1.81)\n",
    "# 4 months = (164, 62, 37.8%, 164, 399.79, 102, 297.79, 1.82)\n",
    "# 5 months = (168, 64, 38.0%, 168, 412.48, 104, 308.48, 1.83)\n",
    "# 6 months = (168, 64, 38.0%, 168, 412.48, 104, 308.48, 1.83) -- SAME AS 5 MONTHS"
   ]
  }
 ],
 "metadata": {
  "interpreter": {
   "hash": "8e284ee3255a07ad8bf76694974743c4c81cb57e7c969474d752d949b11d721e"
  },
  "kernelspec": {
   "display_name": "Python 3.9.13 64-bit",
   "language": "python",
   "name": "python3"
  },
  "language_info": {
   "codemirror_mode": {
    "name": "ipython",
    "version": 3
   },
   "file_extension": ".py",
   "mimetype": "text/x-python",
   "name": "python",
   "nbconvert_exporter": "python",
   "pygments_lexer": "ipython3",
   "version": "3.9.13"
  },
  "orig_nbformat": 4
 },
 "nbformat": 4,
 "nbformat_minor": 2
}
