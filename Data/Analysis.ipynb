{
 "cells": [
  {
   "cell_type": "code",
   "execution_count": 2,
   "metadata": {},
   "outputs": [
    {
     "name": "stdout",
     "output_type": "stream",
     "text": [
      "Requirement already satisfied: numpy in c:\\users\\leeco\\appdata\\local\\packages\\pythonsoftwarefoundation.python.3.9_qbz5n2kfra8p0\\localcache\\local-packages\\python39\\site-packages (1.22.1)\n",
      "Note: you may need to restart the kernel to use updated packages.\n"
     ]
    },
    {
     "name": "stderr",
     "output_type": "stream",
     "text": [
      "WARNING: You are using pip version 22.0.4; however, version 22.1.2 is available.\n",
      "You should consider upgrading via the 'C:\\Users\\leeco\\AppData\\Local\\Microsoft\\WindowsApps\\PythonSoftwareFoundation.Python.3.9_qbz5n2kfra8p0\\python.exe -m pip install --upgrade pip' command.\n"
     ]
    },
    {
     "name": "stdout",
     "output_type": "stream",
     "text": [
      "Requirement already satisfied: Pandas in c:\\users\\leeco\\appdata\\local\\packages\\pythonsoftwarefoundation.python.3.9_qbz5n2kfra8p0\\localcache\\local-packages\\python39\\site-packages (1.4.0)\n",
      "Requirement already satisfied: python-dateutil>=2.8.1 in c:\\users\\leeco\\appdata\\local\\packages\\pythonsoftwarefoundation.python.3.9_qbz5n2kfra8p0\\localcache\\local-packages\\python39\\site-packages (from Pandas) (2.8.2)\n",
      "Requirement already satisfied: numpy>=1.18.5 in c:\\users\\leeco\\appdata\\local\\packages\\pythonsoftwarefoundation.python.3.9_qbz5n2kfra8p0\\localcache\\local-packages\\python39\\site-packages (from Pandas) (1.22.1)\n",
      "Requirement already satisfied: pytz>=2020.1 in c:\\users\\leeco\\appdata\\local\\packages\\pythonsoftwarefoundation.python.3.9_qbz5n2kfra8p0\\localcache\\local-packages\\python39\\site-packages (from Pandas) (2021.3)\n",
      "Requirement already satisfied: six>=1.5 in c:\\users\\leeco\\appdata\\local\\packages\\pythonsoftwarefoundation.python.3.9_qbz5n2kfra8p0\\localcache\\local-packages\\python39\\site-packages (from python-dateutil>=2.8.1->Pandas) (1.16.0)\n",
      "Note: you may need to restart the kernel to use updated packages.\n"
     ]
    },
    {
     "name": "stderr",
     "output_type": "stream",
     "text": [
      "WARNING: You are using pip version 22.0.4; however, version 22.1.2 is available.\n",
      "You should consider upgrading via the 'C:\\Users\\leeco\\AppData\\Local\\Microsoft\\WindowsApps\\PythonSoftwareFoundation.Python.3.9_qbz5n2kfra8p0\\python.exe -m pip install --upgrade pip' command.\n"
     ]
    }
   ],
   "source": [
    "%pip install numpy\n",
    "%pip install Pandas"
   ]
  },
  {
   "cell_type": "code",
   "execution_count": 2,
   "metadata": {},
   "outputs": [],
   "source": [
    "import numpy as np\n",
    "import pandas as pd"
   ]
  },
  {
   "cell_type": "code",
   "execution_count": 58,
   "metadata": {},
   "outputs": [
    {
     "data": {
      "text/plain": [
       "Index(['RaceId', 'RaceName', 'CourseId', 'CourseName', 'RaceType', 'Class',\n",
       "       'Pattern', 'RatingBand', 'AgeBand', 'SexRestriction', 'Distance',\n",
       "       'DistanceInFurlongs', 'DistanceInMeters', 'DistanceInYards', 'Going',\n",
       "       'Surface', 'HorseId', 'HorseName', 'JockeyId', 'JockeyName',\n",
       "       'TrainerId', 'TrainerName', 'Age', 'HeadGear', 'RaceCardNumber',\n",
       "       'StallNumber', 'Weight', 'WeightInPounds', 'FractionalOdds',\n",
       "       'DecimalOdds', 'OfficialRating', 'RacingPostRating', 'TopSpeedRating',\n",
       "       'ResultStatus', 'FinishingPosition', 'BeatenDistance',\n",
       "       'OverallBeatenDistance', 'RaceTime', 'RaceTimeInSeconds'],\n",
       "      dtype='object')"
      ]
     },
     "execution_count": 58,
     "metadata": {},
     "output_type": "execute_result"
    }
   ],
   "source": [
    "history = pd.concat([pd.read_csv('Results_202203.csv'), pd.read_csv('Results_202204.csv'), pd.read_csv('Results_202205.csv')])\n",
    "history = history[history['ResultStatus'] == 'CompletedRace']\n",
    "results = pd.read_csv('ResultsToPredict.csv')\n",
    "results = results[results['ResultStatus'] == 'CompletedRace']\n",
    "results.columns"
   ]
  },
  {
   "cell_type": "code",
   "execution_count": 88,
   "metadata": {},
   "outputs": [
    {
     "data": {
      "text/plain": [
       "(419, 72, 17.18377088305489)"
      ]
     },
     "execution_count": 88,
     "metadata": {},
     "output_type": "execute_result"
    }
   ],
   "source": [
    "# Ensure that the majority of horses in the results to be predicted have ran races in the last 3 months of historic results\n",
    "historic_racers = history.groupby(['HorseId']).size().reset_index(name='HistoryCount')\n",
    "results_with_historic_race_counts = pd.merge(results, historic_racers, on='HorseId', how='left').fillna({'HistoryCount': 0})\n",
    "results_with_historic_race_counts[['RaceId', 'HorseId', 'HistoryCount', 'FinishingPosition']].head(10)\n",
    "\n",
    "winners_than_never_previously_raced = len(results_with_historic_race_counts[(results_with_historic_race_counts['HistoryCount'] == 0) & (results_with_historic_race_counts['FinishingPosition'] == 1)])\n",
    "number_of_races = results_with_historic_race_counts['RaceId'].nunique()\n",
    "percentage_of_winners_that_never_raced = (winners_than_never_previously_raced / number_of_races) * 100.0\n",
    "(number_of_races, winners_than_never_previously_raced, percentage_of_winners_that_never_raced)\n",
    "\n",
    "# 3 months = (number_of_races = 419, winners_than_never_previously_raced = 72, percentageOfWinnersThatNeverRaced = 17.18%)\n",
    "# TODO: Add a check to ensure that the percentage of winners that never raced is less than 10%\n",
    "# TODO: Increase history data so that the percentage of winners that never raced is less than 5%"
   ]
  },
  {
   "cell_type": "code",
   "execution_count": 89,
   "metadata": {},
   "outputs": [
    {
     "data": {
      "text/plain": [
       "(419, 127, 234, 234, 6)"
      ]
     },
     "execution_count": 89,
     "metadata": {},
     "output_type": "execute_result"
    }
   ],
   "source": [
    "# Calculate number of races where all runners have previously raced\n",
    "def calculate_race_aggregates(x):\n",
    "    d = {}\n",
    "    d['HorseCount'] = x['HorseId'].count()\n",
    "    d['PreviouslyRanHouseCount'] = x[x['HistoryCount'] > 0]['HorseId'].count()\n",
    "    return pd.Series(d, index=['HorseCount', 'PreviouslyRanHouseCount'])\n",
    "\n",
    "races_with_run_counts = results_with_historic_race_counts.groupby('RaceId').apply(calculate_race_aggregates)\n",
    "races = len(races_with_run_counts)\n",
    "races_where_all_horses_previously_ran = len(races_with_run_counts[races_with_run_counts['HorseCount'] == races_with_run_counts['PreviouslyRanHouseCount']])\n",
    "races_where_80_percent_of_horses_previously_ran = len(races_with_run_counts[races_with_run_counts['PreviouslyRanHouseCount'] > races_with_run_counts['HorseCount'] * 0.8])\n",
    "races_where_50_percent_of_horses_previously_ran = len(races_with_run_counts[races_with_run_counts['PreviouslyRanHouseCount'] > races_with_run_counts['HorseCount'] * 0.5])\n",
    "races_where_no_horses_previously_ran = len(races_with_run_counts[races_with_run_counts['PreviouslyRanHouseCount'] == 0])\n",
    "\n",
    "(races, races_where_all_horses_previously_ran, races_where_80_percent_of_horses_previously_ran, races_where_80_percent_of_horses_previously_ran, races_where_no_horses_previously_ran)\n",
    "#(419, 127, 234, 234, 6)\n",
    "# TODO: Ignore races where predictor accuracy is low (based on logic below)"
   ]
  },
  {
   "cell_type": "code",
   "execution_count": 77,
   "metadata": {},
   "outputs": [],
   "source": [
    "def calculate_distance_type(row):\n",
    "    if row['DistanceInMeters'] < 1300:\n",
    "        return 'VeryShort'\n",
    "    elif row['DistanceInMeters'] < 1700:\n",
    "        return 'Short'\n",
    "    elif row['DistanceInMeters'] < 3000:\n",
    "        return 'Medium'\n",
    "    elif row['DistanceInMeters'] < 4000:        \n",
    "        return 'Long'\n",
    "    else:\n",
    "        return 'VeryLong'\n",
    "\n",
    "history['DistanceType'] = history.apply(calculate_distance_type, axis=1)\n",
    "results['DistanceType'] = results.apply(calculate_distance_type, axis=1)"
   ]
  },
  {
   "cell_type": "code",
   "execution_count": 80,
   "metadata": {},
   "outputs": [],
   "source": [
    "def calculate_average_speed_over_previous_races(x):\n",
    "    d = {}\n",
    "    d['RacesRan'] = x['HorseId'].count()\n",
    "    d['TotalDistanceInMeters'] = x['DistanceInMeters'].sum()\n",
    "    d['TotalTimeInSeconds'] = x['RaceTimeInSeconds'].sum()\n",
    "    d['AverageSpeed'] = d['TotalDistanceInMeters'] / d['TotalTimeInSeconds']\n",
    "    return pd.Series(d, index=['RacesRan', 'TotalDistanceInMeters', 'TotalTimeInSeconds', 'AverageSpeed'])\n",
    "\n",
    "average_speeds = history.groupby(['HorseId', 'HorseName', 'RaceType', 'DistanceType', 'Going']).apply(calculate_average_speed_over_previous_races)"
   ]
  },
  {
   "cell_type": "code",
   "execution_count": 85,
   "metadata": {},
   "outputs": [
    {
     "data": {
      "text/plain": [
       "1307"
      ]
     },
     "execution_count": 85,
     "metadata": {},
     "output_type": "execute_result"
    }
   ],
   "source": [
    "average_speeds.sort_values('RacesRan')\n",
    "results_with_speeds = pd.merge(results, average_speeds, how='left', on=['HorseId', 'RaceType', 'DistanceType', 'Going'])\n",
    "results_with_speeds['AverageSpeed'] = results_with_speeds['AverageSpeed'].fillna(0)"
   ]
  },
  {
   "cell_type": "code",
   "execution_count": 93,
   "metadata": {},
   "outputs": [
    {
     "data": {
      "text/plain": [
       "(419, 7, 21, 21, 334, 85)"
      ]
     },
     "execution_count": 93,
     "metadata": {},
     "output_type": "execute_result"
    }
   ],
   "source": [
    "def calculate_speed_race_aggregates(x):\n",
    "    d = {}\n",
    "    d['HorseCount'] = x['HorseId'].count()\n",
    "    d['PreviouslyRanOnSimilarCourseCount'] = x[x['AverageSpeed'] > 0]['HorseId'].count()\n",
    "    return pd.Series(d, index=['HorseCount', 'PreviouslyRanOnSimilarCourseCount'])\n",
    "\n",
    "races_with_speed_counts = results_with_speeds.groupby('RaceId').apply(calculate_speed_race_aggregates)\n",
    "\n",
    "races = len(races_with_speed_counts)\n",
    "races_where_all_horses_previously_ran = len(races_with_speed_counts[races_with_speed_counts['HorseCount'] == races_with_speed_counts['PreviouslyRanOnSimilarCourseCount']])\n",
    "races_where_80_percent_of_horses_previously_ran = len(races_with_speed_counts[races_with_speed_counts['PreviouslyRanOnSimilarCourseCount'] > races_with_speed_counts['HorseCount'] * 0.8])\n",
    "races_where_50_percent_of_horses_previously_ran = len(races_with_speed_counts[races_with_speed_counts['PreviouslyRanOnSimilarCourseCount'] > races_with_speed_counts['HorseCount'] * 0.5])\n",
    "races_where_at_least_one_horses_previously_ran = len(races_with_speed_counts[races_with_speed_counts['PreviouslyRanOnSimilarCourseCount'] > 0])\n",
    "races_where_no_horses_previously_ran = len(races_with_speed_counts[races_with_speed_counts['PreviouslyRanOnSimilarCourseCount'] == 0])\n",
    "\n",
    "(races, races_where_all_horses_previously_ran, races_where_80_percent_of_horses_previously_ran, races_where_80_percent_of_horses_previously_ran,\n",
    " races_where_at_least_one_horses_previously_ran, races_where_no_horses_previously_ran)\n",
    "# (419, 7, 21, 21, 334, 85)\n",
    "# TODO: Ignore races where no horses have previously run on a similar track"
   ]
  },
  {
   "cell_type": "code",
   "execution_count": 152,
   "metadata": {},
   "outputs": [
    {
     "data": {
      "text/plain": [
       "(161,\n",
       " 61,\n",
       " 37.88819875776397,\n",
       " 161,\n",
       " 391.5861111111111,\n",
       " 100,\n",
       " 291.5861111111111,\n",
       " 1.8110938578329883)"
      ]
     },
     "execution_count": 152,
     "metadata": {},
     "output_type": "execute_result"
    }
   ],
   "source": [
    "# Predict outcomes of races where at least one horse has run on a previously similar track\n",
    "pd.options.display.max_rows = 500\n",
    "races_where_at_least_one_horses_previously_ran = races_with_speed_counts[races_with_speed_counts['PreviouslyRanOnSimilarCourseCount'] > 0].reset_index()\n",
    "race_list = races_where_at_least_one_horses_previously_ran['RaceId'].tolist()\n",
    "races_to_predict = results_with_speeds[results_with_speeds['RaceId'].isin(race_list) & results_with_speeds['AverageSpeed'] > 0]\n",
    "\n",
    "predictions = races_to_predict.sort_values(['RaceId', 'AverageSpeed'], ascending=False).groupby(['RaceId']).cumcount() + 1\n",
    "races_to_predict = races_to_predict.assign(PredictedPosition=predictions)\n",
    "correct_predictions = races_to_predict[(races_to_predict['FinishingPosition'] == 1) & (races_to_predict['PredictedPosition'] == 1)]\n",
    "\n",
    "# correct_predictions[['RaceId', 'CourseId', 'HorseId', 'FinishingPosition', 'AverageSpeed', 'PredictedPosition', 'DecimalOdds', 'FractionalOdds']].head(500)\n",
    "predictable_races = len(races_to_predict[races_to_predict['FinishingPosition'] == 1])\n",
    "correctly_predicted = len(correct_predictions)\n",
    "incorrectly_predicted = predictable_races - correctly_predicted\n",
    "percentage_predicted_correctly = correctly_predicted / predictable_races * 100\n",
    "\n",
    "# Calculate winnings and losses based on a £1 bet on each race\n",
    "stake_per_race = 1\n",
    "stake = predictable_races * stake_per_race\n",
    "losses = incorrectly_predicted * stake_per_race\n",
    "winnings = correct_predictions['DecimalOdds'].sum() * stake_per_race\n",
    "profit_loss = winnings - losses\n",
    "percentage_gains = profit_loss / stake \n",
    "\n",
    "(predictable_races, correctly_predicted, percentage_predicted_correctly, stake, winnings, losses, profit_loss, percentage_gains)"
   ]
  }
 ],
 "metadata": {
  "interpreter": {
   "hash": "8e284ee3255a07ad8bf76694974743c4c81cb57e7c969474d752d949b11d721e"
  },
  "kernelspec": {
   "display_name": "Python 3.9.13 64-bit",
   "language": "python",
   "name": "python3"
  },
  "language_info": {
   "codemirror_mode": {
    "name": "ipython",
    "version": 3
   },
   "file_extension": ".py",
   "mimetype": "text/x-python",
   "name": "python",
   "nbconvert_exporter": "python",
   "pygments_lexer": "ipython3",
   "version": "3.9.13"
  },
  "orig_nbformat": 4
 },
 "nbformat": 4,
 "nbformat_minor": 2
}
