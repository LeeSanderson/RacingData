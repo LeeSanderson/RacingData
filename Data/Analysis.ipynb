{
 "cells": [
  {
   "cell_type": "code",
   "execution_count": 2,
   "metadata": {},
   "outputs": [],
   "source": [
    "#%pip install numpy\n",
    "#%pip install Pandas"
   ]
  },
  {
   "cell_type": "markdown",
   "metadata": {},
   "source": [
    "# Horse Racing Results Predictor #\n",
    "\n",
    "The American professional gambler [Bill Benter](https://en.wikipedia.org/wiki/Bill_Benter) is said to have made earned nearly $1 billion through the development of one of the most successful analysis computer software programs in the horse racing market.\n",
    "\n",
    "Bill published his techniques in the paper [Computer-Based Horse Race Handicapping and Wagering Systems](https://www.gwern.net/docs/statistics/decision/1994-benter.pdf). \n",
    "\n",
    "The [YouTube Video by Ken Jee](https://www.youtube.com/watch?v=KEeUR8UDy-s) outlines how he did it, how difficult it was, and discusses whether it is likely to be able to replicate this feat today (hint: Ken thinks it highly unlikely for a number of reasons).\n",
    "\n",
    "Inspired by video, this notebook examines the possibility of replicating Bill's success using data from modern day UK races.\n",
    "\n",
    "NOTE: This is a fun examination of the technique the can be used in predicting races. It is not intended to be accurate or valid. The author accepts no responsibility for the correctness, completeness or quality of the information provided. Please do not use this information to place any real-world bets. Gambling odds are always skewed in favour of the bookmaker and you will lose in the long run.  "
   ]
  },
  {
   "cell_type": "code",
   "execution_count": 1,
   "metadata": {},
   "outputs": [],
   "source": [
    "import numpy as np\n",
    "import pandas as pd\n",
    "from abc import ABC, abstractmethod"
   ]
  },
  {
   "cell_type": "markdown",
   "metadata": {},
   "source": [
    "Step 1: Load in the historic race data and ignore any horse that didn't complete the race"
   ]
  },
  {
   "cell_type": "code",
   "execution_count": 2,
   "metadata": {},
   "outputs": [],
   "source": [
    "import glob\n",
    "from datetime import timedelta\n",
    "results_files = glob.glob('Results_*.csv')\n",
    "results_files\n",
    "\n",
    "history = pd.concat([pd.read_csv(f) for f in results_files])\n",
    "history = history[history['ResultStatus'] == 'CompletedRace']\n",
    "history['Off'] =  pd.to_datetime(history['Off'], format='%m/%d/%Y %H:%M:%S')"
   ]
  },
  {
   "cell_type": "markdown",
   "metadata": {},
   "source": [
    "Step 2: Define interface for processing the historic data and function to process data in a consistent way. "
   ]
  },
  {
   "cell_type": "code",
   "execution_count": 3,
   "metadata": {},
   "outputs": [],
   "source": [
    "class RaceDataProcessor(ABC):\n",
    "    def initialize(self, history : pd.DataFrame) -> None:\n",
    "        # Initialise the processor with all historic data\n",
    "        self.history = history\n",
    "\n",
    "    def update(self, daily_results : pd.DataFrame) -> None:\n",
    "        # Update the processor with data\n",
    "        pass\n",
    "\n",
    "    def post_update(self, daily_results : pd.DataFrame) -> None:\n",
    "        # Merge daily_results with history ready for next day's data\n",
    "        self.history = pd.concat([self.history, daily_results])\n",
    "\n",
    "    def after_process_data(self) -> None:\n",
    "        # Allow processor to output results after processing completes\n",
    "        pass"
   ]
  },
  {
   "cell_type": "code",
   "execution_count": 8,
   "metadata": {},
   "outputs": [],
   "source": [
    "from typing import Callable\n",
    "\n",
    "def process_race_data(processor: RaceDataProcessor, days_to_process : int = 30):\n",
    "    history_end = history['Off'].max().date()\n",
    "    process_start = history_end - timedelta(days=days_to_process)\n",
    "    initial_history =  history[history['Off'].dt.date < process_start]   \n",
    "    processor.initialize(initial_history)\n",
    "\n",
    "    while process_start < history_end:\n",
    "        process_step_end = process_start + timedelta(days=1)\n",
    "        daily_slice = history[(history['Off'].dt.date >= process_start) & (history['Off'].dt.date < process_step_end)]\n",
    "        processor.update(daily_slice)\n",
    "        processor.post_update(daily_slice)\n",
    "        process_start = process_step_end\n",
    "\n",
    "    processor.after_process_data()"
   ]
  },
  {
   "cell_type": "markdown",
   "metadata": {},
   "source": [
    "Step 3: Check to see if we have a closed data set i.e. give all the previous history we know, how many races include horses that we have never seen race before? And how many times did those horses win races?"
   ]
  },
  {
   "cell_type": "code",
   "execution_count": 26,
   "metadata": {},
   "outputs": [
    {
     "name": "stdout",
     "output_type": "stream",
     "text": [
      "Previous runner data for last 30 days / 1651 races:\n",
      "  Total known runners: 14388\n",
      "  Total unknown runners: 1818 (11.22 %)\n",
      "  Total known winners: 1514\n",
      "  Total unknown winners: 445 (22.72 %)\n",
      "  Races with unknown runners: 593 (26.43 %)\n",
      "\n"
     ]
    }
   ],
   "source": [
    "class PreviousRunnerAnalysisRaceDataProcessor(RaceDataProcessor):\n",
    "    def initialize(self, history : pd.DataFrame) -> None:\n",
    "        super().initialize(history)\n",
    "        self.__update_runner_stats()\n",
    "        self.__total_days = 0\n",
    "        self.__total_processed_races = 0\n",
    "        self.__total_known_runners = 0\n",
    "        self.__total_unknown_runners = 0\n",
    "        self.__total_winning_known_runners = 0\n",
    "        self.__total_winning_unknown_runners = 0\n",
    "        self.__total_races_with_unknown_runners = 0\n",
    "\n",
    "    def update(self, daily_results : pd.DataFrame) -> None:\n",
    "        self.__total_days += 1\n",
    "        self.__total_processed_races += daily_results['RaceId'].nunique()\n",
    "        unique_horse = daily_results['HorseId'].nunique()\n",
    "        known_unique_horse = daily_results[daily_results['HorseId'].isin(self.__known_runners)]['HorseId'].nunique()\n",
    "        self.__total_known_runners += known_unique_horse\n",
    "        self.__total_unknown_runners += unique_horse - known_unique_horse\n",
    "        winners = daily_results[daily_results['FinishingPosition'] == 1]\n",
    "        known_winners = winners[winners['HorseId'].isin(self.__known_runners)]['HorseId'].nunique()\n",
    "        self.__total_winning_known_runners += known_winners\n",
    "        self.__total_winning_unknown_runners += len(winners) - known_winners\n",
    "\n",
    "        races_with_known_runner_counts = daily_results.groupby('RaceId').apply(lambda df: self.__calculate_counts_for_race_group(df))\n",
    "        races_with_any_unknown_runners = races_with_known_runner_counts[races_with_known_runner_counts[\"HorseCount\"] != races_with_known_runner_counts[\"KnownHorseCount\"]]\n",
    "        self.__total_races_with_unknown_runners += races_with_any_unknown_runners.reset_index()['RaceId'].count()\n",
    "\n",
    "    def post_update(self, daily_results : pd.DataFrame) -> None:\n",
    "        super().post_update(daily_results)\n",
    "        self.__update_runner_stats()\n",
    "\n",
    "    def after_process_data(self) -> None:\n",
    "        percentage_unknown_runners = 100.0 * self.__total_unknown_runners / (self.__total_unknown_runners + self.__total_known_runners)\n",
    "        percentage_unknown_winners = 100.0 * self.__total_winning_unknown_runners / (self.__total_winning_unknown_runners + self.__total_winning_known_runners)\n",
    "        percentage_races_with_unknown_runners = 100.0 * self.__total_races_with_unknown_runners / (self.__total_races_with_unknown_runners + self.__total_processed_races)\n",
    "        print(\n",
    "            f'Previous runner data for last {self.__total_days} days / {self.__total_processed_races} races:\\n'\n",
    "            f'  Total known runners: {self.__total_known_runners}\\n'\n",
    "            f'  Total unknown runners: {self.__total_unknown_runners} ({percentage_unknown_runners:.2f} %)\\n'\n",
    "            f'  Total known winners: {self.__total_winning_known_runners}\\n'\n",
    "            f'  Total unknown winners: {self.__total_winning_unknown_runners} ({percentage_unknown_winners:.2f} %)\\n'\n",
    "            f'  Races with unknown runners: {self.__total_races_with_unknown_runners} ({percentage_races_with_unknown_runners:.2f} %)\\n'            \n",
    "            )\n",
    "        pass        \n",
    "\n",
    "    def __update_runner_stats(self) -> None:\n",
    "        self.__known_runners = self.history['HorseId'].unique().tolist()\n",
    "\n",
    "    def __calculate_counts_for_race_group(self, race_group) -> pd.Series:\n",
    "        new_columns = {}\n",
    "        new_columns['HorseCount'] = race_group['HorseId'].count()\n",
    "        new_columns['KnownHorseCount'] = race_group[race_group['HorseId'].isin(self.__known_runners)]['HorseId'].count()\n",
    "        return pd.Series(new_columns, index=['HorseCount', 'KnownHorseCount']) \n",
    "\n",
    "process_race_data(PreviousRunnerAnalysisRaceDataProcessor())"
   ]
  },
  {
   "cell_type": "markdown",
   "metadata": {},
   "source": [
    "**Conclusions from Step 3**: 26.43 % of races include runners that have not previously run and a significant proportion of those are won by horses we have no prior data about. It is unlikely that we can predict with any accuracy these races given the lack of data.\n",
    "\n",
    "However, this also means that 73.57% of races *do* form a closed data set where we have prior information about races that we can use to inform predictions"
   ]
  },
  {
   "cell_type": "markdown",
   "metadata": {},
   "source": [
    "Step 4: heck to see if we have a closed data set with respect to jockies i.e. give all the previous history we know, how many races include jockies that we have never seen race before? And how many times did those jockies win races?"
   ]
  },
  {
   "cell_type": "code",
   "execution_count": 31,
   "metadata": {},
   "outputs": [
    {
     "name": "stdout",
     "output_type": "stream",
     "text": [
      "Previous runner data for last 30 days / 1651 races:\n",
      "  Total known jockies: 7723\n",
      "  Total unknown jockies: 57 (0.73 %)\n",
      "  Total known winners: 1422\n",
      "  Total unknown winners: 537 (27.41 %)\n",
      "  Races with unknown jockies: 43 (2.54 %)\n",
      "\n"
     ]
    }
   ],
   "source": [
    "class PreviousJockiesAnalysisRaceDataProcessor(RaceDataProcessor):\n",
    "    def initialize(self, history : pd.DataFrame) -> None:\n",
    "        super().initialize(history)\n",
    "        self.__update_jockey_stats()\n",
    "        self.__total_days = 0\n",
    "        self.__total_processed_races = 0\n",
    "        self.__total_known_jockies = 0\n",
    "        self.__total_unknown_jockies = 0\n",
    "        self.__total_winning_known_jockies = 0\n",
    "        self.__total_winning_unknown_jockies = 0\n",
    "        self.__total_races_with_unknown_jockies = 0\n",
    "\n",
    "    def update(self, daily_results : pd.DataFrame) -> None:\n",
    "        self.__total_days += 1\n",
    "        self.__total_processed_races += daily_results['RaceId'].nunique()\n",
    "        unique_jockies = daily_results['JockeyId'].nunique()\n",
    "        known_unique_jockies = daily_results[daily_results['JockeyId'].isin(self.__known_runners)]['JockeyId'].nunique()\n",
    "        self.__total_known_jockies += known_unique_jockies\n",
    "        self.__total_unknown_jockies += unique_jockies - known_unique_jockies\n",
    "        winners = daily_results[daily_results['FinishingPosition'] == 1]\n",
    "        known_winners = winners[winners['JockeyId'].isin(self.__known_runners)]['JockeyId'].nunique()\n",
    "        self.__total_winning_known_jockies += known_winners\n",
    "        self.__total_winning_unknown_jockies += len(winners) - known_winners\n",
    "\n",
    "        races_with_known_jockey_counts = daily_results.groupby('RaceId').apply(lambda df: self.__calculate_counts_for_race_group(df))\n",
    "        races_with_any_unknown_jockies = races_with_known_jockey_counts[races_with_known_jockey_counts[\"JockeyCount\"] != races_with_known_jockey_counts[\"KnownJockeyCount\"]]\n",
    "        self.__total_races_with_unknown_jockies += races_with_any_unknown_jockies.reset_index()['RaceId'].count()\n",
    "\n",
    "    def post_update(self, daily_results : pd.DataFrame) -> None:\n",
    "        super().post_update(daily_results)\n",
    "        self.__update_jockey_stats()\n",
    "\n",
    "    def after_process_data(self) -> None:\n",
    "        percentage_unknown_jockies = 100.0 * self.__total_unknown_jockies / (self.__total_unknown_jockies + self.__total_known_jockies)\n",
    "        percentage_unknown_winners = 100.0 * self.__total_winning_unknown_jockies / (self.__total_winning_unknown_jockies + self.__total_winning_known_jockies)\n",
    "        percentage_races_with_unknown_jockies = 100.0 * self.__total_races_with_unknown_jockies / (self.__total_races_with_unknown_jockies + self.__total_processed_races)\n",
    "        print(\n",
    "            f'Previous runner data for last {self.__total_days} days / {self.__total_processed_races} races:\\n'\n",
    "            f'  Total known jockies: {self.__total_known_jockies}\\n'\n",
    "            f'  Total unknown jockies: {self.__total_unknown_jockies} ({percentage_unknown_jockies:.2f} %)\\n'\n",
    "            f'  Total known winners: {self.__total_winning_known_jockies}\\n'\n",
    "            f'  Total unknown winners: {self.__total_winning_unknown_jockies} ({percentage_unknown_winners:.2f} %)\\n'\n",
    "            f'  Races with unknown jockies: {self.__total_races_with_unknown_jockies} ({percentage_races_with_unknown_jockies:.2f} %)\\n'            \n",
    "            )\n",
    "        pass        \n",
    "\n",
    "    def __update_jockey_stats(self) -> None:\n",
    "        self.__known_runners = self.history['JockeyId'].unique().tolist()\n",
    "\n",
    "    def __calculate_counts_for_race_group(self, race_group) -> pd.Series:\n",
    "        new_columns = {}\n",
    "        new_columns['JockeyCount'] = race_group['JockeyId'].count()\n",
    "        new_columns['KnownJockeyCount'] = race_group[race_group['JockeyId'].isin(self.__known_runners)]['JockeyId'].count()\n",
    "        return pd.Series(new_columns, index=['JockeyCount', 'KnownJockeyCount']) \n",
    "\n",
    "process_race_data(PreviousJockiesAnalysisRaceDataProcessor())"
   ]
  },
  {
   "cell_type": "markdown",
   "metadata": {},
   "source": [
    "**Conclusions from Step 4**: A very small number of races include unknown jockies (2.54%). These races should be excluded from analysis for the same reasons outlined above for races with unknown horses."
   ]
  },
  {
   "cell_type": "code",
   "execution_count": null,
   "metadata": {},
   "outputs": [],
   "source": []
  }
 ],
 "metadata": {
  "interpreter": {
   "hash": "8e284ee3255a07ad8bf76694974743c4c81cb57e7c969474d752d949b11d721e"
  },
  "kernelspec": {
   "display_name": "Python 3.9.13 64-bit",
   "language": "python",
   "name": "python3"
  },
  "language_info": {
   "codemirror_mode": {
    "name": "ipython",
    "version": 3
   },
   "file_extension": ".py",
   "mimetype": "text/x-python",
   "name": "python",
   "nbconvert_exporter": "python",
   "pygments_lexer": "ipython3",
   "version": "3.9.13"
  },
  "orig_nbformat": 4
 },
 "nbformat": 4,
 "nbformat_minor": 2
}
