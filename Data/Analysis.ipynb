{
 "cells": [
  {
   "cell_type": "code",
   "execution_count": 187,
   "metadata": {},
   "outputs": [
    {
     "name": "stdout",
     "output_type": "stream",
     "text": [
      "Requirement already satisfied: numpy in c:\\users\\leeco\\appdata\\local\\packages\\pythonsoftwarefoundation.python.3.9_qbz5n2kfra8p0\\localcache\\local-packages\\python39\\site-packages (1.22.1)\n",
      "Note: you may need to restart the kernel to use updated packages.\n"
     ]
    },
    {
     "name": "stderr",
     "output_type": "stream",
     "text": [
      "WARNING: You are using pip version 22.0.4; however, version 22.1.2 is available.\n",
      "You should consider upgrading via the 'C:\\Users\\leeco\\AppData\\Local\\Microsoft\\WindowsApps\\PythonSoftwareFoundation.Python.3.9_qbz5n2kfra8p0\\python.exe -m pip install --upgrade pip' command.\n"
     ]
    },
    {
     "name": "stdout",
     "output_type": "stream",
     "text": [
      "Requirement already satisfied: Pandas in c:\\users\\leeco\\appdata\\local\\packages\\pythonsoftwarefoundation.python.3.9_qbz5n2kfra8p0\\localcache\\local-packages\\python39\\site-packages (1.4.0)\n",
      "Requirement already satisfied: numpy>=1.18.5 in c:\\users\\leeco\\appdata\\local\\packages\\pythonsoftwarefoundation.python.3.9_qbz5n2kfra8p0\\localcache\\local-packages\\python39\\site-packages (from Pandas) (1.22.1)\n",
      "Requirement already satisfied: python-dateutil>=2.8.1 in c:\\users\\leeco\\appdata\\local\\packages\\pythonsoftwarefoundation.python.3.9_qbz5n2kfra8p0\\localcache\\local-packages\\python39\\site-packages (from Pandas) (2.8.2)\n",
      "Requirement already satisfied: pytz>=2020.1 in c:\\users\\leeco\\appdata\\local\\packages\\pythonsoftwarefoundation.python.3.9_qbz5n2kfra8p0\\localcache\\local-packages\\python39\\site-packages (from Pandas) (2021.3)\n",
      "Requirement already satisfied: six>=1.5 in c:\\users\\leeco\\appdata\\local\\packages\\pythonsoftwarefoundation.python.3.9_qbz5n2kfra8p0\\localcache\\local-packages\\python39\\site-packages (from python-dateutil>=2.8.1->Pandas) (1.16.0)\n",
      "Note: you may need to restart the kernel to use updated packages.\n"
     ]
    },
    {
     "name": "stderr",
     "output_type": "stream",
     "text": [
      "WARNING: You are using pip version 22.0.4; however, version 22.1.2 is available.\n",
      "You should consider upgrading via the 'C:\\Users\\leeco\\AppData\\Local\\Microsoft\\WindowsApps\\PythonSoftwareFoundation.Python.3.9_qbz5n2kfra8p0\\python.exe -m pip install --upgrade pip' command.\n"
     ]
    }
   ],
   "source": [
    "%pip install numpy\n",
    "%pip install Pandas"
   ]
  },
  {
   "cell_type": "code",
   "execution_count": 188,
   "metadata": {},
   "outputs": [],
   "source": [
    "import numpy as np\n",
    "import pandas as pd"
   ]
  },
  {
   "cell_type": "code",
   "execution_count": 189,
   "metadata": {},
   "outputs": [
    {
     "ename": "FileNotFoundError",
     "evalue": "[Errno 2] No such file or directory: 'Results_202112.csv'",
     "output_type": "error",
     "traceback": [
      "\u001b[1;31m---------------------------------------------------------------------------\u001b[0m",
      "\u001b[1;31mFileNotFoundError\u001b[0m                         Traceback (most recent call last)",
      "\u001b[1;32m~\\AppData\\Local\\Temp/ipykernel_10660/60491536.py\u001b[0m in \u001b[0;36m<module>\u001b[1;34m\u001b[0m\n\u001b[0;32m      2\u001b[0m \u001b[1;31m#history = pd.concat([pd.read_csv('Results_202202.csv'), pd.read_csv('Results_202203.csv'), pd.read_csv('Results_202204.csv'), pd.read_csv('Results_202205.csv')])\u001b[0m\u001b[1;33m\u001b[0m\u001b[1;33m\u001b[0m\u001b[0m\n\u001b[0;32m      3\u001b[0m \u001b[1;31m#history = pd.concat([pd.read_csv('Results_202201.csv'), pd.read_csv('Results_202202.csv'), pd.read_csv('Results_202203.csv'), pd.read_csv('Results_202204.csv'), pd.read_csv('Results_202205.csv')])\u001b[0m\u001b[1;33m\u001b[0m\u001b[1;33m\u001b[0m\u001b[0m\n\u001b[1;32m----> 4\u001b[1;33m \u001b[0mhistory\u001b[0m \u001b[1;33m=\u001b[0m \u001b[0mpd\u001b[0m\u001b[1;33m.\u001b[0m\u001b[0mconcat\u001b[0m\u001b[1;33m(\u001b[0m\u001b[1;33m[\u001b[0m\u001b[0mpd\u001b[0m\u001b[1;33m.\u001b[0m\u001b[0mread_csv\u001b[0m\u001b[1;33m(\u001b[0m\u001b[1;34m'Results_202112.csv'\u001b[0m\u001b[1;33m)\u001b[0m\u001b[1;33m,\u001b[0m \u001b[0mpd\u001b[0m\u001b[1;33m.\u001b[0m\u001b[0mread_csv\u001b[0m\u001b[1;33m(\u001b[0m\u001b[1;34m'Results_202201.csv'\u001b[0m\u001b[1;33m)\u001b[0m\u001b[1;33m,\u001b[0m \u001b[0mpd\u001b[0m\u001b[1;33m.\u001b[0m\u001b[0mread_csv\u001b[0m\u001b[1;33m(\u001b[0m\u001b[1;34m'Results_202202.csv'\u001b[0m\u001b[1;33m)\u001b[0m\u001b[1;33m,\u001b[0m \u001b[0mpd\u001b[0m\u001b[1;33m.\u001b[0m\u001b[0mread_csv\u001b[0m\u001b[1;33m(\u001b[0m\u001b[1;34m'Results_202203.csv'\u001b[0m\u001b[1;33m)\u001b[0m\u001b[1;33m,\u001b[0m \u001b[0mpd\u001b[0m\u001b[1;33m.\u001b[0m\u001b[0mread_csv\u001b[0m\u001b[1;33m(\u001b[0m\u001b[1;34m'Results_202204.csv'\u001b[0m\u001b[1;33m)\u001b[0m\u001b[1;33m,\u001b[0m \u001b[0mpd\u001b[0m\u001b[1;33m.\u001b[0m\u001b[0mread_csv\u001b[0m\u001b[1;33m(\u001b[0m\u001b[1;34m'Results_202205.csv'\u001b[0m\u001b[1;33m)\u001b[0m\u001b[1;33m]\u001b[0m\u001b[1;33m)\u001b[0m\u001b[1;33m\u001b[0m\u001b[1;33m\u001b[0m\u001b[0m\n\u001b[0m\u001b[0;32m      5\u001b[0m \u001b[1;33m\u001b[0m\u001b[0m\n\u001b[0;32m      6\u001b[0m \u001b[0mhistory\u001b[0m \u001b[1;33m=\u001b[0m \u001b[0mhistory\u001b[0m\u001b[1;33m[\u001b[0m\u001b[0mhistory\u001b[0m\u001b[1;33m[\u001b[0m\u001b[1;34m'ResultStatus'\u001b[0m\u001b[1;33m]\u001b[0m \u001b[1;33m==\u001b[0m \u001b[1;34m'CompletedRace'\u001b[0m\u001b[1;33m]\u001b[0m\u001b[1;33m\u001b[0m\u001b[1;33m\u001b[0m\u001b[0m\n",
      "\u001b[1;32m~\\AppData\\Local\\Packages\\PythonSoftwareFoundation.Python.3.9_qbz5n2kfra8p0\\LocalCache\\local-packages\\Python39\\site-packages\\pandas\\util\\_decorators.py\u001b[0m in \u001b[0;36mwrapper\u001b[1;34m(*args, **kwargs)\u001b[0m\n\u001b[0;32m    309\u001b[0m                     \u001b[0mstacklevel\u001b[0m\u001b[1;33m=\u001b[0m\u001b[0mstacklevel\u001b[0m\u001b[1;33m,\u001b[0m\u001b[1;33m\u001b[0m\u001b[1;33m\u001b[0m\u001b[0m\n\u001b[0;32m    310\u001b[0m                 )\n\u001b[1;32m--> 311\u001b[1;33m             \u001b[1;32mreturn\u001b[0m \u001b[0mfunc\u001b[0m\u001b[1;33m(\u001b[0m\u001b[1;33m*\u001b[0m\u001b[0margs\u001b[0m\u001b[1;33m,\u001b[0m \u001b[1;33m**\u001b[0m\u001b[0mkwargs\u001b[0m\u001b[1;33m)\u001b[0m\u001b[1;33m\u001b[0m\u001b[1;33m\u001b[0m\u001b[0m\n\u001b[0m\u001b[0;32m    312\u001b[0m \u001b[1;33m\u001b[0m\u001b[0m\n\u001b[0;32m    313\u001b[0m         \u001b[1;32mreturn\u001b[0m \u001b[0mwrapper\u001b[0m\u001b[1;33m\u001b[0m\u001b[1;33m\u001b[0m\u001b[0m\n",
      "\u001b[1;32m~\\AppData\\Local\\Packages\\PythonSoftwareFoundation.Python.3.9_qbz5n2kfra8p0\\LocalCache\\local-packages\\Python39\\site-packages\\pandas\\io\\parsers\\readers.py\u001b[0m in \u001b[0;36mread_csv\u001b[1;34m(filepath_or_buffer, sep, delimiter, header, names, index_col, usecols, squeeze, prefix, mangle_dupe_cols, dtype, engine, converters, true_values, false_values, skipinitialspace, skiprows, skipfooter, nrows, na_values, keep_default_na, na_filter, verbose, skip_blank_lines, parse_dates, infer_datetime_format, keep_date_col, date_parser, dayfirst, cache_dates, iterator, chunksize, compression, thousands, decimal, lineterminator, quotechar, quoting, doublequote, escapechar, comment, encoding, encoding_errors, dialect, error_bad_lines, warn_bad_lines, on_bad_lines, delim_whitespace, low_memory, memory_map, float_precision, storage_options)\u001b[0m\n\u001b[0;32m    678\u001b[0m     \u001b[0mkwds\u001b[0m\u001b[1;33m.\u001b[0m\u001b[0mupdate\u001b[0m\u001b[1;33m(\u001b[0m\u001b[0mkwds_defaults\u001b[0m\u001b[1;33m)\u001b[0m\u001b[1;33m\u001b[0m\u001b[1;33m\u001b[0m\u001b[0m\n\u001b[0;32m    679\u001b[0m \u001b[1;33m\u001b[0m\u001b[0m\n\u001b[1;32m--> 680\u001b[1;33m     \u001b[1;32mreturn\u001b[0m \u001b[0m_read\u001b[0m\u001b[1;33m(\u001b[0m\u001b[0mfilepath_or_buffer\u001b[0m\u001b[1;33m,\u001b[0m \u001b[0mkwds\u001b[0m\u001b[1;33m)\u001b[0m\u001b[1;33m\u001b[0m\u001b[1;33m\u001b[0m\u001b[0m\n\u001b[0m\u001b[0;32m    681\u001b[0m \u001b[1;33m\u001b[0m\u001b[0m\n\u001b[0;32m    682\u001b[0m \u001b[1;33m\u001b[0m\u001b[0m\n",
      "\u001b[1;32m~\\AppData\\Local\\Packages\\PythonSoftwareFoundation.Python.3.9_qbz5n2kfra8p0\\LocalCache\\local-packages\\Python39\\site-packages\\pandas\\io\\parsers\\readers.py\u001b[0m in \u001b[0;36m_read\u001b[1;34m(filepath_or_buffer, kwds)\u001b[0m\n\u001b[0;32m    573\u001b[0m \u001b[1;33m\u001b[0m\u001b[0m\n\u001b[0;32m    574\u001b[0m     \u001b[1;31m# Create the parser.\u001b[0m\u001b[1;33m\u001b[0m\u001b[1;33m\u001b[0m\u001b[0m\n\u001b[1;32m--> 575\u001b[1;33m     \u001b[0mparser\u001b[0m \u001b[1;33m=\u001b[0m \u001b[0mTextFileReader\u001b[0m\u001b[1;33m(\u001b[0m\u001b[0mfilepath_or_buffer\u001b[0m\u001b[1;33m,\u001b[0m \u001b[1;33m**\u001b[0m\u001b[0mkwds\u001b[0m\u001b[1;33m)\u001b[0m\u001b[1;33m\u001b[0m\u001b[1;33m\u001b[0m\u001b[0m\n\u001b[0m\u001b[0;32m    576\u001b[0m \u001b[1;33m\u001b[0m\u001b[0m\n\u001b[0;32m    577\u001b[0m     \u001b[1;32mif\u001b[0m \u001b[0mchunksize\u001b[0m \u001b[1;32mor\u001b[0m \u001b[0miterator\u001b[0m\u001b[1;33m:\u001b[0m\u001b[1;33m\u001b[0m\u001b[1;33m\u001b[0m\u001b[0m\n",
      "\u001b[1;32m~\\AppData\\Local\\Packages\\PythonSoftwareFoundation.Python.3.9_qbz5n2kfra8p0\\LocalCache\\local-packages\\Python39\\site-packages\\pandas\\io\\parsers\\readers.py\u001b[0m in \u001b[0;36m__init__\u001b[1;34m(self, f, engine, **kwds)\u001b[0m\n\u001b[0;32m    931\u001b[0m \u001b[1;33m\u001b[0m\u001b[0m\n\u001b[0;32m    932\u001b[0m         \u001b[0mself\u001b[0m\u001b[1;33m.\u001b[0m\u001b[0mhandles\u001b[0m\u001b[1;33m:\u001b[0m \u001b[0mIOHandles\u001b[0m \u001b[1;33m|\u001b[0m \u001b[1;32mNone\u001b[0m \u001b[1;33m=\u001b[0m \u001b[1;32mNone\u001b[0m\u001b[1;33m\u001b[0m\u001b[1;33m\u001b[0m\u001b[0m\n\u001b[1;32m--> 933\u001b[1;33m         \u001b[0mself\u001b[0m\u001b[1;33m.\u001b[0m\u001b[0m_engine\u001b[0m \u001b[1;33m=\u001b[0m \u001b[0mself\u001b[0m\u001b[1;33m.\u001b[0m\u001b[0m_make_engine\u001b[0m\u001b[1;33m(\u001b[0m\u001b[0mf\u001b[0m\u001b[1;33m,\u001b[0m \u001b[0mself\u001b[0m\u001b[1;33m.\u001b[0m\u001b[0mengine\u001b[0m\u001b[1;33m)\u001b[0m\u001b[1;33m\u001b[0m\u001b[1;33m\u001b[0m\u001b[0m\n\u001b[0m\u001b[0;32m    934\u001b[0m \u001b[1;33m\u001b[0m\u001b[0m\n\u001b[0;32m    935\u001b[0m     \u001b[1;32mdef\u001b[0m \u001b[0mclose\u001b[0m\u001b[1;33m(\u001b[0m\u001b[0mself\u001b[0m\u001b[1;33m)\u001b[0m\u001b[1;33m:\u001b[0m\u001b[1;33m\u001b[0m\u001b[1;33m\u001b[0m\u001b[0m\n",
      "\u001b[1;32m~\\AppData\\Local\\Packages\\PythonSoftwareFoundation.Python.3.9_qbz5n2kfra8p0\\LocalCache\\local-packages\\Python39\\site-packages\\pandas\\io\\parsers\\readers.py\u001b[0m in \u001b[0;36m_make_engine\u001b[1;34m(self, f, engine)\u001b[0m\n\u001b[0;32m   1215\u001b[0m             \u001b[1;31m# \"Union[str, PathLike[str], ReadCsvBuffer[bytes], ReadCsvBuffer[str]]\"\u001b[0m\u001b[1;33m\u001b[0m\u001b[1;33m\u001b[0m\u001b[0m\n\u001b[0;32m   1216\u001b[0m             \u001b[1;31m# , \"str\", \"bool\", \"Any\", \"Any\", \"Any\", \"Any\", \"Any\"\u001b[0m\u001b[1;33m\u001b[0m\u001b[1;33m\u001b[0m\u001b[0m\n\u001b[1;32m-> 1217\u001b[1;33m             self.handles = get_handle(  # type: ignore[call-overload]\n\u001b[0m\u001b[0;32m   1218\u001b[0m                 \u001b[0mf\u001b[0m\u001b[1;33m,\u001b[0m\u001b[1;33m\u001b[0m\u001b[1;33m\u001b[0m\u001b[0m\n\u001b[0;32m   1219\u001b[0m                 \u001b[0mmode\u001b[0m\u001b[1;33m,\u001b[0m\u001b[1;33m\u001b[0m\u001b[1;33m\u001b[0m\u001b[0m\n",
      "\u001b[1;32m~\\AppData\\Local\\Packages\\PythonSoftwareFoundation.Python.3.9_qbz5n2kfra8p0\\LocalCache\\local-packages\\Python39\\site-packages\\pandas\\io\\common.py\u001b[0m in \u001b[0;36mget_handle\u001b[1;34m(path_or_buf, mode, encoding, compression, memory_map, is_text, errors, storage_options)\u001b[0m\n\u001b[0;32m    787\u001b[0m         \u001b[1;32mif\u001b[0m \u001b[0mioargs\u001b[0m\u001b[1;33m.\u001b[0m\u001b[0mencoding\u001b[0m \u001b[1;32mand\u001b[0m \u001b[1;34m\"b\"\u001b[0m \u001b[1;32mnot\u001b[0m \u001b[1;32min\u001b[0m \u001b[0mioargs\u001b[0m\u001b[1;33m.\u001b[0m\u001b[0mmode\u001b[0m\u001b[1;33m:\u001b[0m\u001b[1;33m\u001b[0m\u001b[1;33m\u001b[0m\u001b[0m\n\u001b[0;32m    788\u001b[0m             \u001b[1;31m# Encoding\u001b[0m\u001b[1;33m\u001b[0m\u001b[1;33m\u001b[0m\u001b[0m\n\u001b[1;32m--> 789\u001b[1;33m             handle = open(\n\u001b[0m\u001b[0;32m    790\u001b[0m                 \u001b[0mhandle\u001b[0m\u001b[1;33m,\u001b[0m\u001b[1;33m\u001b[0m\u001b[1;33m\u001b[0m\u001b[0m\n\u001b[0;32m    791\u001b[0m                 \u001b[0mioargs\u001b[0m\u001b[1;33m.\u001b[0m\u001b[0mmode\u001b[0m\u001b[1;33m,\u001b[0m\u001b[1;33m\u001b[0m\u001b[1;33m\u001b[0m\u001b[0m\n",
      "\u001b[1;31mFileNotFoundError\u001b[0m: [Errno 2] No such file or directory: 'Results_202112.csv'"
     ]
    }
   ],
   "source": [
    "#history = pd.concat([pd.read_csv('Results_202203.csv'), pd.read_csv('Results_202204.csv'), pd.read_csv('Results_202205.csv')])\n",
    "#history = pd.concat([pd.read_csv('Results_202202.csv'), pd.read_csv('Results_202203.csv'), pd.read_csv('Results_202204.csv'), pd.read_csv('Results_202205.csv')])\n",
    "#history = pd.concat([pd.read_csv('Results_202201.csv'), pd.read_csv('Results_202202.csv'), pd.read_csv('Results_202203.csv'), pd.read_csv('Results_202204.csv'), pd.read_csv('Results_202205.csv')])\n",
    "history = pd.concat([pd.read_csv('Results_202112.csv'), pd.read_csv('Results_202201.csv'), pd.read_csv('Results_202202.csv'), pd.read_csv('Results_202203.csv'), pd.read_csv('Results_202204.csv'), pd.read_csv('Results_202205.csv')])\n",
    "\n",
    "history = history[history['ResultStatus'] == 'CompletedRace']\n",
    "results = pd.read_csv('ResultsToPredict.csv')\n",
    "results = results[results['ResultStatus'] == 'CompletedRace']\n",
    "results.columns"
   ]
  },
  {
   "cell_type": "code",
   "execution_count": null,
   "metadata": {},
   "outputs": [
    {
     "data": {
      "text/plain": [
       "(419, 65, 15.513126491646778)"
      ]
     },
     "execution_count": 180,
     "metadata": {},
     "output_type": "execute_result"
    }
   ],
   "source": [
    "# Ensure that the majority of horses in the results to be predicted have ran races in the last 3 months of historic results\n",
    "historic_racers = history.groupby(['HorseId']).size().reset_index(name='HistoryCount')\n",
    "results_with_historic_race_counts = pd.merge(results, historic_racers, on='HorseId', how='left').fillna({'HistoryCount': 0})\n",
    "results_with_historic_race_counts[['RaceId', 'HorseId', 'HistoryCount', 'FinishingPosition']].head(10)\n",
    "\n",
    "winners_than_never_previously_raced = len(results_with_historic_race_counts[(results_with_historic_race_counts['HistoryCount'] == 0) & (results_with_historic_race_counts['FinishingPosition'] == 1)])\n",
    "number_of_races = results_with_historic_race_counts['RaceId'].nunique()\n",
    "percentage_of_winners_that_never_raced = (winners_than_never_previously_raced / number_of_races) * 100.0\n",
    "(number_of_races, winners_than_never_previously_raced, percentage_of_winners_that_never_raced)\n",
    "\n",
    "# 3 months = (number_of_races = 419, winners_than_never_previously_raced = 72, percentageOfWinnersThatNeverRaced = 17.18%)\n",
    "# 4 months = (number_of_races = 419, winners_than_never_previously_raced = 68, percentageOfWinnersThatNeverRaced = 16.23%)\n",
    "# 6 months = (number_of_races = 419, winners_than_never_previously_raced = 65, percentageOfWinnersThatNeverRaced = 15.51%)\n",
    "# TODO: Add a check to ensure that the percentage of winners that never raced is less than 10%\n",
    "# TODO: Increase history data so that the percentage of winners that never raced is less than 5%"
   ]
  },
  {
   "cell_type": "code",
   "execution_count": null,
   "metadata": {},
   "outputs": [
    {
     "data": {
      "text/plain": [
       "(419, 155, 259, 259, 5)"
      ]
     },
     "execution_count": 181,
     "metadata": {},
     "output_type": "execute_result"
    }
   ],
   "source": [
    "# Calculate number of races where all runners have previously raced\n",
    "def calculate_race_aggregates(x):\n",
    "    d = {}\n",
    "    d['HorseCount'] = x['HorseId'].count()\n",
    "    d['PreviouslyRanHouseCount'] = x[x['HistoryCount'] > 0]['HorseId'].count()\n",
    "    return pd.Series(d, index=['HorseCount', 'PreviouslyRanHouseCount'])\n",
    "\n",
    "races_with_run_counts = results_with_historic_race_counts.groupby('RaceId').apply(calculate_race_aggregates)\n",
    "races = len(races_with_run_counts)\n",
    "races_where_all_horses_previously_ran = len(races_with_run_counts[races_with_run_counts['HorseCount'] == races_with_run_counts['PreviouslyRanHouseCount']])\n",
    "races_where_80_percent_of_horses_previously_ran = len(races_with_run_counts[races_with_run_counts['PreviouslyRanHouseCount'] > races_with_run_counts['HorseCount'] * 0.8])\n",
    "races_where_50_percent_of_horses_previously_ran = len(races_with_run_counts[races_with_run_counts['PreviouslyRanHouseCount'] > races_with_run_counts['HorseCount'] * 0.5])\n",
    "races_where_no_horses_previously_ran = len(races_with_run_counts[races_with_run_counts['PreviouslyRanHouseCount'] == 0])\n",
    "\n",
    "(races, races_where_all_horses_previously_ran, races_where_80_percent_of_horses_previously_ran, races_where_80_percent_of_horses_previously_ran, races_where_no_horses_previously_ran)\n",
    "#(419, 127, 234, 234, 6)\n",
    "# TODO: Ignore races where predictor accuracy is low (based on logic below)"
   ]
  },
  {
   "cell_type": "code",
   "execution_count": null,
   "metadata": {},
   "outputs": [],
   "source": [
    "def calculate_distance_type(row):\n",
    "    if row['DistanceInMeters'] < 1300:\n",
    "        return 'VeryShort'\n",
    "    elif row['DistanceInMeters'] < 1700:\n",
    "        return 'Short'\n",
    "    elif row['DistanceInMeters'] < 3000:\n",
    "        return 'Medium'\n",
    "    elif row['DistanceInMeters'] < 4000:        \n",
    "        return 'Long'\n",
    "    else:\n",
    "        return 'VeryLong'\n",
    "\n",
    "history['DistanceType'] = history.apply(calculate_distance_type, axis=1)\n",
    "results['DistanceType'] = results.apply(calculate_distance_type, axis=1)"
   ]
  },
  {
   "cell_type": "code",
   "execution_count": null,
   "metadata": {},
   "outputs": [],
   "source": [
    "def calculate_average_speed_over_previous_races(x):\n",
    "    d = {}\n",
    "    d['RacesRan'] = x['HorseId'].count()\n",
    "    d['TotalDistanceInMeters'] = x['DistanceInMeters'].sum()\n",
    "    d['TotalTimeInSeconds'] = x['RaceTimeInSeconds'].sum()\n",
    "    d['AverageSpeed'] = d['TotalDistanceInMeters'] / d['TotalTimeInSeconds']\n",
    "    return pd.Series(d, index=['RacesRan', 'TotalDistanceInMeters', 'TotalTimeInSeconds', 'AverageSpeed'])\n",
    "\n",
    "average_speeds = history.groupby(['HorseId', 'HorseName', 'RaceType', 'DistanceType', 'Going']).apply(calculate_average_speed_over_previous_races)"
   ]
  },
  {
   "cell_type": "code",
   "execution_count": null,
   "metadata": {},
   "outputs": [],
   "source": [
    "average_speeds.sort_values('RacesRan')\n",
    "results_with_speeds = pd.merge(results, average_speeds, how='left', on=['HorseId', 'RaceType', 'DistanceType', 'Going'])\n",
    "results_with_speeds['AverageSpeed'] = results_with_speeds['AverageSpeed'].fillna(0)"
   ]
  },
  {
   "cell_type": "code",
   "execution_count": null,
   "metadata": {},
   "outputs": [
    {
     "data": {
      "text/plain": [
       "(419, 10, 26, 26, 340, 79)"
      ]
     },
     "execution_count": 185,
     "metadata": {},
     "output_type": "execute_result"
    }
   ],
   "source": [
    "def calculate_speed_race_aggregates(x):\n",
    "    d = {}\n",
    "    d['HorseCount'] = x['HorseId'].count()\n",
    "    d['PreviouslyRanOnSimilarCourseCount'] = x[x['AverageSpeed'] > 0]['HorseId'].count()\n",
    "    return pd.Series(d, index=['HorseCount', 'PreviouslyRanOnSimilarCourseCount'])\n",
    "\n",
    "races_with_speed_counts = results_with_speeds.groupby('RaceId').apply(calculate_speed_race_aggregates)\n",
    "\n",
    "races = len(races_with_speed_counts)\n",
    "races_where_all_horses_previously_ran = len(races_with_speed_counts[races_with_speed_counts['HorseCount'] == races_with_speed_counts['PreviouslyRanOnSimilarCourseCount']])\n",
    "races_where_80_percent_of_horses_previously_ran = len(races_with_speed_counts[races_with_speed_counts['PreviouslyRanOnSimilarCourseCount'] > races_with_speed_counts['HorseCount'] * 0.8])\n",
    "races_where_50_percent_of_horses_previously_ran = len(races_with_speed_counts[races_with_speed_counts['PreviouslyRanOnSimilarCourseCount'] > races_with_speed_counts['HorseCount'] * 0.5])\n",
    "races_where_at_least_one_horses_previously_ran = len(races_with_speed_counts[races_with_speed_counts['PreviouslyRanOnSimilarCourseCount'] > 0])\n",
    "races_where_no_horses_previously_ran = len(races_with_speed_counts[races_with_speed_counts['PreviouslyRanOnSimilarCourseCount'] == 0])\n",
    "\n",
    "(races, races_where_all_horses_previously_ran, races_where_80_percent_of_horses_previously_ran, races_where_80_percent_of_horses_previously_ran,\n",
    " races_where_at_least_one_horses_previously_ran, races_where_no_horses_previously_ran)\n",
    "# 3 months = (419, 7, 21, 21, 334, 85)\n",
    "# 4 months = (419, 8, 22, 22, 337, 82)\n",
    "# 5 months = (419, 10, 26, 26, 340, 79)\n",
    "# 6 months = (419, 10, 26, 26, 340, 79)\n",
    "# TODO: Ignore races where no horses have previously run on a similar track"
   ]
  },
  {
   "cell_type": "code",
   "execution_count": null,
   "metadata": {},
   "outputs": [
    {
     "data": {
      "text/plain": [
       "(168,\n",
       " 64,\n",
       " 38.095238095238095,\n",
       " 168,\n",
       " 412.4861111111111,\n",
       " 104,\n",
       " 308.4861111111111,\n",
       " 1.8362268518518516)"
      ]
     },
     "execution_count": 186,
     "metadata": {},
     "output_type": "execute_result"
    }
   ],
   "source": [
    "# Predict outcomes of races where at least one horse has run on a previously similar track\n",
    "pd.options.display.max_rows = 500\n",
    "selected_races = races_with_speed_counts[races_with_speed_counts['PreviouslyRanOnSimilarCourseCount'] > 0].reset_index()\n",
    "race_list = selected_races['RaceId'].tolist()\n",
    "races_to_predict = results_with_speeds[results_with_speeds['RaceId'].isin(race_list) & results_with_speeds['AverageSpeed'] > 0]\n",
    "\n",
    "predictions = races_to_predict.sort_values(['RaceId', 'AverageSpeed'], ascending=False).groupby(['RaceId']).cumcount() + 1\n",
    "races_to_predict = races_to_predict.assign(PredictedPosition=predictions)\n",
    "correct_predictions = races_to_predict[(races_to_predict['FinishingPosition'] == 1) & (races_to_predict['PredictedPosition'] == 1)]\n",
    "\n",
    "# correct_predictions[['RaceId', 'CourseId', 'HorseId', 'FinishingPosition', 'AverageSpeed', 'PredictedPosition', 'DecimalOdds', 'FractionalOdds']].head(500)\n",
    "predictable_races = len(races_to_predict[races_to_predict['FinishingPosition'] == 1])\n",
    "correctly_predicted = len(correct_predictions)\n",
    "incorrectly_predicted = predictable_races - correctly_predicted\n",
    "percentage_predicted_correctly = correctly_predicted / predictable_races * 100\n",
    "\n",
    "# Calculate winnings and losses based on a £1 bet on each race\n",
    "stake_per_race = 1\n",
    "stake = predictable_races * stake_per_race\n",
    "losses = incorrectly_predicted * stake_per_race\n",
    "winnings = correct_predictions['DecimalOdds'].sum() * stake_per_race\n",
    "profit_loss = winnings - losses\n",
    "percentage_gains = profit_loss / stake \n",
    "\n",
    "(predictable_races, correctly_predicted, percentage_predicted_correctly, stake, winnings, losses, profit_loss, percentage_gains)\n",
    "\n",
    "# 3 months = (161, 61, 37.8%, 161, 391.58, 100, 291.58, 1.81)\n",
    "# 4 months = (164, 62, 37.8%, 164, 399.79, 102, 297.79, 1.82)\n",
    "# 5 months = (168, 64, 38.0%, 168, 412.48, 104, 308.48, 1.83)\n",
    "# 6 months = (168, 64, 38.0%, 168, 412.48, 104, 308.48, 1.83) -- SAME AS 5 MONTHS"
   ]
  }
 ],
 "metadata": {
  "interpreter": {
   "hash": "8e284ee3255a07ad8bf76694974743c4c81cb57e7c969474d752d949b11d721e"
  },
  "kernelspec": {
   "display_name": "Python 3.9.13 64-bit",
   "language": "python",
   "name": "python3"
  },
  "language_info": {
   "codemirror_mode": {
    "name": "ipython",
    "version": 3
   },
   "file_extension": ".py",
   "mimetype": "text/x-python",
   "name": "python",
   "nbconvert_exporter": "python",
   "pygments_lexer": "ipython3",
   "version": "3.9.13"
  },
  "orig_nbformat": 4
 },
 "nbformat": 4,
 "nbformat_minor": 2
}
