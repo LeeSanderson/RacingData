{
 "cells": [
  {
   "cell_type": "code",
   "execution_count": 13,
   "metadata": {},
   "outputs": [],
   "source": [
    "# %pip install --quiet --upgrade pip \n",
    "# %pip install numpy --quiet\n",
    "# %pip install Pandas --quiet\n",
    "# %pip install sklearn --quiet\n",
    "# %pip install ipywidgets --quiet"
   ]
  },
  {
   "cell_type": "markdown",
   "metadata": {},
   "source": [
    "# Jockey Racing Stats Builder #\n",
    "\n",
    "Using the data derived from the features extracted by the [Feature Analysis](https://github.com/LeeSanderson/RacingData/blob/main/Data/FeatureAnalysis.ipynb) notebook, create a database (CSV file) of Jockey stats."
   ]
  },
  {
   "cell_type": "code",
   "execution_count": 14,
   "metadata": {},
   "outputs": [],
   "source": [
    "import numpy as np\n",
    "import pandas as pd\n",
    "import math\n",
    "from abc import ABC, abstractmethod\n",
    "from datetime import datetime, date"
   ]
  },
  {
   "cell_type": "code",
   "execution_count": 15,
   "metadata": {},
   "outputs": [],
   "source": [
    "races = pd.read_csv(\"Race_Features.csv\")\n",
    "races['Off'] =  pd.to_datetime(races['Off'], format='%Y-%m-%d %H:%M:%S')\n",
    "races = races[races[\"JockeyId\"] > 0]"
   ]
  },
  {
   "cell_type": "code",
   "execution_count": 16,
   "metadata": {},
   "outputs": [],
   "source": [
    "races = races.sort_values([\"JockeyId\", \"Off\"], ascending=[True, False])\n",
    "jockey_races = races.groupby(\"JockeyId\").first().reset_index()"
   ]
  },
  {
   "cell_type": "code",
   "execution_count": 17,
   "metadata": {},
   "outputs": [
    {
     "data": {
      "text/plain": [
       "Index(['JockeyId', 'RaceId', 'CourseId', 'RaceType', 'Off', 'DecimalOdds',\n",
       "       'OfficialRating', 'RacingPostRating', 'TopSpeedRating',\n",
       "       'DistanceInMeters', 'Going', 'Surface', 'HorseId', 'HorseName',\n",
       "       'JockeyName', 'Age', 'HeadGear', 'RaceCardNumber', 'StallNumber',\n",
       "       'WeightInPounds', 'FinishingPosition', 'OverallBeatenDistance',\n",
       "       'RaceTimeInSeconds', 'Wins', 'Surface_AllWeather', 'Surface_Dirt',\n",
       "       'Surface_Turf', 'Going_Firm', 'Going_Good', 'Going_Good_To_Firm',\n",
       "       'Going_Good_To_Soft', 'Going_Heavy', 'Going_Soft', 'RaceType_Flat',\n",
       "       'RaceType_Hurdle', 'RaceType_Other', 'RaceType_SteepleChase', 'Speed',\n",
       "       'HorseCount', 'KnownHorseAndJockey', 'NumberOfPriorRaces',\n",
       "       'LastRaceGoing', 'LastRaceSurface', 'LastRaceDistanceInMeters',\n",
       "       'LastRaceWeightInPounds', 'LastRaceSpeed', 'DaysRested',\n",
       "       'LastRaceDecimalOdds', 'LastRaceOfficialRating',\n",
       "       'LastRaceRacingPostRating', 'LastRaceTopSpeedRating',\n",
       "       'LastRaceAvgRelFinishingPosition', 'LastRaceSurface_AllWeather',\n",
       "       'LastRaceSurface_Dirt', 'LastRaceSurface_Turf', 'LastRaceGoing_Good',\n",
       "       'LastRaceGoing_Good_To_Soft', 'LastRaceGoing_Soft',\n",
       "       'LastRaceGoing_Good_To_Firm', 'LastRaceGoing_Firm',\n",
       "       'LastRaceGoing_Heavy', 'LastRaceRaceType_Other',\n",
       "       'LastRaceRaceType_Hurdle', 'LastRaceRaceType_SteepleChase',\n",
       "       'LastRaceRaceType_Flat', 'JockeyNumberOfPriorRaces',\n",
       "       'DaysSinceJockeyLastRaced', 'JockeyWinPercentage',\n",
       "       'JockeyTop3Percentage', 'JockeyAvgRelFinishingPosition'],\n",
       "      dtype='object')"
      ]
     },
     "execution_count": 17,
     "metadata": {},
     "output_type": "execute_result"
    }
   ],
   "source": [
    "jockey_races.columns"
   ]
  },
  {
   "cell_type": "code",
   "execution_count": 18,
   "metadata": {},
   "outputs": [],
   "source": [
    "jockey_races[\"NumberOfWins\"] = (jockey_races[\"JockeyWinPercentage\"] * jockey_races[\"JockeyNumberOfPriorRaces\"]).fillna(0)\n",
    "jockey_races[\"NumberOfTop3Finishes\"] = (jockey_races[\"JockeyTop3Percentage\"] * jockey_races[\"JockeyNumberOfPriorRaces\"]).fillna(0)"
   ]
  },
  {
   "cell_type": "code",
   "execution_count": 19,
   "metadata": {},
   "outputs": [],
   "source": [
    "jockey_races[\"NumberOfWins\"] = jockey_races[\"NumberOfWins\"] + (jockey_races[\"FinishingPosition\"] == 1).astype(int)\n",
    "jockey_races[\"NumberOfTop3Finishes\"] = jockey_races[\"NumberOfTop3Finishes\"] + (jockey_races[\"FinishingPosition\"] < 4).astype(int)"
   ]
  },
  {
   "cell_type": "code",
   "execution_count": 20,
   "metadata": {},
   "outputs": [],
   "source": [
    "jockey_races[\"JockeyNumberOfPriorRaces\"] = jockey_races[\"JockeyNumberOfPriorRaces\"].fillna(0)\n",
    "jockey_races[\"AvgRelFinishingPosition\"] = (((jockey_races[\"JockeyAvgRelFinishingPosition\"] * jockey_races[\"JockeyNumberOfPriorRaces\"]) \n",
    "                                          + (jockey_races[\"FinishingPosition\"] / jockey_races[\"HorseCount\"])) / (jockey_races[\"JockeyNumberOfPriorRaces\"] + 1))\n",
    "\n",
    "jockey_races[\"AvgRelFinishingPosition\"] = jockey_races[\"AvgRelFinishingPosition\"].fillna((jockey_races[\"FinishingPosition\"] / jockey_races[\"HorseCount\"]))\n",
    "jockey_races[\"JockeyNumberOfPriorRaces\"] = jockey_races[\"JockeyNumberOfPriorRaces\"] + 1\n",
    "jockey_races[\"JockeyWinPercentage\"] = jockey_races[\"NumberOfWins\"] / jockey_races[\"JockeyNumberOfPriorRaces\"]\n",
    "jockey_races[\"JockeyTop3Percentage\"] = jockey_races[\"NumberOfTop3Finishes\"] / jockey_races[\"JockeyNumberOfPriorRaces\"]\n"
   ]
  },
  {
   "cell_type": "code",
   "execution_count": 21,
   "metadata": {},
   "outputs": [],
   "source": [
    "# jockey_races[[\"JockeyId\", \"JockeyName\", \"JockeyWinPercentage\", \"JockeyTop3Percentage\", \"AvgRelFinishingPosition\", \"JockeyAvgRelFinishingPosition\", \"FinishingPosition\", \"HorseCount\", \"JockeyNumberOfPriorRaces\"]]"
   ]
  },
  {
   "cell_type": "code",
   "execution_count": 22,
   "metadata": {},
   "outputs": [],
   "source": [
    "jockey_stats = jockey_races[[\n",
    "        'JockeyId', \n",
    "        'Off', \n",
    "        'JockeyNumberOfPriorRaces',\n",
    "        'JockeyWinPercentage', \n",
    "        'JockeyTop3Percentage',\n",
    "        'AvgRelFinishingPosition']].rename(columns={'Off': 'LastOff', 'AvgRelFinishingPosition': 'JockeyAvgRelFinishingPosition' })"
   ]
  },
  {
   "cell_type": "code",
   "execution_count": 23,
   "metadata": {},
   "outputs": [],
   "source": [
    "jockey_stats.to_csv(\"Jockey_Stats.csv\", index=False)"
   ]
  }
 ],
 "metadata": {
  "kernelspec": {
   "display_name": "Python 3",
   "language": "python",
   "name": "python3"
  },
  "language_info": {
   "codemirror_mode": {
    "name": "ipython",
    "version": 3
   },
   "file_extension": ".py",
   "mimetype": "text/x-python",
   "name": "python",
   "nbconvert_exporter": "python",
   "pygments_lexer": "ipython3",
   "version": "3.12.2"
  },
  "orig_nbformat": 4
 },
 "nbformat": 4,
 "nbformat_minor": 2
}
