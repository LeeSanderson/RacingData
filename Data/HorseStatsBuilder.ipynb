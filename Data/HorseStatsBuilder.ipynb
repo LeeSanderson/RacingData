{
 "cells": [
  {
   "cell_type": "code",
   "execution_count": 43,
   "metadata": {},
   "outputs": [
    {
     "name": "stdout",
     "output_type": "stream",
     "text": [
      "Note: you may need to restart the kernel to use updated packages.\n",
      "Note: you may need to restart the kernel to use updated packages.\n",
      "Note: you may need to restart the kernel to use updated packages.\n",
      "Note: you may need to restart the kernel to use updated packages.\n",
      "Note: you may need to restart the kernel to use updated packages.\n"
     ]
    }
   ],
   "source": [
    "%pip install --quiet --upgrade pip \n",
    "%pip install numpy --quiet\n",
    "%pip install Pandas --quiet\n",
    "%pip install sklearn --quiet\n",
    "%pip install ipywidgets --quiet"
   ]
  },
  {
   "cell_type": "markdown",
   "metadata": {},
   "source": [
    "# Horse Racing Stats Builder #\n",
    "\n",
    "Using the data derived from the features extracted by the [Feature Analysis](https://github.com/LeeSanderson/RacingData/blob/main/Data/FeatureAnalysis.ipynb) notebook, create a database (CSV file) of Horse stats."
   ]
  },
  {
   "cell_type": "code",
   "execution_count": 44,
   "metadata": {},
   "outputs": [],
   "source": [
    "import numpy as np\n",
    "import pandas as pd\n",
    "import math\n",
    "from abc import ABC, abstractmethod\n",
    "from datetime import datetime, date"
   ]
  },
  {
   "cell_type": "code",
   "execution_count": 45,
   "metadata": {},
   "outputs": [],
   "source": [
    "races = pd.read_csv(\"Race_Features.csv\")\n",
    "races['Off'] =  pd.to_datetime(races['Off'], format='%Y-%m-%d %H:%M:%S')"
   ]
  },
  {
   "cell_type": "code",
   "execution_count": 46,
   "metadata": {},
   "outputs": [],
   "source": [
    "races = races.sort_values([\"HorseId\", \"Off\"], ascending=[True, False])\n",
    "horse_races = races.groupby(\"HorseId\").apply(lambda g: g.head(1))"
   ]
  },
  {
   "cell_type": "code",
   "execution_count": 47,
   "metadata": {},
   "outputs": [],
   "source": [
    "horse_races[\"NumberOfPriorRaces\"] = horse_races[\"NumberOfPriorRaces\"].fillna(0)\n",
    "horse_races[\"AvgRelFinishingPosition\"] = (((horse_races[\"LastRaceAvgRelFinishingPosition\"] * horse_races[\"NumberOfPriorRaces\"]) \n",
    "                                          + (horse_races[\"FinishingPosition\"] / horse_races[\"HorseCount\"])) / (horse_races[\"NumberOfPriorRaces\"] + 1))\n",
    "\n",
    "horse_races[\"AvgRelFinishingPosition\"] = horse_races[\"AvgRelFinishingPosition\"].fillna((horse_races[\"FinishingPosition\"] / horse_races[\"HorseCount\"]))\n",
    "horse_races[\"NumberOfPriorRaces\"] = horse_races[\"NumberOfPriorRaces\"] + 1\n"
   ]
  },
  {
   "cell_type": "code",
   "execution_count": 48,
   "metadata": {},
   "outputs": [],
   "source": [
    "# horse_races[[\"HorseId\", \"AvgRelFinishingPosition\", \"LastRaceAvgRelFinishingPosition\", \"FinishingPosition\", \"HorseCount\", \"NumberOfPriorRaces\"]]"
   ]
  },
  {
   "cell_type": "code",
   "execution_count": 49,
   "metadata": {},
   "outputs": [],
   "source": [
    "horse_stats = horse_races[[\n",
    "        'HorseId', \n",
    "        'Off', \n",
    "        'DistanceInMeters', \n",
    "        'WeightInPounds',\n",
    "        'AvgRelFinishingPosition', \n",
    "        'Surface_AllWeather', 'Surface_Dirt', 'Surface_Turf', \n",
    "        'Going_Firm', 'Going_Good', 'Going_Good_To_Firm', 'Going_Good_To_Soft', 'Going_Heavy','Going_Soft', \n",
    "        'RaceType_Flat', 'RaceType_Hurdle', 'RaceType_Other', 'RaceType_SteepleChase', \n",
    "        'Speed']].rename(columns={\n",
    "            'Off': 'LastOff',\n",
    "            'DistanceInMeters': 'LastRaceDistanceInMeters', \n",
    "            'WeightInPounds': 'LastRaceWeightInPounds',\n",
    "            'AvgRelFinishingPosition': 'LastRaceAvgRelFinishingPosition', \n",
    "            'Surface_AllWeather': 'LastRaceSurface_AllWeather', \n",
    "            'Surface_Dirt': 'LastRaceSurface_Dirt', \n",
    "            'Surface_Turf': 'LastRaceSurface_Turf', \n",
    "            'Going_Firm': 'LastRaceGoing_Firm', \n",
    "            'Going_Good': 'LastRaceGoing_Good', \n",
    "            'Going_Good_To_Firm': 'LastRaceGoing_Good_To_Firm', \n",
    "            'Going_Good_To_Soft': 'LastRaceGoing_Good_To_Soft', \n",
    "            'Going_Heavy': 'LastRaceGoing_Heavy',\n",
    "            'Going_Soft': 'LastRaceGoing_Soft', \n",
    "            'RaceType_Flat': 'LastRaceRaceType_Flat', \n",
    "            'RaceType_Hurdle': 'LastRaceRaceType_Hurdle', \n",
    "            'RaceType_Other': 'LastRaceRaceType_Other', \n",
    "            'RaceType_SteepleChase': 'LastRaceRaceType_SteepleChase', \n",
    "            'Speed': 'LastRaceSpeed'\n",
    "        })"
   ]
  },
  {
   "cell_type": "code",
   "execution_count": 50,
   "metadata": {},
   "outputs": [],
   "source": [
    "horse_stats.to_csv(\"Horse_Stats.csv\", index=False)"
   ]
  }
 ],
 "metadata": {
  "kernelspec": {
   "display_name": "Python 3",
   "language": "python",
   "name": "python3"
  },
  "language_info": {
   "codemirror_mode": {
    "name": "ipython",
    "version": 3
   },
   "file_extension": ".py",
   "mimetype": "text/x-python",
   "name": "python",
   "nbconvert_exporter": "python",
   "pygments_lexer": "ipython3",
   "version": "3.9.13"
  },
  "orig_nbformat": 4
 },
 "nbformat": 4,
 "nbformat_minor": 2
}
