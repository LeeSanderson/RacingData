{
 "cells": [
  {
   "cell_type": "code",
   "execution_count": null,
   "metadata": {},
   "outputs": [],
   "source": [
    "%pip install --quiet --upgrade pip \n",
    "%pip install numpy --quiet\n",
    "%pip install Pandas --quiet\n",
    "%pip install sklearn --quiet\n",
    "%pip install ipywidgets --quiet"
   ]
  },
  {
   "cell_type": "markdown",
   "metadata": {},
   "source": [
    "# Horse Racing Results Predictor using Linear regression #\n",
    "\n",
    "Use simple linear regression techniques to determine if we can reliably predict the **speed** of a horse in a given race based on its previous performance. \n",
    "\n",
    "Data used here is derived from the features extracted by the [Feature Analysis](https://github.com/LeeSanderson/RacingData/blob/main/Data/FeatureAnalysis.ipynb) notebook."
   ]
  },
  {
   "cell_type": "code",
   "execution_count": null,
   "metadata": {},
   "outputs": [],
   "source": [
    "import numpy as np\n",
    "import pandas as pd\n",
    "import math\n",
    "from abc import ABC, abstractmethod\n",
    "from datetime import datetime, date"
   ]
  },
  {
   "cell_type": "code",
   "execution_count": null,
   "metadata": {},
   "outputs": [],
   "source": [
    "races = pd.read_csv(\"Race_Features.csv\")\n",
    "races['Off'] =  pd.to_datetime(races['Off'], format='%Y-%m-%d %H:%M:%S')\n",
    "races.columns"
   ]
  },
  {
   "cell_type": "code",
   "execution_count": null,
   "metadata": {},
   "outputs": [],
   "source": [
    "pd.set_option('display.max_rows', 500)\n",
    "pd.set_option('display.max_columns', 500)\n",
    "\n",
    "race_info = ['RaceId', 'CourseId', 'Off', 'HorseId', 'HorseName', 'HorseCount', 'JockeyId', 'JockeyName', 'DecimalOdds', 'Wins', 'FinishingPosition']\n",
    "predictors = ([\n",
    "    'DistanceInMeters', \n",
    "    'WeightInPounds', \n",
    "    'Surface_AllWeather', 'Surface_Dirt', 'Surface_Turf', \n",
    "    'Going_Firm', 'Going_Good', 'Going_Good_To_Firm', 'Going_Good_To_Soft', 'Going_Heavy', 'Going_Soft', \n",
    "    'RaceType_Flat', 'RaceType_Hurdle', 'RaceType_Other', 'RaceType_SteepleChase', \n",
    "\n",
    "    'LastRaceDistanceInMeters', \n",
    "    'LastRaceWeightInPounds', \n",
    "    'LastRaceSpeed',\n",
    "    'DaysRested',\n",
    "    'LastRaceAvgRelFinishingPosition', \n",
    "    'LastRaceSurface_AllWeather', 'LastRaceSurface_Dirt', 'LastRaceSurface_Turf', \n",
    "    'LastRaceGoing_Good', 'LastRaceGoing_Good_To_Soft', 'LastRaceGoing_Soft', 'LastRaceGoing_Good_To_Firm', 'LastRaceGoing_Firm', 'LastRaceGoing_Heavy', \n",
    "    'LastRaceRaceType_Other', 'LastRaceRaceType_Hurdle', 'LastRaceRaceType_SteepleChase', 'LastRaceRaceType_Flat', \n",
    "    \n",
    "    'JockeyNumberOfPriorRaces',\n",
    "    'DaysSinceJockeyLastRaced',     \n",
    "    'JockeyWinPercentage',\n",
    "    'JockeyTop3Percentage',\n",
    "    'JockeyAvgRelFinishingPosition'\n",
    "    ])\n",
    "prediction = [\"Speed\"]\n",
    "\n",
    "train = races[race_info + predictors + prediction].dropna().copy()"
   ]
  },
  {
   "cell_type": "code",
   "execution_count": null,
   "metadata": {},
   "outputs": [],
   "source": [
    "# Cap rested days\n",
    "train.loc[train[\"DaysRested\"] > 10, \"DaysRested\"] = 10\n",
    "train.loc[train[\"DaysSinceJockeyLastRaced\"] > 10, \"DaysSinceJockeyLastRaced\"] = 10\n",
    "\n",
    "# Cap prior races\n",
    "# train.loc[train[\"JockeyNumberOfPriorRaces\"] > 400] = 400 (negative effect)\n",
    "\n",
    "train[predictors].describe()"
   ]
  },
  {
   "cell_type": "code",
   "execution_count": null,
   "metadata": {},
   "outputs": [],
   "source": [
    "# Now that we've dropped any rows with na values, calculate which races in which we can predict the speed for all horses.\n",
    "train = train.drop(\"PredictableHorseCount\", axis=1, errors='ignore')\n",
    "groups = train.groupby(['RaceId']).apply(lambda g: pd.Series({'PredictableHorseCount': g['RaceId'].count()}, index=['PredictableHorseCount']))\n",
    "train = pd.merge(train, groups, how='left', on=['RaceId'])\n",
    "\n",
    "# 50% of races have 11 horse, 25% have 8 or less, 14% have 6 or less, 9% have 5 or less. Fewer horses should be more predictable\n",
    "all_races_count = len(races[\"RaceId\"].unique())\n",
    "all_predictable = train[(train[\"HorseCount\"] == train[\"PredictableHorseCount\"]) & (train[\"HorseCount\"] <= 5)][\"RaceId\"].unique().tolist()\n",
    "all_predictable_count = len(all_predictable)\n",
    "print(f\"Possible predictable races = {all_predictable_count} out of {all_races_count} ({all_predictable_count * 100 / all_races_count}%)\")"
   ]
  },
  {
   "cell_type": "code",
   "execution_count": null,
   "metadata": {},
   "outputs": [],
   "source": [
    "from sklearn.model_selection import train_test_split\n",
    "\n",
    "_, test_race_ids = train_test_split(all_predictable, test_size=0.2, random_state = 42)\n",
    "\n",
    "test = train[train[\"RaceId\"].isin(test_race_ids)]\n",
    "train = train[train[\"RaceId\"].isin(test_race_ids) == False]"
   ]
  },
  {
   "cell_type": "code",
   "execution_count": null,
   "metadata": {},
   "outputs": [],
   "source": [
    "from sklearn.linear_model import LinearRegression\n",
    "from sklearn.preprocessing import StandardScaler\n",
    "from sklearn.preprocessing import PolynomialFeatures\n",
    "from sklearn.pipeline import make_pipeline\n",
    "\n",
    "# Create a pipeline that includes feature scaling and linear regression\n",
    "model = make_pipeline(StandardScaler(), PolynomialFeatures(degree=2, interaction_only=False), LinearRegression())"
   ]
  },
  {
   "cell_type": "code",
   "execution_count": null,
   "metadata": {},
   "outputs": [],
   "source": [
    "#help(model.fit)"
   ]
  },
  {
   "cell_type": "code",
   "execution_count": null,
   "metadata": {},
   "outputs": [],
   "source": [
    "inputs = train[predictors]\n",
    "targets = train[prediction[0]].values\n",
    "\n",
    "# print(inputs.shape)\n",
    "# print(targets.shape)"
   ]
  },
  {
   "cell_type": "code",
   "execution_count": null,
   "metadata": {},
   "outputs": [],
   "source": [
    "model.fit(inputs, targets)\n",
    "test_inputs = test[predictors]\n",
    "predictions = model.predict(test_inputs)"
   ]
  },
  {
   "cell_type": "code",
   "execution_count": null,
   "metadata": {},
   "outputs": [],
   "source": [
    "test_with_predictions = test.copy()\n",
    "test_with_predictions[\"PredictedSpeed\"] = predictions"
   ]
  },
  {
   "cell_type": "code",
   "execution_count": null,
   "metadata": {},
   "outputs": [],
   "source": [
    "test_with_predictions[\"PredictedRank\"] = test_with_predictions.groupby(\"RaceId\")[\"PredictedSpeed\"].rank(method=\"dense\", ascending=False)"
   ]
  },
  {
   "cell_type": "code",
   "execution_count": null,
   "metadata": {},
   "outputs": [],
   "source": [
    "test_with_predictions[[\"RaceId\", \"HorseId\", \"HorseName\", \"FinishingPosition\", \"PredictedRank\", \"Speed\", \"PredictedSpeed\"]].head()"
   ]
  },
  {
   "cell_type": "code",
   "execution_count": null,
   "metadata": {},
   "outputs": [],
   "source": [
    "correct_winners = test_with_predictions[(test_with_predictions[\"FinishingPosition\"] == 1) & (test_with_predictions[\"PredictedRank\"] == 1)]\n",
    "\n",
    "correct_winners_count = len(correct_winners)\n",
    "incorrect_winners_count = len(test_with_predictions[(test_with_predictions[\"FinishingPosition\"] == 1) & (test_with_predictions[\"PredictedRank\"] != 1)])\n",
    "\n",
    "winnings = correct_winners[\"DecimalOdds\"].sum()\n",
    "\n",
    "print(f\"Correct winners {correct_winners_count}, Incorrect winners {incorrect_winners_count}\")\n",
    "print(f\"Win percentage {100.0 * correct_winners_count / incorrect_winners_count}\")\n",
    "print(f\"Winnings {winnings}, losses {incorrect_winners_count}, diff  {winnings - incorrect_winners_count}\")"
   ]
  },
  {
   "cell_type": "code",
   "execution_count": null,
   "metadata": {},
   "outputs": [],
   "source": [
    "# Base = 23.3630494927759\n",
    "# PolynomialFeatures(degree=2, interaction_only=True) = 25.01557632398754\n",
    "# With PolynomialFeatures(degree=2, interaction_only=False) = 25.13252260679763\n",
    "# With rest days capped =  25.210608424336975\n",
    "# with max 11 horses in race = 28.612597776862906 (£467)\n",
    "# with max 8 horses in race = 31.598513011152416 (£336)\n",
    "# with max 6 horses in race = 38.113207547169814 (£343)\n",
    "# with max 5 horses in race = 47.77777777777778 (£269)"
   ]
  }
 ],
 "metadata": {
  "kernelspec": {
   "display_name": "Python 3",
   "language": "python",
   "name": "python3"
  },
  "language_info": {
   "codemirror_mode": {
    "name": "ipython",
    "version": 3
   },
   "file_extension": ".py",
   "mimetype": "text/x-python",
   "name": "python",
   "nbconvert_exporter": "python",
   "pygments_lexer": "ipython3",
   "version": "3.9.13"
  },
  "orig_nbformat": 4
 },
 "nbformat": 4,
 "nbformat_minor": 2
}
